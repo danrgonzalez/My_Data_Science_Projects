{
 "cells": [
  {
   "cell_type": "code",
   "execution_count": 1,
   "metadata": {
    "collapsed": false
   },
   "outputs": [],
   "source": [
    "import PyPDF2\n",
    "import spacy\n",
    "from spacy.en import English\n",
    "from spacy import attrs\n",
    "import numpy as np\n",
    "\n",
    "parser = English()"
   ]
  },
  {
   "cell_type": "code",
   "execution_count": 2,
   "metadata": {
    "collapsed": false
   },
   "outputs": [
    {
     "name": "stdout",
     "output_type": "stream",
     "text": [
      "1067102\n",
      "1004314\n"
     ]
    }
   ],
   "source": [
    "pdfList = []\n",
    "for i in range(1,26):\n",
    "    pdfList.append(str(i)+\".PDF\")\n",
    "\n",
    "text = []\n",
    "for pdf in pdfList:\n",
    "    with open(pdf, 'rb') as pdfFileObj:\n",
    "        pdfReader = PyPDF2.PdfFileReader(pdfFileObj)\n",
    "        for page in range(1,pdfReader.getNumPages()):\n",
    "            pageObj = pdfReader.getPage(page)\n",
    "            text.append(pageObj.extractText())\n",
    "\n",
    "docTrain1 = ' '.join(text) #combine all pages into a String doc\n",
    "print (len(docTrain1))\n",
    "\n",
    "text = [] \n",
    "with open('HungerGames.pdf', 'rb') as pdfFileObj:\n",
    "    pdfReader = PyPDF2.PdfFileReader(pdfFileObj)\n",
    "    for page in range(1,pdfReader.getNumPages()):\n",
    "        pageObj = pdfReader.getPage(page)\n",
    "        text.append(pageObj.extractText())\n",
    "\n",
    "with open('HarryPotter.pdf', 'rb') as pdfFileObj:\n",
    "    pdfReader = PyPDF2.PdfFileReader(pdfFileObj)\n",
    "    for page in range(1,pdfReader.getNumPages()):\n",
    "        pageObj = pdfReader.getPage(page)\n",
    "        text.append(pageObj.extractText())\n",
    "        \n",
    "docTrain0 = ' '.join(text) #combine all pages into a String doc\n",
    "print (len(docTrain0))"
   ]
  },
  {
   "cell_type": "code",
   "execution_count": 3,
   "metadata": {
    "collapsed": false
   },
   "outputs": [
    {
     "name": "stdout",
     "output_type": "stream",
     "text": [
      "8946\n",
      "17310\n"
     ]
    }
   ],
   "source": [
    "parsedData = parser(docTrain1)\n",
    "\n",
    "sents1 = []\n",
    "for span in parsedData.sents:\n",
    "    sent = ''.join(parsedData[i].string for i in range(span.start, span.end)).strip()\n",
    "    sents1.append(sent)\n",
    "print (len(sents1))\n",
    "\n",
    "parsedData = parser(docTrain0)\n",
    "\n",
    "sents0 = []\n",
    "for span in parsedData.sents:\n",
    "    sent = ''.join(parsedData[i].string for i in range(span.start, span.end)).strip()\n",
    "    sents0.append(sent)\n",
    "print (len(sents0))"
   ]
  },
  {
   "cell_type": "code",
   "execution_count": 4,
   "metadata": {
    "collapsed": true
   },
   "outputs": [],
   "source": [
    "from sklearn.feature_extraction.text import CountVectorizer\n",
    "from sklearn.base import TransformerMixin\n",
    "from sklearn.pipeline import Pipeline\n",
    "from sklearn.svm import LinearSVC\n",
    "from sklearn.feature_extraction.stop_words import ENGLISH_STOP_WORDS\n",
    "from sklearn.metrics import accuracy_score\n",
    "from sklearn.decomposition import TruncatedSVD\n",
    "from nltk.corpus import stopwords\n",
    "import string\n",
    "import re\n",
    "\n",
    "# A custom stoplist\n",
    "STOPLIST = set(stopwords.words('english') + [\"n't\", \"'s\", \"'m\", \"ca\"] + list(ENGLISH_STOP_WORDS))\n",
    "# List of symbols we don't care about\n",
    "SYMBOLS = \" \".join(string.punctuation).split(\" \") + [\"-----\", \"---\", \"...\", \"“\", \"”\", \"'ve\"]"
   ]
  },
  {
   "cell_type": "code",
   "execution_count": 5,
   "metadata": {
    "collapsed": false
   },
   "outputs": [],
   "source": [
    "# Every step in a pipeline needs to be a \"transformer\". \n",
    "# Define a custom transformer to clean text using spaCy\n",
    "class CleanTextTransformer(TransformerMixin):\n",
    "    \"\"\"\n",
    "    Convert text to cleaned text\n",
    "    \"\"\"\n",
    "    def transform(self, X, **transform_params):\n",
    "        return [cleanText(text) for text in X]\n",
    "\n",
    "    def fit(self, X, y=None, **fit_params):\n",
    "        return self\n",
    "        \n",
    "    def get_params(self, deep=True):\n",
    "        return {}\n",
    "\n",
    "# A custom function to clean the text before sending it into the vectorizer, called by Transformer\n",
    "def cleanText(text):\n",
    "    # get rid of newlines\n",
    "    text = text.strip().replace(\"\\n\", \" \").replace(\"\\r\", \" \")\n",
    "    \n",
    "    # replace twitter @mentions\n",
    "    mentionFinder = re.compile(r\"@[a-z0-9_]{1,15}\", re.IGNORECASE)\n",
    "    text = mentionFinder.sub(\"@MENTION\", text)\n",
    "    \n",
    "    # replace HTML symbols\n",
    "    text = text.replace(\"&amp;\", \"and\").replace(\"&gt;\", \">\").replace(\"&lt;\", \"<\")\n",
    "    \n",
    "    # lowercase\n",
    "    text = text.lower()\n",
    "    \n",
    "    return text\n",
    "\n",
    "# A custom function to tokenize the text using spaCy\n",
    "# and convert to lemmas\n",
    "def tokenizeText(sample):\n",
    "\n",
    "    # get the tokens using spaCy\n",
    "    tokens = parser(sample)\n",
    "\n",
    "    # lemmatize\n",
    "    lemmas = []\n",
    "    for tok in tokens:\n",
    "        lemmas.append(tok.lemma_.lower().strip() if tok.lemma_ != \"-PRON-\" else tok.lower_)\n",
    "    tokens = lemmas\n",
    "    \n",
    "    # stoplist the tokens\n",
    "    tokens = [tok for tok in tokens if tok not in STOPLIST]\n",
    "\n",
    "    # stoplist symbols\n",
    "    tokens = [tok for tok in tokens if tok not in SYMBOLS]\n",
    "    \n",
    "    # remove large strings of whitespace\n",
    "    while \"\" in tokens:\n",
    "        tokens.remove(\"\")\n",
    "    while \" \" in tokens:\n",
    "        tokens.remove(\" \")\n",
    "    while \"\\n\" in tokens:\n",
    "        tokens.remove(\"\\n\")\n",
    "    while \"\\n\\n\" in tokens:\n",
    "        tokens.remove(\"\\n\\n\")\n",
    "    \n",
    "    return tokens"
   ]
  },
  {
   "cell_type": "code",
   "execution_count": 6,
   "metadata": {
    "collapsed": false
   },
   "outputs": [],
   "source": [
    "# define training data\n",
    "train = sents1+sents0\n",
    "\n",
    "labelsTrain = []\n",
    "for i in range(0,len(train)):\n",
    "    if (i < len(sents1)):\n",
    "        labelsTrain.append(1)\n",
    "    else:\n",
    "        labelsTrain.append(0)"
   ]
  },
  {
   "cell_type": "code",
   "execution_count": 27,
   "metadata": {
    "collapsed": false
   },
   "outputs": [
    {
     "name": "stdout",
     "output_type": "stream",
     "text": [
      "20\n",
      "20\n"
     ]
    }
   ],
   "source": [
    "# define test data\n",
    "test = [\"Plaintiffs failed to establish\",\n",
    "        \"challenged statutes violate equal protection\",\n",
    "        \"I just want to eat a hamburger\", \n",
    "        \"this is just another sentence\", \n",
    "        \"the quick brown fox jumped\",\n",
    "        \"courts and statutes\", \n",
    "        \"over the lazy dog\",\n",
    "        \"what time is the party\",\n",
    "        \"what are my legal rights\",\n",
    "        \"due process in civil court\",\n",
    "        \"what time is it\",\n",
    "        \"let's run to the park and have fun\",\n",
    "        \"let's add come complexity to this sentence\",\n",
    "        \"What would be a good test\",\n",
    "        \"who in the world knows all about\",\n",
    "        \"I will be getting home late today\",\n",
    "        \"the plaintiff alleges that the defendant\",\n",
    "        \"Three more sentences to go here\",\n",
    "        \"let's hurry up so we can go home\",\n",
    "        \"she went to court today and\"]\n",
    "labelsTest = [1, 1, 0, 0, 0, 1, 0, 0, 0, 1, 0, 0, 0, 0, 0, 0, 1, 0, 0, 0]\n",
    "\n",
    "print (len(test))\n",
    "print (len(labelsTest))"
   ]
  },
  {
   "cell_type": "code",
   "execution_count": 8,
   "metadata": {
    "collapsed": true
   },
   "outputs": [],
   "source": [
    "# the vectorizer and classifer to use\n",
    "# note that I changed the tokenizer in CountVectorizer to use a custom function using spaCy's tokenizer\n",
    "vectorizer = CountVectorizer(tokenizer=tokenizeText, ngram_range=(1,4))\n",
    "lsa = TruncatedSVD(100, algorithm = 'randomized')\n",
    "clf = LinearSVC()\n",
    "# the pipeline to clean, tokenize, vectorize, and classify\n",
    "pipe = Pipeline([('cleanText', CleanTextTransformer()), ('vectorizer', vectorizer),('clf', clf)])"
   ]
  },
  {
   "cell_type": "code",
   "execution_count": 9,
   "metadata": {
    "collapsed": false
   },
   "outputs": [
    {
     "data": {
      "text/plain": [
       "Pipeline(steps=[('cleanText', <__main__.CleanTextTransformer object at 0x1808d66a0>), ('vectorizer', CountVectorizer(analyzer='word', binary=False, decode_error='strict',\n",
       "        dtype=<class 'numpy.int64'>, encoding='utf-8', input='content',\n",
       "        lowercase=True, max_df=1.0, max_features=None, min_df=1,\n",
       " ...ax_iter=1000,\n",
       "     multi_class='ovr', penalty='l2', random_state=None, tol=0.0001,\n",
       "     verbose=0))])"
      ]
     },
     "execution_count": 9,
     "metadata": {},
     "output_type": "execute_result"
    }
   ],
   "source": [
    "# train\n",
    "pipe.fit(train, labelsTrain)"
   ]
  },
  {
   "cell_type": "code",
   "execution_count": 28,
   "metadata": {
    "collapsed": false
   },
   "outputs": [
    {
     "name": "stdout",
     "output_type": "stream",
     "text": [
      "Plaintiffs failed to establish : 1\n",
      "challenged statutes violate equal protection : 1\n",
      "I just want to eat a hamburger : 0\n",
      "this is just another sentence : 0\n",
      "the quick brown fox jumped : 0\n",
      "courts and statutes : 1\n",
      "over the lazy dog : 0\n",
      "what time is the party : 0\n",
      "what are my legal rights : 0\n",
      "due process in civil court : 1\n",
      "what time is it : 0\n",
      "let's run to the park and have fun : 0\n",
      "let's add come complexity to this sentence : 0\n",
      "What would be a good test : 0\n",
      "who in the world knows all about : 0\n",
      "I will be getting home late today : 0\n",
      "the plaintiff alleges that the defendant : 1\n",
      "Three more sentences to go here : 0\n",
      "let's hurry up so we can go home : 0\n",
      "she went to court today and : 1\n",
      "\n",
      " Accuracy: 0.95\n"
     ]
    }
   ],
   "source": [
    "# test\n",
    "preds = pipe.predict(test)\n",
    "\n",
    "for (sample, pred) in zip(test, preds):\n",
    "    print(sample, \":\", pred)\n",
    "\n",
    "print(\"\\n\",\"Accuracy:\", accuracy_score(labelsTest, preds))"
   ]
  },
  {
   "cell_type": "markdown",
   "metadata": {
    "collapsed": true
   },
   "source": [
    "# GET TWITTER DATA"
   ]
  },
  {
   "cell_type": "code",
   "execution_count": 11,
   "metadata": {
    "collapsed": false
   },
   "outputs": [],
   "source": [
    "import pandas as pd\n",
    "import tweepy\n",
    "import json\n",
    "import cnfg\n",
    "from os.path import expanduser\n",
    "\n",
    "home = expanduser(\"~\")\n",
    "config = cnfg.load(home + \"/.twitter_config\")\n",
    "\n",
    "auth = tweepy.OAuthHandler(config[\"consumer_key\"],\n",
    "                           config[\"consumer_secret\"])\n",
    "auth.set_access_token(config[\"access_token\"],\n",
    "                      config[\"access_token_secret\"])\n",
    "\n",
    "api=tweepy.API(auth)"
   ]
  },
  {
   "cell_type": "code",
   "execution_count": 42,
   "metadata": {
    "collapsed": true
   },
   "outputs": [],
   "source": [
    "def structure_results(results, handle):\n",
    "    id_list = [tweet.id for tweet in results]\n",
    "    data = pd.DataFrame(id_list,columns=['id'])\n",
    "    \n",
    "    data[\"Handle\"] = handle\n",
    "    data[\"Text\"] = [tweet.text for tweet in results]\n",
    "    data[\"Datetime\"] = [tweet.created_at for tweet in results]\n",
    "    data[\"Location\"] = [tweet.place for tweet in results]\n",
    "    \n",
    "    return data\n",
    "\n",
    "# Replace https...with empty string\n",
    "def httpRemove(text):\n",
    "    if re.search('https?:\\/\\/.*[\\r\\n]*', text):\n",
    "        return re.sub('https?:\\/\\/.*[\\r\\n]*', '', text).strip()\n",
    "    else:\n",
    "        return text\n",
    "\n",
    "# Replace @.... with empty string\n",
    "def atRemove(text):\n",
    "    if re.search('@([\\w.-]+)', text):\n",
    "        return re.sub('@([\\w.-]+)', '', text).strip()\n",
    "    else:\n",
    "        return text\n",
    "\n",
    "# Replace #.... with empty string\n",
    "def hashRemove(text):\n",
    "    if re.search('#([\\w.-]+)', text):\n",
    "        return re.sub('#([\\w.-]+)', '', text).strip()\n",
    "    else:\n",
    "        return text\n",
    "\n",
    "def toPandas(userText, preds):\n",
    "    id_list=[i for i in range(0,len(preds))]\n",
    "    data=pd.DataFrame(id_list,columns=['tweet_id'])\n",
    "    \n",
    "    data[\"text\"]= [tweet for tweet in userText]\n",
    "    data[\"Prediction\"] = [prediction for prediction in preds]\n",
    "\n",
    "    return data"
   ]
  },
  {
   "cell_type": "code",
   "execution_count": null,
   "metadata": {
    "collapsed": false
   },
   "outputs": [],
   "source": [
    "import time\n",
    "handles = ['NinaTotenberg', 'justinbieber', 'LeoDiCaprio', 'espn','EricHolder','Snowden','jimmykimmel','realDonaldTrump']\n",
    "#handles = ['NinaTotenberg']\n",
    "\n",
    "frames = []\n",
    "for handle in handles:\n",
    "    tweets = tweepy.Cursor(api.user_timeline,id=handle).items(1000)\n",
    "    results = []\n",
    "    print (handle)\n",
    "    for tweet in tweets:\n",
    "        results.append(tweet)\n",
    "    \n",
    "    data = structure_results(results, handle)\n",
    "    frames.append(data)\n",
    "    time.sleep(1)"
   ]
  },
  {
   "cell_type": "code",
   "execution_count": 132,
   "metadata": {
    "collapsed": true
   },
   "outputs": [],
   "source": [
    "alldata = pd.concat(frames)"
   ]
  },
  {
   "cell_type": "code",
   "execution_count": 133,
   "metadata": {
    "collapsed": false
   },
   "outputs": [],
   "source": [
    "alldata[\"text_no_https\"] = alldata.Text.apply(httpRemove)\n",
    "\n",
    "alldata[\"text_no_https_at\"] = alldata.text_no_https.apply(atRemove)\n",
    "\n",
    "alldata[\"text_no_https_at_hash\"] = alldata.text_no_https_at.apply(hashRemove)"
   ]
  },
  {
   "cell_type": "code",
   "execution_count": 134,
   "metadata": {
    "collapsed": false
   },
   "outputs": [],
   "source": [
    "userText = []\n",
    "for text in alldata.text_no_https_at_hash:\n",
    "    userText.append(text)"
   ]
  },
  {
   "cell_type": "code",
   "execution_count": 135,
   "metadata": {
    "collapsed": false
   },
   "outputs": [],
   "source": [
    "# test\n",
    "preds = pipe.predict(userText)"
   ]
  },
  {
   "cell_type": "code",
   "execution_count": 136,
   "metadata": {
    "collapsed": false
   },
   "outputs": [],
   "source": [
    "alldata['Prediction'] = [p for p in preds]"
   ]
  },
  {
   "cell_type": "code",
   "execution_count": 137,
   "metadata": {
    "collapsed": false
   },
   "outputs": [
    {
     "name": "stdout",
     "output_type": "stream",
     "text": [
      "NinaTotenberg 0.459357277883\n",
      "justinbieber 0.173\n",
      "LeoDiCaprio 0.178410794603\n",
      "espn 0.258\n",
      "EricHolder 0.337209302326\n"
     ]
    }
   ],
   "source": [
    "pd.set_option('max_colwidth', 120)\n",
    "\n",
    "alldata['Rating'] = 0\n",
    "for handle in alldata.Handle.unique():\n",
    "    rating = alldata[alldata['Handle'] == handle].Prediction.sum()/alldata[alldata['Handle'] == handle].Prediction.count()\n",
    "    print (handle, rating)\n",
    "    alldata.loc[alldata['Handle'] == handle,'Rating'] = rating"
   ]
  },
  {
   "cell_type": "code",
   "execution_count": 150,
   "metadata": {
    "collapsed": false
   },
   "outputs": [
    {
     "data": {
      "text/html": [
       "<div>\n",
       "<table border=\"1\" class=\"dataframe\">\n",
       "  <thead>\n",
       "    <tr style=\"text-align: right;\">\n",
       "      <th></th>\n",
       "      <th>id</th>\n",
       "      <th>Handle</th>\n",
       "      <th>Text</th>\n",
       "      <th>Datetime</th>\n",
       "      <th>Location</th>\n",
       "      <th>text_no_https</th>\n",
       "      <th>text_no_https_at</th>\n",
       "      <th>text_no_https_at_hash</th>\n",
       "      <th>Prediction</th>\n",
       "      <th>Rating</th>\n",
       "    </tr>\n",
       "  </thead>\n",
       "  <tbody>\n",
       "    <tr>\n",
       "      <th>0</th>\n",
       "      <td>738369861181546496</td>\n",
       "      <td>NinaTotenberg</td>\n",
       "      <td>SG Donald Verrilli stepping down after 5 yrs of historic #SCOTUS arguments, from Obamacare to same-sex marriage. htt...</td>\n",
       "      <td>2016-06-02 14:01:07</td>\n",
       "      <td>None</td>\n",
       "      <td>SG Donald Verrilli stepping down after 5 yrs of historic #SCOTUS arguments, from Obamacare to same-sex marriage.</td>\n",
       "      <td>SG Donald Verrilli stepping down after 5 yrs of historic #SCOTUS arguments, from Obamacare to same-sex marriage.</td>\n",
       "      <td>SG Donald Verrilli stepping down after 5 yrs of historic  arguments, from Obamacare to same-sex marriage.</td>\n",
       "      <td>1</td>\n",
       "      <td>0.459357</td>\n",
       "    </tr>\n",
       "    <tr>\n",
       "      <th>1</th>\n",
       "      <td>737749855993466880</td>\n",
       "      <td>NinaTotenberg</td>\n",
       "      <td>Amid prickly dissents from right and left  #SCOTUS weighs In on 2 death penalty cases https://t.co/4u11eqr8yI</td>\n",
       "      <td>2016-05-31 20:57:27</td>\n",
       "      <td>None</td>\n",
       "      <td>Amid prickly dissents from right and left  #SCOTUS weighs In on 2 death penalty cases</td>\n",
       "      <td>Amid prickly dissents from right and left  #SCOTUS weighs In on 2 death penalty cases</td>\n",
       "      <td>Amid prickly dissents from right and left   weighs In on 2 death penalty cases</td>\n",
       "      <td>1</td>\n",
       "      <td>0.459357</td>\n",
       "    </tr>\n",
       "    <tr>\n",
       "      <th>2</th>\n",
       "      <td>737705151679598592</td>\n",
       "      <td>NinaTotenberg</td>\n",
       "      <td>SCOTUS declines to hear #Trump Resorts bankruptcy case that stripped workers of health insurance &amp;amp; pension benef...</td>\n",
       "      <td>2016-05-31 17:59:48</td>\n",
       "      <td>None</td>\n",
       "      <td>SCOTUS declines to hear #Trump Resorts bankruptcy case that stripped workers of health insurance &amp;amp; pension benef...</td>\n",
       "      <td>SCOTUS declines to hear #Trump Resorts bankruptcy case that stripped workers of health insurance &amp;amp; pension benef...</td>\n",
       "      <td>SCOTUS declines to hear  Resorts bankruptcy case that stripped workers of health insurance &amp;amp; pension benefits.</td>\n",
       "      <td>1</td>\n",
       "      <td>0.459357</td>\n",
       "    </tr>\n",
       "    <tr>\n",
       "      <th>3</th>\n",
       "      <td>735550431049486336</td>\n",
       "      <td>NinaTotenberg</td>\n",
       "      <td>Are Justices #Alito and #Thomas sore losers? Interesting perspective: https://t.co/ibt0DLwUhw</td>\n",
       "      <td>2016-05-25 19:17:43</td>\n",
       "      <td>None</td>\n",
       "      <td>Are Justices #Alito and #Thomas sore losers? Interesting perspective:</td>\n",
       "      <td>Are Justices #Alito and #Thomas sore losers? Interesting perspective:</td>\n",
       "      <td>Are Justices  and  sore losers? Interesting perspective:</td>\n",
       "      <td>0</td>\n",
       "      <td>0.459357</td>\n",
       "    </tr>\n",
       "    <tr>\n",
       "      <th>4</th>\n",
       "      <td>735158217752346624</td>\n",
       "      <td>NinaTotenberg</td>\n",
       "      <td>Your legal affairs queen isn’t always serious. She’s also a dancing queen. https://t.co/1nHpqFdzPh @washingtonpost h...</td>\n",
       "      <td>2016-05-24 17:19:12</td>\n",
       "      <td>None</td>\n",
       "      <td>Your legal affairs queen isn’t always serious. She’s also a dancing queen.</td>\n",
       "      <td>Your legal affairs queen isn’t always serious. She’s also a dancing queen.</td>\n",
       "      <td>Your legal affairs queen isn’t always serious. She’s also a dancing queen.</td>\n",
       "      <td>0</td>\n",
       "      <td>0.459357</td>\n",
       "    </tr>\n",
       "  </tbody>\n",
       "</table>\n",
       "</div>"
      ],
      "text/plain": [
       "                   id         Handle  \\\n",
       "0  738369861181546496  NinaTotenberg   \n",
       "1  737749855993466880  NinaTotenberg   \n",
       "2  737705151679598592  NinaTotenberg   \n",
       "3  735550431049486336  NinaTotenberg   \n",
       "4  735158217752346624  NinaTotenberg   \n",
       "\n",
       "                                                                                                                      Text  \\\n",
       "0  SG Donald Verrilli stepping down after 5 yrs of historic #SCOTUS arguments, from Obamacare to same-sex marriage. htt...   \n",
       "1            Amid prickly dissents from right and left  #SCOTUS weighs In on 2 death penalty cases https://t.co/4u11eqr8yI   \n",
       "2  SCOTUS declines to hear #Trump Resorts bankruptcy case that stripped workers of health insurance &amp; pension benef...   \n",
       "3                            Are Justices #Alito and #Thomas sore losers? Interesting perspective: https://t.co/ibt0DLwUhw   \n",
       "4  Your legal affairs queen isn’t always serious. She’s also a dancing queen. https://t.co/1nHpqFdzPh @washingtonpost h...   \n",
       "\n",
       "             Datetime Location  \\\n",
       "0 2016-06-02 14:01:07     None   \n",
       "1 2016-05-31 20:57:27     None   \n",
       "2 2016-05-31 17:59:48     None   \n",
       "3 2016-05-25 19:17:43     None   \n",
       "4 2016-05-24 17:19:12     None   \n",
       "\n",
       "                                                                                                             text_no_https  \\\n",
       "0         SG Donald Verrilli stepping down after 5 yrs of historic #SCOTUS arguments, from Obamacare to same-sex marriage.   \n",
       "1                                    Amid prickly dissents from right and left  #SCOTUS weighs In on 2 death penalty cases   \n",
       "2  SCOTUS declines to hear #Trump Resorts bankruptcy case that stripped workers of health insurance &amp; pension benef...   \n",
       "3                                                    Are Justices #Alito and #Thomas sore losers? Interesting perspective:   \n",
       "4                                               Your legal affairs queen isn’t always serious. She’s also a dancing queen.   \n",
       "\n",
       "                                                                                                          text_no_https_at  \\\n",
       "0         SG Donald Verrilli stepping down after 5 yrs of historic #SCOTUS arguments, from Obamacare to same-sex marriage.   \n",
       "1                                    Amid prickly dissents from right and left  #SCOTUS weighs In on 2 death penalty cases   \n",
       "2  SCOTUS declines to hear #Trump Resorts bankruptcy case that stripped workers of health insurance &amp; pension benef...   \n",
       "3                                                    Are Justices #Alito and #Thomas sore losers? Interesting perspective:   \n",
       "4                                               Your legal affairs queen isn’t always serious. She’s also a dancing queen.   \n",
       "\n",
       "                                                                                                text_no_https_at_hash  \\\n",
       "0           SG Donald Verrilli stepping down after 5 yrs of historic  arguments, from Obamacare to same-sex marriage.   \n",
       "1                                      Amid prickly dissents from right and left   weighs In on 2 death penalty cases   \n",
       "2  SCOTUS declines to hear  Resorts bankruptcy case that stripped workers of health insurance &amp; pension benefits.   \n",
       "3                                                            Are Justices  and  sore losers? Interesting perspective:   \n",
       "4                                          Your legal affairs queen isn’t always serious. She’s also a dancing queen.   \n",
       "\n",
       "   Prediction    Rating  \n",
       "0           1  0.459357  \n",
       "1           1  0.459357  \n",
       "2           1  0.459357  \n",
       "3           0  0.459357  \n",
       "4           0  0.459357  "
      ]
     },
     "execution_count": 150,
     "metadata": {},
     "output_type": "execute_result"
    }
   ],
   "source": [
    "alldata.head()"
   ]
  },
  {
   "cell_type": "code",
   "execution_count": 138,
   "metadata": {
    "collapsed": false
   },
   "outputs": [],
   "source": [
    "alldata.to_pickle('test')"
   ]
  },
  {
   "cell_type": "code",
   "execution_count": 145,
   "metadata": {
    "collapsed": false
   },
   "outputs": [
    {
     "name": "stdout",
     "output_type": "stream",
     "text": [
      "NinaTotenberg 0.459357277883\n",
      "justinbieber 0.173\n",
      "LeoDiCaprio 0.178410794603\n",
      "espn 0.258\n",
      "EricHolder 0.337209302326\n"
     ]
    }
   ],
   "source": [
    "idList = []\n",
    "r = []\n",
    "for handle in alldata.Handle.unique():\n",
    "    print (handle, alldata[alldata['Handle'] == handle].Rating[0])\n",
    "    \n",
    "    idList.append(handle)\n",
    "    r.append(alldata[alldata['Handle'] == handle].Rating[0])\n",
    "\n",
    "smallDataframe = pd.DataFrame(idList,columns=['Handle'])\n",
    "smallDataframe[\"Rating\"] = r"
   ]
  },
  {
   "cell_type": "code",
   "execution_count": 148,
   "metadata": {
    "collapsed": false
   },
   "outputs": [
    {
     "data": {
      "text/html": [
       "<div>\n",
       "<table border=\"1\" class=\"dataframe\">\n",
       "  <thead>\n",
       "    <tr style=\"text-align: right;\">\n",
       "      <th></th>\n",
       "      <th>Handle</th>\n",
       "      <th>Rating</th>\n",
       "    </tr>\n",
       "  </thead>\n",
       "  <tbody>\n",
       "    <tr>\n",
       "      <th>0</th>\n",
       "      <td>NinaTotenberg</td>\n",
       "      <td>0.459357</td>\n",
       "    </tr>\n",
       "    <tr>\n",
       "      <th>4</th>\n",
       "      <td>EricHolder</td>\n",
       "      <td>0.337209</td>\n",
       "    </tr>\n",
       "    <tr>\n",
       "      <th>3</th>\n",
       "      <td>espn</td>\n",
       "      <td>0.258000</td>\n",
       "    </tr>\n",
       "    <tr>\n",
       "      <th>2</th>\n",
       "      <td>LeoDiCaprio</td>\n",
       "      <td>0.178411</td>\n",
       "    </tr>\n",
       "    <tr>\n",
       "      <th>1</th>\n",
       "      <td>justinbieber</td>\n",
       "      <td>0.173000</td>\n",
       "    </tr>\n",
       "  </tbody>\n",
       "</table>\n",
       "</div>"
      ],
      "text/plain": [
       "          Handle    Rating\n",
       "0  NinaTotenberg  0.459357\n",
       "4     EricHolder  0.337209\n",
       "3           espn  0.258000\n",
       "2    LeoDiCaprio  0.178411\n",
       "1   justinbieber  0.173000"
      ]
     },
     "execution_count": 148,
     "metadata": {},
     "output_type": "execute_result"
    }
   ],
   "source": [
    "smallDataframe = smallDataframe.sort_values('Rating', ascending = False)\n",
    "smallDataframe"
   ]
  },
  {
   "cell_type": "code",
   "execution_count": 149,
   "metadata": {
    "collapsed": true
   },
   "outputs": [],
   "source": [
    "smallDataframe.to_pickle('summary')"
   ]
  },
  {
   "cell_type": "code",
   "execution_count": 159,
   "metadata": {
    "collapsed": false
   },
   "outputs": [
    {
     "data": {
      "text/plain": [
       "<matplotlib.axes._subplots.AxesSubplot at 0x1876b8470>"
      ]
     },
     "execution_count": 159,
     "metadata": {},
     "output_type": "execute_result"
    },
    {
     "data": {
      "image/png": "[encoded data removed]",
      "text/plain": [
       "<matplotlib.figure.Figure at 0x188ed7630>"
      ]
     },
     "metadata": {},
     "output_type": "display_data"
    }
   ],
   "source": [
    "import seaborn as sns\n",
    "\n",
    "sns.barplot(smallDataframe['Handle'],smallDataframe['Rating'])"
   ]
  },
  {
   "cell_type": "code",
   "execution_count": null,
   "metadata": {
    "collapsed": true
   },
   "outputs": [],
   "source": []
  }
 ],
 "metadata": {
  "kernelspec": {
   "display_name": "Python 3",
   "language": "python",
   "name": "python3"
  },
  "language_info": {
   "codemirror_mode": {
    "name": "ipython",
    "version": 3
   },
   "file_extension": ".py",
   "mimetype": "text/x-python",
   "name": "python",
   "nbconvert_exporter": "python",
   "pygments_lexer": "ipython3",
   "version": "3.5.1"
  }
 },
 "nbformat": 4,
 "nbformat_minor": 0
}
