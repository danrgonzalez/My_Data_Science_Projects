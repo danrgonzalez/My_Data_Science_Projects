{
 "cells": [
  {
   "cell_type": "markdown",
   "metadata": {},
   "source": [
    "<img src=\"CRISP-DM_Process_Diagram.png\" width=\"30%\" align=\"right\">\n",
    "\n",
    "# Legalese Detection and Rating\n",
    "\n",
    "The first half of this notebook builds an NLP model trained on California Court Decisions to detect legalese. This is essentially a supervised binary classification problem, where the goal is to detect text resembling legalese.\n",
    "\n",
    "The second half of this notebook takes the model and applies it to user timelines on Twitter. As expected, legal correspondents like NPR's Nina Totenberg score higher on the model than individuals who are not associated with the legal community.\n",
    "\n",
    "This notebook is organized according to the Cross Industry Standard Process for Data Mining (CRISP-DM) framework:\n",
    "\n",
    "https://en.wikipedia.org/wiki/Cross_Industry_Standard_Process_for_Data_Mining"
   ]
  },
  {
   "cell_type": "markdown",
   "metadata": {},
   "source": [
    "## POTENTIAL APPLICATIONS - User Segmentation\n",
    "\n",
    "As shown below, the Model can be applied to any text, in this case Twitter user timelines, which show that the model can adequately detect and thus identify individuals who are most associated with the legal community. \n",
    "\n",
    "Thus, given other genres of text, we can build classification models to quickly assess text genres and as a results, group like-minded individuals. "
   ]
  },
  {
   "cell_type": "markdown",
   "metadata": {},
   "source": [
    "## DATA SOURCES\n",
    "\n",
    "To train the NLP model, recent (June 2016) California Court Decisions were gathered and treated as the legalese text. To train the non-legalese portion, text from the Hunger Games and Harry Potter was used. Approximately 1 Million words from each class is gathered to build the models. "
   ]
  },
  {
   "cell_type": "markdown",
   "metadata": {},
   "source": [
    "## DATA PREPARATION"
   ]
  },
  {
   "cell_type": "code",
   "execution_count": 1,
   "metadata": {
    "collapsed": false
   },
   "outputs": [],
   "source": [
    "# Importing libraries to read PDF court documents\n",
    "# SpaCy is a very-fast NLP parser in comparisong to python's NLTK and text-blob\n",
    "import PyPDF2\n",
    "import spacy\n",
    "from spacy.en import English\n",
    "from spacy import attrs\n",
    "import numpy as np\n",
    "\n",
    "parser = English()"
   ]
  },
  {
   "cell_type": "markdown",
   "metadata": {},
   "source": [
    "### Loading court documents and non-legalese text. \n",
    "#### Assumptions:\n",
    " - California Supreme Court Decision Documents = Legalese (class: 1)\n",
    " - Hunger Games and Harry Potter Text = non-Legalese (class: 0)"
   ]
  },
  {
   "cell_type": "code",
   "execution_count": 2,
   "metadata": {
    "collapsed": false
   },
   "outputs": [
    {
     "name": "stdout",
     "output_type": "stream",
     "text": [
      "Words in court documents: 1067102\n",
      "Words in non-court documents: 1004314\n"
     ]
    }
   ],
   "source": [
    "pdfList = []\n",
    "for i in range(1,26): #PDF files are named numberically, 1-26\n",
    "    pdfList.append(str(i)+\".PDF\")\n",
    "\n",
    "text = []\n",
    "for pdf in pdfList:\n",
    "    with open(pdf, 'rb') as pdfFileObj:\n",
    "        pdfReader = PyPDF2.PdfFileReader(pdfFileObj)\n",
    "        for page in range(1,pdfReader.getNumPages()):\n",
    "            pageObj = pdfReader.getPage(page)\n",
    "            text.append(pageObj.extractText())\n",
    "\n",
    "docTrain1 = ' '.join(text) #combine all pages into a String doc\n",
    "print (\"Words in court documents:\", len(docTrain1))\n",
    "\n",
    "text = [] \n",
    "with open('HungerGames.pdf', 'rb') as pdfFileObj:\n",
    "    pdfReader = PyPDF2.PdfFileReader(pdfFileObj)\n",
    "    for page in range(1,pdfReader.getNumPages()):\n",
    "        pageObj = pdfReader.getPage(page)\n",
    "        text.append(pageObj.extractText())\n",
    "\n",
    "with open('HarryPotter.pdf', 'rb') as pdfFileObj:\n",
    "    pdfReader = PyPDF2.PdfFileReader(pdfFileObj)\n",
    "    for page in range(1,pdfReader.getNumPages()):\n",
    "        pageObj = pdfReader.getPage(page)\n",
    "        text.append(pageObj.extractText())\n",
    "        \n",
    "docTrain0 = ' '.join(text) #combine all pages into a String doc\n",
    "print (\"Words in non-court documents:\",len(docTrain0))"
   ]
  },
  {
   "cell_type": "markdown",
   "metadata": {},
   "source": [
    "### We will build the NLP model at the sentence level. Meaning, each sentence will be evaluated as a unit to see if it is legalese or not. \n",
    "\n",
    "### Sentences are identified with the help of SpaCy"
   ]
  },
  {
   "cell_type": "code",
   "execution_count": 3,
   "metadata": {
    "collapsed": false
   },
   "outputs": [
    {
     "name": "stdout",
     "output_type": "stream",
     "text": [
      "Sentences in legalese text: 8946\n",
      "Sentences in non-legalese text: 17310\n"
     ]
    }
   ],
   "source": [
    "parsedData = parser(docTrain1)\n",
    "\n",
    "#sents1 = legalese sentences \n",
    "#sents0 = non-legalese\n",
    "\n",
    "sents1 = []\n",
    "for span in parsedData.sents:\n",
    "    sent = ''.join(parsedData[i].string for i in range(span.start, span.end)).strip()\n",
    "    sents1.append(sent)\n",
    "print (\"Sentences in legalese text:\",len(sents1))\n",
    "\n",
    "parsedData = parser(docTrain0)\n",
    "\n",
    "sents0 = []\n",
    "for span in parsedData.sents:\n",
    "    sent = ''.join(parsedData[i].string for i in range(span.start, span.end)).strip()\n",
    "    sents0.append(sent)\n",
    "print (\"Sentences in non-legalese text:\",len(sents0))"
   ]
  },
  {
   "cell_type": "markdown",
   "metadata": {},
   "source": [
    "## MODELING\n",
    "\n",
    "### Now that we have our sentences, we will begin building our NLP pipeline. A Linear Support Vector Machine will be employed as the binary classifier\n",
    "\n",
    "The following site was referenced for portions of the code below:\n",
    "\n",
    "https://nicschrading.com/project/Intro-to-NLP-with-spaCy/"
   ]
  },
  {
   "cell_type": "code",
   "execution_count": 4,
   "metadata": {
    "collapsed": true
   },
   "outputs": [],
   "source": [
    "from sklearn.feature_extraction.text import CountVectorizer\n",
    "from sklearn.base import TransformerMixin\n",
    "from sklearn.pipeline import Pipeline\n",
    "from sklearn.svm import LinearSVC\n",
    "from sklearn.feature_extraction.stop_words import ENGLISH_STOP_WORDS\n",
    "from sklearn.metrics import accuracy_score\n",
    "from sklearn.decomposition import TruncatedSVD\n",
    "from nltk.corpus import stopwords\n",
    "import string\n",
    "import re\n",
    "\n",
    "# A custom stoplist\n",
    "STOPLIST = set(stopwords.words('english') + [\"n't\", \"'s\", \"'m\", \"ca\"] + list(ENGLISH_STOP_WORDS))\n",
    "# List of symbols we don't care about\n",
    "SYMBOLS = \" \".join(string.punctuation).split(\" \") + [\"-----\", \"---\", \"...\", \"“\", \"”\", \"'ve\"]"
   ]
  },
  {
   "cell_type": "code",
   "execution_count": 5,
   "metadata": {
    "collapsed": false
   },
   "outputs": [],
   "source": [
    "# Every step in a pipeline needs to be a \"transformer\". \n",
    "# Define a custom transformer to clean text using spaCy\n",
    "class CleanTextTransformer(TransformerMixin):\n",
    "    \"\"\"\n",
    "    Convert text to cleaned text\n",
    "    \"\"\"\n",
    "    def transform(self, X, **transform_params):\n",
    "        return [cleanText(text) for text in X]\n",
    "\n",
    "    def fit(self, X, y=None, **fit_params):\n",
    "        return self\n",
    "        \n",
    "    def get_params(self, deep=True):\n",
    "        return {}\n",
    "\n",
    "# A custom function to clean the text before sending it into the vectorizer, called by Transformer\n",
    "def cleanText(text):\n",
    "    # get rid of newlines\n",
    "    text = text.strip().replace(\"\\n\", \" \").replace(\"\\r\", \" \")\n",
    "    \n",
    "    # replace twitter @mentions\n",
    "    mentionFinder = re.compile(r\"@[a-z0-9_]{1,15}\", re.IGNORECASE)\n",
    "    text = mentionFinder.sub(\"@MENTION\", text)\n",
    "    \n",
    "    # replace HTML symbols\n",
    "    text = text.replace(\"&amp;\", \"and\").replace(\"&gt;\", \">\").replace(\"&lt;\", \"<\")\n",
    "    \n",
    "    # lowercase\n",
    "    text = text.lower()\n",
    "    \n",
    "    return text\n",
    "\n",
    "# A custom function to tokenize the text using spaCy\n",
    "# and convert to lemmas\n",
    "def tokenizeText(sample):\n",
    "\n",
    "    # get the tokens using spaCy\n",
    "    tokens = parser(sample)\n",
    "\n",
    "    # lemmatize\n",
    "    lemmas = []\n",
    "    for tok in tokens:\n",
    "        lemmas.append(tok.lemma_.lower().strip() if tok.lemma_ != \"-PRON-\" else tok.lower_)\n",
    "    tokens = lemmas\n",
    "    \n",
    "    # stoplist the tokens\n",
    "    tokens = [tok for tok in tokens if tok not in STOPLIST]\n",
    "\n",
    "    # stoplist symbols\n",
    "    tokens = [tok for tok in tokens if tok not in SYMBOLS]\n",
    "    \n",
    "    # remove large strings of whitespace\n",
    "    while \"\" in tokens:\n",
    "        tokens.remove(\"\")\n",
    "    while \" \" in tokens:\n",
    "        tokens.remove(\" \")\n",
    "    while \"\\n\" in tokens:\n",
    "        tokens.remove(\"\\n\")\n",
    "    while \"\\n\\n\" in tokens:\n",
    "        tokens.remove(\"\\n\\n\")\n",
    "    \n",
    "    return tokens"
   ]
  },
  {
   "cell_type": "markdown",
   "metadata": {},
   "source": [
    "### Defining the Training dataset"
   ]
  },
  {
   "cell_type": "code",
   "execution_count": 6,
   "metadata": {
    "collapsed": false
   },
   "outputs": [],
   "source": [
    "# define training data\n",
    "train = sents1+sents0 #sents1 = legalese sentences, sents0 = non-legalese\n",
    "\n",
    "labelsTrain = [] #labels must be associated with each sentence type for a supervised model\n",
    "for i in range(0,len(train)):\n",
    "    if (i < len(sents1)):\n",
    "        labelsTrain.append(1) #appending label to sents1\n",
    "    else:\n",
    "        labelsTrain.append(0) #appending label to sents0"
   ]
  },
  {
   "cell_type": "markdown",
   "metadata": {},
   "source": [
    "### Defining the Test dataset"
   ]
  },
  {
   "cell_type": "code",
   "execution_count": 7,
   "metadata": {
    "collapsed": false
   },
   "outputs": [
    {
     "name": "stdout",
     "output_type": "stream",
     "text": [
      "Making sure the test sentences and labels match in size\n",
      "20 20\n"
     ]
    }
   ],
   "source": [
    "# define test data\n",
    "test = [\"Plaintiffs failed to establish\",\n",
    "        \"challenged statutes violate equal protection\",\n",
    "        \"I just want to eat a hamburger\", \n",
    "        \"this is just another sentence\", \n",
    "        \"the quick brown fox jumped\",\n",
    "        \"courts and statutes\", \n",
    "        \"over the lazy dog\",\n",
    "        \"what time is the party\",\n",
    "        \"what are my legal rights\",\n",
    "        \"due process in civil court\",\n",
    "        \"what time is it\",\n",
    "        \"let's run to the park and have fun\",\n",
    "        \"let's add come complexity to this sentence\",\n",
    "        \"What would be a good test\",\n",
    "        \"who in the world knows all about\",\n",
    "        \"I will be getting home late today\",\n",
    "        \"the plaintiff alleges that the defendant\",\n",
    "        \"Three more sentences to go here\",\n",
    "        \"let's hurry up so we can go home\",\n",
    "        \"she went to court today and\"]\n",
    "labelsTest = [1, 1, 0, 0, 0, 1, 0, 0, 0, 1, 0, 0, 0, 0, 0, 0, 1, 0, 0, 0]\n",
    "\n",
    "print (\"Making sure the test sentences and labels match in size\")\n",
    "print (len(test),len(labelsTest))"
   ]
  },
  {
   "cell_type": "markdown",
   "metadata": {},
   "source": [
    "### In the CountVectorizer step below, I use an ngram range of 1-4 since legal terms tend to appear together. "
   ]
  },
  {
   "cell_type": "code",
   "execution_count": 8,
   "metadata": {
    "collapsed": true
   },
   "outputs": [],
   "source": [
    "# the vectorizer and classifer to use\n",
    "# note that I changed the tokenizer in CountVectorizer to use a custom function using spaCy's tokenizer\n",
    "vectorizer = CountVectorizer(tokenizer=tokenizeText, ngram_range=(1,4))\n",
    "lsa = TruncatedSVD(100, algorithm = 'randomized')\n",
    "clf = LinearSVC()\n",
    "# the pipeline to clean, tokenize, vectorize, and classify\n",
    "pipe = Pipeline([('cleanText', CleanTextTransformer()), ('vectorizer', vectorizer),('clf', clf)])"
   ]
  },
  {
   "cell_type": "code",
   "execution_count": 9,
   "metadata": {
    "collapsed": false
   },
   "outputs": [
    {
     "data": {
      "text/plain": [
       "Pipeline(steps=[('cleanText', <__main__.CleanTextTransformer object at 0x180a1f240>), ('vectorizer', CountVectorizer(analyzer='word', binary=False, decode_error='strict',\n",
       "        dtype=<class 'numpy.int64'>, encoding='utf-8', input='content',\n",
       "        lowercase=True, max_df=1.0, max_features=None, min_df=1,\n",
       " ...ax_iter=1000,\n",
       "     multi_class='ovr', penalty='l2', random_state=None, tol=0.0001,\n",
       "     verbose=0))])"
      ]
     },
     "execution_count": 9,
     "metadata": {},
     "output_type": "execute_result"
    }
   ],
   "source": [
    "# train\n",
    "pipe.fit(train, labelsTrain)"
   ]
  },
  {
   "cell_type": "markdown",
   "metadata": {},
   "source": [
    "## EVALUATION\n",
    "\n",
    "### When we test our model below, we achieve an Accuracy of 95% using our Test Sentences. "
   ]
  },
  {
   "cell_type": "code",
   "execution_count": 10,
   "metadata": {
    "collapsed": false
   },
   "outputs": [
    {
     "name": "stdout",
     "output_type": "stream",
     "text": [
      "Plaintiffs failed to establish : 1\n",
      "challenged statutes violate equal protection : 1\n",
      "I just want to eat a hamburger : 0\n",
      "this is just another sentence : 0\n",
      "the quick brown fox jumped : 0\n",
      "courts and statutes : 1\n",
      "over the lazy dog : 0\n",
      "what time is the party : 0\n",
      "what are my legal rights : 0\n",
      "due process in civil court : 1\n",
      "what time is it : 0\n",
      "let's run to the park and have fun : 0\n",
      "let's add come complexity to this sentence : 0\n",
      "What would be a good test : 0\n",
      "who in the world knows all about : 0\n",
      "I will be getting home late today : 0\n",
      "the plaintiff alleges that the defendant : 1\n",
      "Three more sentences to go here : 0\n",
      "let's hurry up so we can go home : 0\n",
      "she went to court today and : 1\n",
      "\n",
      " Accuracy: 0.95\n"
     ]
    }
   ],
   "source": [
    "# test\n",
    "preds = pipe.predict(test)\n",
    "\n",
    "for (sample, pred) in zip(test, preds):\n",
    "    print(sample, \":\", pred)\n",
    "\n",
    "print(\"\\n\",\"Accuracy:\", accuracy_score(labelsTest, preds))"
   ]
  },
  {
   "cell_type": "markdown",
   "metadata": {
    "collapsed": true
   },
   "source": [
    "## DEPLOYMENT\n",
    "\n",
    "### GET TWITTER DATA"
   ]
  },
  {
   "cell_type": "code",
   "execution_count": 11,
   "metadata": {
    "collapsed": false
   },
   "outputs": [],
   "source": [
    "import pandas as pd\n",
    "import tweepy\n",
    "import json\n",
    "import cnfg\n",
    "from os.path import expanduser\n",
    "\n",
    "home = expanduser(\"~\")\n",
    "config = cnfg.load(home + \"/.twitter_config\")\n",
    "\n",
    "auth = tweepy.OAuthHandler(config[\"consumer_key\"],\n",
    "                           config[\"consumer_secret\"])\n",
    "auth.set_access_token(config[\"access_token\"],\n",
    "                      config[\"access_token_secret\"])\n",
    "\n",
    "api=tweepy.API(auth)"
   ]
  },
  {
   "cell_type": "markdown",
   "metadata": {},
   "source": [
    "### Defining several functions to clean Twitter text"
   ]
  },
  {
   "cell_type": "code",
   "execution_count": 12,
   "metadata": {
    "collapsed": true
   },
   "outputs": [],
   "source": [
    "def structure_results(results, handle):\n",
    "    id_list = [tweet.id for tweet in results]\n",
    "    data = pd.DataFrame(id_list,columns=['id'])\n",
    "    \n",
    "    data[\"Handle\"] = handle\n",
    "    data[\"Text\"] = [tweet.text for tweet in results]\n",
    "    data[\"Datetime\"] = [tweet.created_at for tweet in results]\n",
    "    data[\"Location\"] = [tweet.place for tweet in results]\n",
    "    \n",
    "    return data\n",
    "\n",
    "# Replace https...with empty string\n",
    "def httpRemove(text):\n",
    "    if re.search('https?:\\/\\/.*[\\r\\n]*', text):\n",
    "        return re.sub('https?:\\/\\/.*[\\r\\n]*', '', text).strip()\n",
    "    else:\n",
    "        return text\n",
    "\n",
    "# Replace @.... with empty string\n",
    "def atRemove(text):\n",
    "    if re.search('@([\\w.-]+)', text):\n",
    "        return re.sub('@([\\w.-]+)', '', text).strip()\n",
    "    else:\n",
    "        return text\n",
    "\n",
    "# Replace #.... with empty string\n",
    "def hashRemove(text):\n",
    "    if re.search('#([\\w.-]+)', text):\n",
    "        return re.sub('#([\\w.-]+)', '', text).strip()\n",
    "    else:\n",
    "        return text\n",
    "\n",
    "def toPandas(userText, preds):\n",
    "    id_list=[i for i in range(0,len(preds))]\n",
    "    data=pd.DataFrame(id_list,columns=['tweet_id'])\n",
    "    \n",
    "    data[\"text\"]= [tweet for tweet in userText]\n",
    "    data[\"Prediction\"] = [prediction for prediction in preds]\n",
    "\n",
    "    return data"
   ]
  },
  {
   "cell_type": "markdown",
   "metadata": {},
   "source": [
    "### The following code gathers all timeline history for each of the users in the handles list."
   ]
  },
  {
   "cell_type": "code",
   "execution_count": null,
   "metadata": {
    "collapsed": false
   },
   "outputs": [],
   "source": [
    "import time\n",
    "handles = ['NinaTotenberg', 'justinbieber', 'LeoDiCaprio', 'espn','EricHolder','Snowden','jimmykimmel','realDonaldTrump']\n",
    "#handles = ['NinaTotenberg']\n",
    "\n",
    "frames = []\n",
    "for handle in handles:\n",
    "    tweets = tweepy.Cursor(api.user_timeline,id=handle).items(1000)\n",
    "    results = []\n",
    "    print (handle)\n",
    "    for tweet in tweets:\n",
    "        results.append(tweet)\n",
    "    \n",
    "    data = structure_results(results, handle)\n",
    "    frames.append(data)\n",
    "    time.sleep(1)"
   ]
  },
  {
   "cell_type": "markdown",
   "metadata": {},
   "source": [
    "### We transfer all tweets into a pandas dataframe and perform some text cleaning"
   ]
  },
  {
   "cell_type": "code",
   "execution_count": 14,
   "metadata": {
    "collapsed": true
   },
   "outputs": [],
   "source": [
    "alldata = pd.concat(frames)\n",
    "\n",
    "alldata[\"text_no_https\"] = alldata.Text.apply(httpRemove)\n",
    "\n",
    "alldata[\"text_no_https_at\"] = alldata.text_no_https.apply(atRemove)\n",
    "\n",
    "alldata[\"text_no_https_at_hash\"] = alldata.text_no_https_at.apply(hashRemove)\n",
    "\n",
    "userText = []\n",
    "for text in alldata.text_no_https_at_hash:\n",
    "    userText.append(text)"
   ]
  },
  {
   "cell_type": "markdown",
   "metadata": {},
   "source": [
    "### We apply the model to each tweet to determine its classification, we then normalize each user's results by their total number of tweets to achieve a 'Legalese Score'. \n",
    "\n",
    "### The higher the ratio, the larger the percentage of tweets that are characterized as legalese."
   ]
  },
  {
   "cell_type": "code",
   "execution_count": 15,
   "metadata": {
    "collapsed": false
   },
   "outputs": [
    {
     "name": "stdout",
     "output_type": "stream",
     "text": [
      "NinaTotenberg 0.440823327616\n",
      "justinbieber 0.148\n",
      "LeoDiCaprio 0.177068214804\n",
      "espn 0.215\n",
      "EricHolder 0.354166666667\n",
      "Snowden 0.274\n"
     ]
    }
   ],
   "source": [
    "# test\n",
    "preds = pipe.predict(userText)\n",
    "\n",
    "alldata['Prediction'] = [p for p in preds]\n",
    "\n",
    "pd.set_option('max_colwidth', 120)\n",
    "\n",
    "alldata['Rating'] = 0\n",
    "for handle in alldata.Handle.unique():\n",
    "    rating = alldata[alldata['Handle'] == handle].Prediction.sum()/alldata[alldata['Handle'] == handle].Prediction.count()\n",
    "    print (handle, rating)\n",
    "    alldata.loc[alldata['Handle'] == handle,'Rating'] = rating"
   ]
  },
  {
   "cell_type": "markdown",
   "metadata": {},
   "source": [
    "Sample View of the Tweets dataframe"
   ]
  },
  {
   "cell_type": "code",
   "execution_count": 19,
   "metadata": {
    "collapsed": false
   },
   "outputs": [
    {
     "data": {
      "text/html": [
       "<div>\n",
       "<table border=\"1\" class=\"dataframe\">\n",
       "  <thead>\n",
       "    <tr style=\"text-align: right;\">\n",
       "      <th></th>\n",
       "      <th>id</th>\n",
       "      <th>Handle</th>\n",
       "      <th>Text</th>\n",
       "      <th>Datetime</th>\n",
       "      <th>Location</th>\n",
       "      <th>text_no_https</th>\n",
       "      <th>text_no_https_at</th>\n",
       "      <th>text_no_https_at_hash</th>\n",
       "      <th>Prediction</th>\n",
       "      <th>Rating</th>\n",
       "    </tr>\n",
       "  </thead>\n",
       "  <tbody>\n",
       "    <tr>\n",
       "      <th>254</th>\n",
       "      <td>590886205916651520</td>\n",
       "      <td>LeoDiCaprio</td>\n",
       "      <td>RT @guildnavigator: Let's be in awe of what we have. Let's look after it. Happy #EarthDay #EarthDay2015 #EarthDayEve...</td>\n",
       "      <td>2015-04-22 14:33:44</td>\n",
       "      <td>None</td>\n",
       "      <td>RT @guildnavigator: Let's be in awe of what we have. Let's look after it. Happy #EarthDay #EarthDay2015 #EarthDayEve...</td>\n",
       "      <td>RT : Let's be in awe of what we have. Let's look after it. Happy #EarthDay #EarthDay2015 #EarthDayEveryDay</td>\n",
       "      <td>RT : Let's be in awe of what we have. Let's look after it. Happy</td>\n",
       "      <td>0</td>\n",
       "      <td>0.177068</td>\n",
       "    </tr>\n",
       "    <tr>\n",
       "      <th>182</th>\n",
       "      <td>641728093577695233</td>\n",
       "      <td>LeoDiCaprio</td>\n",
       "      <td>. @IanAD57 I hope you will join with me in standing for clean air and #ActOnClimate.  Yes on #SB350 and #SB32.</td>\n",
       "      <td>2015-09-09 21:41:14</td>\n",
       "      <td>None</td>\n",
       "      <td>. @IanAD57 I hope you will join with me in standing for clean air and #ActOnClimate.  Yes on #SB350 and #SB32.</td>\n",
       "      <td>.  I hope you will join with me in standing for clean air and #ActOnClimate.  Yes on #SB350 and #SB32.</td>\n",
       "      <td>.  I hope you will join with me in standing for clean air and   Yes on  and</td>\n",
       "      <td>0</td>\n",
       "      <td>0.177068</td>\n",
       "    </tr>\n",
       "    <tr>\n",
       "      <th>222</th>\n",
       "      <td>725347851056750593</td>\n",
       "      <td>Snowden</td>\n",
       "      <td>Coming soon to the list of items banned in federal buildings: https://t.co/hHsVOtqq59</td>\n",
       "      <td>2016-04-27 15:36:18</td>\n",
       "      <td>None</td>\n",
       "      <td>Coming soon to the list of items banned in federal buildings:</td>\n",
       "      <td>Coming soon to the list of items banned in federal buildings:</td>\n",
       "      <td>Coming soon to the list of items banned in federal buildings:</td>\n",
       "      <td>0</td>\n",
       "      <td>0.274000</td>\n",
       "    </tr>\n",
       "    <tr>\n",
       "      <th>513</th>\n",
       "      <td>327472154423726080</td>\n",
       "      <td>NinaTotenberg</td>\n",
       "      <td>I'll do anything for #npr http://t.co/nOKYVh98pC</td>\n",
       "      <td>2013-04-25 17:20:20</td>\n",
       "      <td>None</td>\n",
       "      <td>I'll do anything for #npr</td>\n",
       "      <td>I'll do anything for #npr</td>\n",
       "      <td>I'll do anything for</td>\n",
       "      <td>0</td>\n",
       "      <td>0.440823</td>\n",
       "    </tr>\n",
       "    <tr>\n",
       "      <th>628</th>\n",
       "      <td>750007192808525824</td>\n",
       "      <td>espn</td>\n",
       "      <td>Warriors: Just the third team in the past 50 years to have 3 of the NBA's top 12 scorers from the previous season. h...</td>\n",
       "      <td>2016-07-04 16:43:43</td>\n",
       "      <td>None</td>\n",
       "      <td>Warriors: Just the third team in the past 50 years to have 3 of the NBA's top 12 scorers from the previous season.</td>\n",
       "      <td>Warriors: Just the third team in the past 50 years to have 3 of the NBA's top 12 scorers from the previous season.</td>\n",
       "      <td>Warriors: Just the third team in the past 50 years to have 3 of the NBA's top 12 scorers from the previous season.</td>\n",
       "      <td>1</td>\n",
       "      <td>0.215000</td>\n",
       "    </tr>\n",
       "    <tr>\n",
       "      <th>735</th>\n",
       "      <td>672998113213198336</td>\n",
       "      <td>justinbieber</td>\n",
       "      <td>RT @officialcharts: .@JustinBieber has replaced HIMSELF at No.1 on the Official Singles Chart with Love Yourself htt...</td>\n",
       "      <td>2015-12-05 04:37:08</td>\n",
       "      <td>None</td>\n",
       "      <td>RT @officialcharts: .@JustinBieber has replaced HIMSELF at No.1 on the Official Singles Chart with Love Yourself</td>\n",
       "      <td>RT : . has replaced HIMSELF at No.1 on the Official Singles Chart with Love Yourself</td>\n",
       "      <td>RT : . has replaced HIMSELF at No.1 on the Official Singles Chart with Love Yourself</td>\n",
       "      <td>0</td>\n",
       "      <td>0.148000</td>\n",
       "    </tr>\n",
       "    <tr>\n",
       "      <th>107</th>\n",
       "      <td>684510211487457284</td>\n",
       "      <td>LeoDiCaprio</td>\n",
       "      <td>RT @wef: Where are food supplies most at risk from #climatechange? https://t.co/8ZexSNkjGn #foodsecurity https://t.c...</td>\n",
       "      <td>2016-01-05 23:02:06</td>\n",
       "      <td>None</td>\n",
       "      <td>RT @wef: Where are food supplies most at risk from #climatechange?</td>\n",
       "      <td>RT : Where are food supplies most at risk from #climatechange?</td>\n",
       "      <td>RT : Where are food supplies most at risk from ?</td>\n",
       "      <td>0</td>\n",
       "      <td>0.177068</td>\n",
       "    </tr>\n",
       "    <tr>\n",
       "      <th>453</th>\n",
       "      <td>751890348847210496</td>\n",
       "      <td>espn</td>\n",
       "      <td>Under 24 hours to the #Euro2016 final (3 p.m. ET, ESPN/WatchESPN). But today in Paris, @s3society put on the show. h...</td>\n",
       "      <td>2016-07-09 21:26:43</td>\n",
       "      <td>None</td>\n",
       "      <td>Under 24 hours to the #Euro2016 final (3 p.m. ET, ESPN/WatchESPN). But today in Paris, @s3society put on the show.</td>\n",
       "      <td>Under 24 hours to the #Euro2016 final (3 p.m. ET, ESPN/WatchESPN). But today in Paris,  put on the show.</td>\n",
       "      <td>Under 24 hours to the  final (3 p.m. ET, ESPN/WatchESPN). But today in Paris,  put on the show.</td>\n",
       "      <td>1</td>\n",
       "      <td>0.215000</td>\n",
       "    </tr>\n",
       "    <tr>\n",
       "      <th>897</th>\n",
       "      <td>667064009820999680</td>\n",
       "      <td>justinbieber</td>\n",
       "      <td>Playing more new tracks from #purpose on @CapitalOfficial now. Listen - https://t.co/7wod0j2Afe  #BieberOnCapital ht...</td>\n",
       "      <td>2015-11-18 19:37:08</td>\n",
       "      <td>None</td>\n",
       "      <td>Playing more new tracks from #purpose on @CapitalOfficial now. Listen -</td>\n",
       "      <td>Playing more new tracks from #purpose on  now. Listen -</td>\n",
       "      <td>Playing more new tracks from  on  now. Listen -</td>\n",
       "      <td>0</td>\n",
       "      <td>0.148000</td>\n",
       "    </tr>\n",
       "    <tr>\n",
       "      <th>257</th>\n",
       "      <td>721399251679461376</td>\n",
       "      <td>Snowden</td>\n",
       "      <td>RT @ggreenwald: If your opponent makes less in a year than you made in one 45-minute speech to Goldman, maybe don't ...</td>\n",
       "      <td>2016-04-16 18:05:59</td>\n",
       "      <td>None</td>\n",
       "      <td>RT @ggreenwald: If your opponent makes less in a year than you made in one 45-minute speech to Goldman, maybe don't ...</td>\n",
       "      <td>RT : If your opponent makes less in a year than you made in one 45-minute speech to Goldman, maybe don't draw attent...</td>\n",
       "      <td>RT : If your opponent makes less in a year than you made in one 45-minute speech to Goldman, maybe don't draw attent...</td>\n",
       "      <td>0</td>\n",
       "      <td>0.274000</td>\n",
       "    </tr>\n",
       "  </tbody>\n",
       "</table>\n",
       "</div>"
      ],
      "text/plain": [
       "                     id         Handle  \\\n",
       "254  590886205916651520    LeoDiCaprio   \n",
       "182  641728093577695233    LeoDiCaprio   \n",
       "222  725347851056750593        Snowden   \n",
       "513  327472154423726080  NinaTotenberg   \n",
       "628  750007192808525824           espn   \n",
       "735  672998113213198336   justinbieber   \n",
       "107  684510211487457284    LeoDiCaprio   \n",
       "453  751890348847210496           espn   \n",
       "897  667064009820999680   justinbieber   \n",
       "257  721399251679461376        Snowden   \n",
       "\n",
       "                                                                                                                        Text  \\\n",
       "254  RT @guildnavigator: Let's be in awe of what we have. Let's look after it. Happy #EarthDay #EarthDay2015 #EarthDayEve...   \n",
       "182           . @IanAD57 I hope you will join with me in standing for clean air and #ActOnClimate.  Yes on #SB350 and #SB32.   \n",
       "222                                    Coming soon to the list of items banned in federal buildings: https://t.co/hHsVOtqq59   \n",
       "513                                                                         I'll do anything for #npr http://t.co/nOKYVh98pC   \n",
       "628  Warriors: Just the third team in the past 50 years to have 3 of the NBA's top 12 scorers from the previous season. h...   \n",
       "735  RT @officialcharts: .@JustinBieber has replaced HIMSELF at No.1 on the Official Singles Chart with Love Yourself htt...   \n",
       "107  RT @wef: Where are food supplies most at risk from #climatechange? https://t.co/8ZexSNkjGn #foodsecurity https://t.c...   \n",
       "453  Under 24 hours to the #Euro2016 final (3 p.m. ET, ESPN/WatchESPN). But today in Paris, @s3society put on the show. h...   \n",
       "897  Playing more new tracks from #purpose on @CapitalOfficial now. Listen - https://t.co/7wod0j2Afe  #BieberOnCapital ht...   \n",
       "257  RT @ggreenwald: If your opponent makes less in a year than you made in one 45-minute speech to Goldman, maybe don't ...   \n",
       "\n",
       "               Datetime Location  \\\n",
       "254 2015-04-22 14:33:44     None   \n",
       "182 2015-09-09 21:41:14     None   \n",
       "222 2016-04-27 15:36:18     None   \n",
       "513 2013-04-25 17:20:20     None   \n",
       "628 2016-07-04 16:43:43     None   \n",
       "735 2015-12-05 04:37:08     None   \n",
       "107 2016-01-05 23:02:06     None   \n",
       "453 2016-07-09 21:26:43     None   \n",
       "897 2015-11-18 19:37:08     None   \n",
       "257 2016-04-16 18:05:59     None   \n",
       "\n",
       "                                                                                                               text_no_https  \\\n",
       "254  RT @guildnavigator: Let's be in awe of what we have. Let's look after it. Happy #EarthDay #EarthDay2015 #EarthDayEve...   \n",
       "182           . @IanAD57 I hope you will join with me in standing for clean air and #ActOnClimate.  Yes on #SB350 and #SB32.   \n",
       "222                                                            Coming soon to the list of items banned in federal buildings:   \n",
       "513                                                                                                I'll do anything for #npr   \n",
       "628       Warriors: Just the third team in the past 50 years to have 3 of the NBA's top 12 scorers from the previous season.   \n",
       "735         RT @officialcharts: .@JustinBieber has replaced HIMSELF at No.1 on the Official Singles Chart with Love Yourself   \n",
       "107                                                       RT @wef: Where are food supplies most at risk from #climatechange?   \n",
       "453       Under 24 hours to the #Euro2016 final (3 p.m. ET, ESPN/WatchESPN). But today in Paris, @s3society put on the show.   \n",
       "897                                                  Playing more new tracks from #purpose on @CapitalOfficial now. Listen -   \n",
       "257  RT @ggreenwald: If your opponent makes less in a year than you made in one 45-minute speech to Goldman, maybe don't ...   \n",
       "\n",
       "                                                                                                            text_no_https_at  \\\n",
       "254               RT : Let's be in awe of what we have. Let's look after it. Happy #EarthDay #EarthDay2015 #EarthDayEveryDay   \n",
       "182                   .  I hope you will join with me in standing for clean air and #ActOnClimate.  Yes on #SB350 and #SB32.   \n",
       "222                                                            Coming soon to the list of items banned in federal buildings:   \n",
       "513                                                                                                I'll do anything for #npr   \n",
       "628       Warriors: Just the third team in the past 50 years to have 3 of the NBA's top 12 scorers from the previous season.   \n",
       "735                                     RT : . has replaced HIMSELF at No.1 on the Official Singles Chart with Love Yourself   \n",
       "107                                                           RT : Where are food supplies most at risk from #climatechange?   \n",
       "453                 Under 24 hours to the #Euro2016 final (3 p.m. ET, ESPN/WatchESPN). But today in Paris,  put on the show.   \n",
       "897                                                                  Playing more new tracks from #purpose on  now. Listen -   \n",
       "257  RT : If your opponent makes less in a year than you made in one 45-minute speech to Goldman, maybe don't draw attent...   \n",
       "\n",
       "                                                                                                       text_no_https_at_hash  \\\n",
       "254                                                         RT : Let's be in awe of what we have. Let's look after it. Happy   \n",
       "182                                              .  I hope you will join with me in standing for clean air and   Yes on  and   \n",
       "222                                                            Coming soon to the list of items banned in federal buildings:   \n",
       "513                                                                                                     I'll do anything for   \n",
       "628       Warriors: Just the third team in the past 50 years to have 3 of the NBA's top 12 scorers from the previous season.   \n",
       "735                                     RT : . has replaced HIMSELF at No.1 on the Official Singles Chart with Love Yourself   \n",
       "107                                                                         RT : Where are food supplies most at risk from ?   \n",
       "453                          Under 24 hours to the  final (3 p.m. ET, ESPN/WatchESPN). But today in Paris,  put on the show.   \n",
       "897                                                                          Playing more new tracks from  on  now. Listen -   \n",
       "257  RT : If your opponent makes less in a year than you made in one 45-minute speech to Goldman, maybe don't draw attent...   \n",
       "\n",
       "     Prediction    Rating  \n",
       "254           0  0.177068  \n",
       "182           0  0.177068  \n",
       "222           0  0.274000  \n",
       "513           0  0.440823  \n",
       "628           1  0.215000  \n",
       "735           0  0.148000  \n",
       "107           0  0.177068  \n",
       "453           1  0.215000  \n",
       "897           0  0.148000  \n",
       "257           0  0.274000  "
      ]
     },
     "execution_count": 19,
     "metadata": {},
     "output_type": "execute_result"
    }
   ],
   "source": [
    "alldata.sample(frac = 0.1).head(10)"
   ]
  },
  {
   "cell_type": "code",
   "execution_count": 20,
   "metadata": {
    "collapsed": false
   },
   "outputs": [],
   "source": [
    "#pickling the results for flask integration\n",
    "alldata.to_pickle('test')"
   ]
  },
  {
   "cell_type": "markdown",
   "metadata": {},
   "source": [
    "## RESULTS SUMMARY\n",
    "\n",
    "In summary, the NLP model was able to rank Nina Totenberg highest and Justin Bieber with the lowest score. This is an indication that the model is working as expected. "
   ]
  },
  {
   "cell_type": "code",
   "execution_count": 38,
   "metadata": {
    "collapsed": false
   },
   "outputs": [
    {
     "data": {
      "text/html": [
       "<div>\n",
       "<table border=\"1\" class=\"dataframe\">\n",
       "  <thead>\n",
       "    <tr style=\"text-align: right;\">\n",
       "      <th></th>\n",
       "      <th>Handle</th>\n",
       "      <th>Rating</th>\n",
       "    </tr>\n",
       "  </thead>\n",
       "  <tbody>\n",
       "    <tr>\n",
       "      <th>0</th>\n",
       "      <td>NinaTotenberg</td>\n",
       "      <td>0.440823</td>\n",
       "    </tr>\n",
       "    <tr>\n",
       "      <th>4</th>\n",
       "      <td>EricHolder</td>\n",
       "      <td>0.354167</td>\n",
       "    </tr>\n",
       "    <tr>\n",
       "      <th>5</th>\n",
       "      <td>Snowden</td>\n",
       "      <td>0.274000</td>\n",
       "    </tr>\n",
       "    <tr>\n",
       "      <th>3</th>\n",
       "      <td>espn</td>\n",
       "      <td>0.215000</td>\n",
       "    </tr>\n",
       "    <tr>\n",
       "      <th>2</th>\n",
       "      <td>LeoDiCaprio</td>\n",
       "      <td>0.177068</td>\n",
       "    </tr>\n",
       "    <tr>\n",
       "      <th>1</th>\n",
       "      <td>justinbieber</td>\n",
       "      <td>0.148000</td>\n",
       "    </tr>\n",
       "  </tbody>\n",
       "</table>\n",
       "</div>"
      ],
      "text/plain": [
       "          Handle    Rating\n",
       "0  NinaTotenberg  0.440823\n",
       "4     EricHolder  0.354167\n",
       "5        Snowden  0.274000\n",
       "3           espn  0.215000\n",
       "2    LeoDiCaprio  0.177068\n",
       "1   justinbieber  0.148000"
      ]
     },
     "execution_count": 38,
     "metadata": {},
     "output_type": "execute_result"
    }
   ],
   "source": [
    "idList = []\n",
    "r = []\n",
    "for handle in alldata.Handle.unique():\n",
    "    idList.append(handle)\n",
    "    r.append(alldata[alldata['Handle'] == handle].Rating[0])\n",
    "\n",
    "smallDataframe = pd.DataFrame(idList,columns=['Handle'])\n",
    "smallDataframe[\"Rating\"] = r\n",
    "\n",
    "smallDataframe = smallDataframe.sort_values(by='Rating',ascending=False)\n",
    "\n",
    "#pickling the results for flask integration\n",
    "smallDataframe.to_pickle('summary')\n",
    "\n",
    "smallDataframe"
   ]
  },
  {
   "cell_type": "markdown",
   "metadata": {},
   "source": [
    "### The barchart below displays the above rankings graphically. "
   ]
  },
  {
   "cell_type": "code",
   "execution_count": 35,
   "metadata": {
    "collapsed": false
   },
   "outputs": [
    {
     "data": {
      "image/png": "[encoded data removed]",
      "text/plain": [
       "<matplotlib.figure.Figure at 0x188cf3940>"
      ]
     },
     "metadata": {},
     "output_type": "display_data"
    }
   ],
   "source": [
    "import matplotlib.pyplot as plt\n",
    "import seaborn as sns\n",
    "%matplotlib inline\n",
    "\n",
    "plt.figure(figsize=(16,10))\n",
    "\n",
    "sns.barplot(smallDataframe['Handle'],smallDataframe['Rating'])\n",
    "\n",
    "plt.xlabel('Handle', fontsize=18)\n",
    "plt.ylabel('Legalese Score', fontsize=16)\n",
    "plt.show()"
   ]
  }
 ],
 "metadata": {
  "kernelspec": {
   "display_name": "Python 3",
   "language": "python",
   "name": "python3"
  },
  "language_info": {
   "codemirror_mode": {
    "name": "ipython",
    "version": 3
   },
   "file_extension": ".py",
   "mimetype": "text/x-python",
   "name": "python",
   "nbconvert_exporter": "python",
   "pygments_lexer": "ipython3",
   "version": "3.5.1"
  }
 },
 "nbformat": 4,
 "nbformat_minor": 0
}
