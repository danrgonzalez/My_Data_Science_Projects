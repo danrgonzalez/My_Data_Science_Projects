{
 "cells": [
  {
   "cell_type": "markdown",
   "metadata": {},
   "source": [
    "# \"On the Spot Recruitment\" Challenge - h2o.ai Version\n",
    "\n",
    "for fun.\n",
    "\n",
    "http://www.h2o.ai/"
   ]
  },
  {
   "cell_type": "code",
   "execution_count": 29,
   "metadata": {
    "collapsed": false
   },
   "outputs": [],
   "source": [
    "import warnings\n",
    "warnings.filterwarnings('ignore', category=DeprecationWarning, message='.*DisplayFormatter.*')\n",
    "warnings.filterwarnings('ignore', category=DeprecationWarning, message='.*metadata*')\n",
    "warnings.simplefilter('ignore')\n",
    "\n",
    "import h2o\n",
    "import pandas as pd\n",
    "import numpy as np\n",
    "import matplotlib.pyplot as plt\n",
    "import seaborn as sns\n",
    "%matplotlib inline\n",
    "\n",
    "from h2o.estimators.gbm import H2OGradientBoostingEstimator\n",
    "from h2o.estimators.glm import H2OGeneralizedLinearEstimator\n",
    "from h2o.transforms.decomposition import H2OPCA\n",
    "from h2o.grid.grid_search import H2OGridSearch\n",
    "from h2o.transforms.preprocessing import H2OScaler\n",
    "from sklearn.pipeline import Pipeline"
   ]
  },
  {
   "cell_type": "markdown",
   "metadata": {},
   "source": [
    "# Below is my exploratory code with h2o's platform"
   ]
  },
  {
   "cell_type": "code",
   "execution_count": 30,
   "metadata": {
    "collapsed": false
   },
   "outputs": [
    {
     "data": {
      "text/html": [
       "<div style=\"overflow:auto\"><table style=\"width:50%\"><tr><td>H2O cluster uptime: </td>\n",
       "<td>1 minutes 59 seconds 68 milliseconds </td></tr>\n",
       "<tr><td>H2O cluster version: </td>\n",
       "<td>3.8.2.9</td></tr>\n",
       "<tr><td>H2O cluster name: </td>\n",
       "<td>H2O_started_from_python_dgonzalez_esg210</td></tr>\n",
       "<tr><td>H2O cluster total nodes: </td>\n",
       "<td>1</td></tr>\n",
       "<tr><td>H2O cluster total free memory: </td>\n",
       "<td>1.76 GB</td></tr>\n",
       "<tr><td>H2O cluster total cores: </td>\n",
       "<td>4</td></tr>\n",
       "<tr><td>H2O cluster allowed cores: </td>\n",
       "<td>4</td></tr>\n",
       "<tr><td>H2O cluster healthy: </td>\n",
       "<td>True</td></tr>\n",
       "<tr><td>H2O Connection ip: </td>\n",
       "<td>127.0.0.1</td></tr>\n",
       "<tr><td>H2O Connection port: </td>\n",
       "<td>54321</td></tr>\n",
       "<tr><td>H2O Connection proxy: </td>\n",
       "<td>None</td></tr>\n",
       "<tr><td>Python Version: </td>\n",
       "<td>3.5.2</td></tr></table></div>"
      ],
      "text/plain": [
       "------------------------------  ----------------------------------------\n",
       "H2O cluster uptime:             1 minutes 59 seconds 68 milliseconds\n",
       "H2O cluster version:            3.8.2.9\n",
       "H2O cluster name:               H2O_started_from_python_dgonzalez_esg210\n",
       "H2O cluster total nodes:        1\n",
       "H2O cluster total free memory:  1.76 GB\n",
       "H2O cluster total cores:        4\n",
       "H2O cluster allowed cores:      4\n",
       "H2O cluster healthy:            True\n",
       "H2O Connection ip:              127.0.0.1\n",
       "H2O Connection port:            54321\n",
       "H2O Connection proxy:\n",
       "Python Version:                 3.5.2\n",
       "------------------------------  ----------------------------------------"
      ]
     },
     "metadata": {},
     "output_type": "display_data"
    }
   ],
   "source": [
    "h2o.init()"
   ]
  },
  {
   "cell_type": "code",
   "execution_count": 3,
   "metadata": {
    "collapsed": true
   },
   "outputs": [],
   "source": [
    "df = pd.read_csv('challenge.csv') #imported with pandas"
   ]
  },
  {
   "cell_type": "code",
   "execution_count": 4,
   "metadata": {
    "collapsed": false
   },
   "outputs": [
    {
     "name": "stdout",
     "output_type": "stream",
     "text": [
      "\n",
      "Parse Progress: [##################################################] 100%\n"
     ]
    }
   ],
   "source": [
    "df = h2o.H2OFrame(df) #df is now a h2o.frame.H2OFrame"
   ]
  },
  {
   "cell_type": "code",
   "execution_count": 5,
   "metadata": {
    "collapsed": false
   },
   "outputs": [
    {
     "data": {
      "text/plain": [
       "{'C1': 'enum',\n",
       " 'C10': 'int',\n",
       " 'C11': 'int',\n",
       " 'C12': 'int',\n",
       " 'C13': 'int',\n",
       " 'C14': 'int',\n",
       " 'C15': 'int',\n",
       " 'C16': 'int',\n",
       " 'C17': 'int',\n",
       " 'C18': 'int',\n",
       " 'C19': 'int',\n",
       " 'C2': 'int',\n",
       " 'C3': 'int',\n",
       " 'C4': 'int',\n",
       " 'C5': 'int',\n",
       " 'C6': 'int',\n",
       " 'C7': 'int',\n",
       " 'C8': 'int',\n",
       " 'C9': 'int'}"
      ]
     },
     "execution_count": 5,
     "metadata": {},
     "output_type": "execute_result"
    }
   ],
   "source": [
    "df.types #returns a dictionary of dtypes"
   ]
  },
  {
   "cell_type": "code",
   "execution_count": 6,
   "metadata": {
    "collapsed": false
   },
   "outputs": [
    {
     "data": {
      "text/html": [
       "<table>\n",
       "<tr><th>C1  </th><th style=\"text-align: right;\">  C2</th><th style=\"text-align: right;\">  C3</th><th style=\"text-align: right;\">  C4</th><th style=\"text-align: right;\">  C5</th><th style=\"text-align: right;\">  C6</th><th style=\"text-align: right;\">  C7</th><th style=\"text-align: right;\">  C8</th><th style=\"text-align: right;\">  C9</th><th style=\"text-align: right;\">  C10</th><th style=\"text-align: right;\">  C11</th><th style=\"text-align: right;\">  C12</th><th style=\"text-align: right;\">  C13</th><th style=\"text-align: right;\">  C14</th><th style=\"text-align: right;\">  C15</th><th style=\"text-align: right;\">  C16</th><th style=\"text-align: right;\">  C17</th><th style=\"text-align: right;\">  C18</th><th style=\"text-align: right;\">  C19</th></tr>\n",
       "<tr><td>B   </td><td style=\"text-align: right;\">1312</td><td style=\"text-align: right;\">1445</td><td style=\"text-align: right;\"> 882</td><td style=\"text-align: right;\"> nan</td><td style=\"text-align: right;\"> 609</td><td style=\"text-align: right;\"> 241</td><td style=\"text-align: right;\"> 180</td><td style=\"text-align: right;\"> 394</td><td style=\"text-align: right;\">  782</td><td style=\"text-align: right;\">  249</td><td style=\"text-align: right;\">  227</td><td style=\"text-align: right;\">  531</td><td style=\"text-align: right;\">  153</td><td style=\"text-align: right;\">   88</td><td style=\"text-align: right;\"> 1086</td><td style=\"text-align: right;\">  131</td><td style=\"text-align: right;\">  179</td><td style=\"text-align: right;\">  591</td></tr>\n",
       "<tr><td>B   </td><td style=\"text-align: right;\">1439</td><td style=\"text-align: right;\">1503</td><td style=\"text-align: right;\"> 985</td><td style=\"text-align: right;\"> 230</td><td style=\"text-align: right;\"> 629</td><td style=\"text-align: right;\"> 222</td><td style=\"text-align: right;\"> 150</td><td style=\"text-align: right;\"> 416</td><td style=\"text-align: right;\">  824</td><td style=\"text-align: right;\">  233</td><td style=\"text-align: right;\">  248</td><td style=\"text-align: right;\">  632</td><td style=\"text-align: right;\">  141</td><td style=\"text-align: right;\">  100</td><td style=\"text-align: right;\"> 1158</td><td style=\"text-align: right;\">  148</td><td style=\"text-align: right;\">  181</td><td style=\"text-align: right;\">  643</td></tr>\n",
       "<tr><td>B   </td><td style=\"text-align: right;\">1378</td><td style=\"text-align: right;\">1464</td><td style=\"text-align: right;\"> 934</td><td style=\"text-align: right;\"> nan</td><td style=\"text-align: right;\"> 620</td><td style=\"text-align: right;\"> 233</td><td style=\"text-align: right;\"> 135</td><td style=\"text-align: right;\"> 403</td><td style=\"text-align: right;\">  778</td><td style=\"text-align: right;\">  244</td><td style=\"text-align: right;\">  240</td><td style=\"text-align: right;\">  575</td><td style=\"text-align: right;\">  144</td><td style=\"text-align: right;\">  107</td><td style=\"text-align: right;\"> 1131</td><td style=\"text-align: right;\">  116</td><td style=\"text-align: right;\">  169</td><td style=\"text-align: right;\">  610</td></tr>\n",
       "<tr><td>B   </td><td style=\"text-align: right;\">1315</td><td style=\"text-align: right;\">1367</td><td style=\"text-align: right;\"> 895</td><td style=\"text-align: right;\"> 230</td><td style=\"text-align: right;\"> 564</td><td style=\"text-align: right;\"> 207</td><td style=\"text-align: right;\"> 158</td><td style=\"text-align: right;\"> 394</td><td style=\"text-align: right;\">  801</td><td style=\"text-align: right;\">  224</td><td style=\"text-align: right;\">  242</td><td style=\"text-align: right;\">  568</td><td style=\"text-align: right;\">  116</td><td style=\"text-align: right;\">   79</td><td style=\"text-align: right;\"> 1090</td><td style=\"text-align: right;\">  132</td><td style=\"text-align: right;\">  189</td><td style=\"text-align: right;\">  594</td></tr>\n",
       "<tr><td>B   </td><td style=\"text-align: right;\">1413</td><td style=\"text-align: right;\">1500</td><td style=\"text-align: right;\"> 969</td><td style=\"text-align: right;\"> nan</td><td style=\"text-align: right;\"> 645</td><td style=\"text-align: right;\"> 247</td><td style=\"text-align: right;\"> 161</td><td style=\"text-align: right;\"> 426</td><td style=\"text-align: right;\">  823</td><td style=\"text-align: right;\">  241</td><td style=\"text-align: right;\">  252</td><td style=\"text-align: right;\">  607</td><td style=\"text-align: right;\">  120</td><td style=\"text-align: right;\">   99</td><td style=\"text-align: right;\"> 1175</td><td style=\"text-align: right;\">  131</td><td style=\"text-align: right;\">  197</td><td style=\"text-align: right;\">  654</td></tr>\n",
       "<tr><td>B   </td><td style=\"text-align: right;\">1090</td><td style=\"text-align: right;\">1195</td><td style=\"text-align: right;\"> 740</td><td style=\"text-align: right;\"> nan</td><td style=\"text-align: right;\"> 493</td><td style=\"text-align: right;\"> 189</td><td style=\"text-align: right;\"> 122</td><td style=\"text-align: right;\"> 350</td><td style=\"text-align: right;\">  673</td><td style=\"text-align: right;\">  234</td><td style=\"text-align: right;\">  185</td><td style=\"text-align: right;\">  462</td><td style=\"text-align: right;\">  188</td><td style=\"text-align: right;\">   90</td><td style=\"text-align: right;\">  901</td><td style=\"text-align: right;\">  101</td><td style=\"text-align: right;\">  138</td><td style=\"text-align: right;\">  476</td></tr>\n",
       "<tr><td>B   </td><td style=\"text-align: right;\">1294</td><td style=\"text-align: right;\">1421</td><td style=\"text-align: right;\"> 872</td><td style=\"text-align: right;\"> 239</td><td style=\"text-align: right;\"> 606</td><td style=\"text-align: right;\"> 226</td><td style=\"text-align: right;\"> 155</td><td style=\"text-align: right;\"> 396</td><td style=\"text-align: right;\">  780</td><td style=\"text-align: right;\">  237</td><td style=\"text-align: right;\">  238</td><td style=\"text-align: right;\">  577</td><td style=\"text-align: right;\">  149</td><td style=\"text-align: right;\">  101</td><td style=\"text-align: right;\"> 1084</td><td style=\"text-align: right;\">  124</td><td style=\"text-align: right;\">  168</td><td style=\"text-align: right;\">  578</td></tr>\n",
       "<tr><td>B   </td><td style=\"text-align: right;\">1377</td><td style=\"text-align: right;\">1504</td><td style=\"text-align: right;\"> 954</td><td style=\"text-align: right;\"> 248</td><td style=\"text-align: right;\"> 660</td><td style=\"text-align: right;\"> 240</td><td style=\"text-align: right;\"> 159</td><td style=\"text-align: right;\"> 417</td><td style=\"text-align: right;\">  812</td><td style=\"text-align: right;\">  240</td><td style=\"text-align: right;\">  245</td><td style=\"text-align: right;\">  614</td><td style=\"text-align: right;\">  128</td><td style=\"text-align: right;\">   91</td><td style=\"text-align: right;\"> 1149</td><td style=\"text-align: right;\">  129</td><td style=\"text-align: right;\">  175</td><td style=\"text-align: right;\">  628</td></tr>\n",
       "<tr><td>B   </td><td style=\"text-align: right;\">1296</td><td style=\"text-align: right;\">1439</td><td style=\"text-align: right;\"> 878</td><td style=\"text-align: right;\"> 208</td><td style=\"text-align: right;\"> 630</td><td style=\"text-align: right;\"> 215</td><td style=\"text-align: right;\"> nan</td><td style=\"text-align: right;\"> 387</td><td style=\"text-align: right;\">  759</td><td style=\"text-align: right;\">  248</td><td style=\"text-align: right;\">  219</td><td style=\"text-align: right;\">  584</td><td style=\"text-align: right;\">  151</td><td style=\"text-align: right;\">  117</td><td style=\"text-align: right;\"> 1069</td><td style=\"text-align: right;\">  121</td><td style=\"text-align: right;\">  159</td><td style=\"text-align: right;\">  578</td></tr>\n",
       "<tr><td>B   </td><td style=\"text-align: right;\">1470</td><td style=\"text-align: right;\">1563</td><td style=\"text-align: right;\"> 987</td><td style=\"text-align: right;\"> 236</td><td style=\"text-align: right;\"> 672</td><td style=\"text-align: right;\"> 231</td><td style=\"text-align: right;\"> 185</td><td style=\"text-align: right;\"> 429</td><td style=\"text-align: right;\">  856</td><td style=\"text-align: right;\">  227</td><td style=\"text-align: right;\">  268</td><td style=\"text-align: right;\">  659</td><td style=\"text-align: right;\">  103</td><td style=\"text-align: right;\">   94</td><td style=\"text-align: right;\"> 1240</td><td style=\"text-align: right;\">  132</td><td style=\"text-align: right;\">  196</td><td style=\"text-align: right;\">  683</td></tr>\n",
       "</table>"
      ]
     },
     "metadata": {},
     "output_type": "display_data"
    },
    {
     "data": {
      "text/plain": []
     },
     "execution_count": 6,
     "metadata": {},
     "output_type": "execute_result"
    }
   ],
   "source": [
    "df.head()"
   ]
  },
  {
   "cell_type": "code",
   "execution_count": 7,
   "metadata": {
    "collapsed": false
   },
   "outputs": [
    {
     "data": {
      "text/plain": [
       "['C1',\n",
       " 'C2',\n",
       " 'C3',\n",
       " 'C4',\n",
       " 'C5',\n",
       " 'C6',\n",
       " 'C7',\n",
       " 'C8',\n",
       " 'C9',\n",
       " 'C10',\n",
       " 'C11',\n",
       " 'C12',\n",
       " 'C13',\n",
       " 'C14',\n",
       " 'C15',\n",
       " 'C16',\n",
       " 'C17',\n",
       " 'C18',\n",
       " 'C19']"
      ]
     },
     "execution_count": 7,
     "metadata": {},
     "output_type": "execute_result"
    }
   ],
   "source": [
    "df.columns #list of column names"
   ]
  },
  {
   "cell_type": "code",
   "execution_count": 8,
   "metadata": {
    "collapsed": false
   },
   "outputs": [
    {
     "name": "stdout",
     "output_type": "stream",
     "text": [
      "Rows:148 Cols:19\n",
      "\n",
      "Chunk compression summary: \n"
     ]
    },
    {
     "data": {
      "text/html": [
       "<div style=\"overflow:auto\"><table style=\"width:50%\"><tr><td><b>chunk_type</b></td>\n",
       "<td><b>chunk_name</b></td>\n",
       "<td><b>count</b></td>\n",
       "<td><b>count_percentage</b></td>\n",
       "<td><b>size</b></td>\n",
       "<td><b>size_percentage</b></td></tr>\n",
       "<tr><td>C1N</td>\n",
       "<td>1-Byte Integers (w/o NAs)</td>\n",
       "<td>4</td>\n",
       "<td>21.052631</td>\n",
       "<td>    864  B</td>\n",
       "<td>16.0</td></tr>\n",
       "<tr><td>C1S</td>\n",
       "<td>1-Byte Fractions</td>\n",
       "<td>7</td>\n",
       "<td>36.842106</td>\n",
       "<td>    1.6 KB</td>\n",
       "<td>30.074076</td></tr>\n",
       "<tr><td>C2</td>\n",
       "<td>2-Byte Integers</td>\n",
       "<td>8</td>\n",
       "<td>42.105263</td>\n",
       "<td>    2.8 KB</td>\n",
       "<td>53.925926</td></tr></table></div>"
      ],
      "text/plain": [
       "chunk_type    chunk_name                 count    count_percentage    size    size_percentage\n",
       "------------  -------------------------  -------  ------------------  ------  -----------------\n",
       "C1N           1-Byte Integers (w/o NAs)  4        21.0526             864  B  16\n",
       "C1S           1-Byte Fractions           7        36.8421             1.6 KB  30.0741\n",
       "C2            2-Byte Integers            8        42.1053             2.8 KB  53.9259"
      ]
     },
     "metadata": {},
     "output_type": "display_data"
    },
    {
     "name": "stdout",
     "output_type": "stream",
     "text": [
      "\n",
      "Frame distribution summary: \n"
     ]
    },
    {
     "data": {
      "text/html": [
       "<div style=\"overflow:auto\"><table style=\"width:50%\"><tr><td><b></b></td>\n",
       "<td><b>size</b></td>\n",
       "<td><b>number_of_rows</b></td>\n",
       "<td><b>number_of_chunks_per_column</b></td>\n",
       "<td><b>number_of_chunks</b></td></tr>\n",
       "<tr><td>127.0.0.1:54321</td>\n",
       "<td>    5.3 KB</td>\n",
       "<td>148.0</td>\n",
       "<td>1.0</td>\n",
       "<td>19.0</td></tr>\n",
       "<tr><td>mean</td>\n",
       "<td>    5.3 KB</td>\n",
       "<td>148.0</td>\n",
       "<td>1.0</td>\n",
       "<td>19.0</td></tr>\n",
       "<tr><td>min</td>\n",
       "<td>    5.3 KB</td>\n",
       "<td>148.0</td>\n",
       "<td>1.0</td>\n",
       "<td>19.0</td></tr>\n",
       "<tr><td>max</td>\n",
       "<td>    5.3 KB</td>\n",
       "<td>148.0</td>\n",
       "<td>1.0</td>\n",
       "<td>19.0</td></tr>\n",
       "<tr><td>stddev</td>\n",
       "<td>      0  B</td>\n",
       "<td>0.0</td>\n",
       "<td>0.0</td>\n",
       "<td>0.0</td></tr>\n",
       "<tr><td>total</td>\n",
       "<td>    5.3 KB</td>\n",
       "<td>148.0</td>\n",
       "<td>1.0</td>\n",
       "<td>19.0</td></tr></table></div>"
      ],
      "text/plain": [
       "                 size    number_of_rows    number_of_chunks_per_column    number_of_chunks\n",
       "---------------  ------  ----------------  -----------------------------  ------------------\n",
       "127.0.0.1:54321  5.3 KB  148               1                              19\n",
       "mean             5.3 KB  148               1                              19\n",
       "min              5.3 KB  148               1                              19\n",
       "max              5.3 KB  148               1                              19\n",
       "stddev           0  B    0                 0                              0\n",
       "total            5.3 KB  148               1                              19"
      ]
     },
     "metadata": {},
     "output_type": "display_data"
    },
    {
     "name": "stdout",
     "output_type": "stream",
     "text": [
      "\n",
      "\n"
     ]
    },
    {
     "data": {
      "text/html": [
       "<table>\n",
       "<tr><th>       </th><th>C1  </th><th>C2               </th><th>C3                </th><th>C4                </th><th>C5                </th><th>C6               </th><th>C7                </th><th>C8               </th><th>C9               </th><th>C10              </th><th>C11               </th><th>C12               </th><th>C13              </th><th>C14               </th><th>C15               </th><th>C16               </th><th>C17               </th><th>C18               </th><th>C19              </th></tr>\n",
       "<tr><td>type   </td><td>enum</td><td>int              </td><td>int               </td><td>int               </td><td>int               </td><td>int              </td><td>int               </td><td>int              </td><td>int              </td><td>int              </td><td>int               </td><td>int               </td><td>int              </td><td>int               </td><td>int               </td><td>int               </td><td>int               </td><td>int               </td><td>int              </td></tr>\n",
       "<tr><td>mins   </td><td>0.0 </td><td>1030.0           </td><td>1121.0            </td><td>665.0             </td><td>172.0             </td><td>434.0            </td><td>141.0             </td><td>121.0            </td><td>303.0            </td><td>640.0            </td><td>190.0             </td><td>173.0             </td><td>435.0            </td><td>13.0              </td><td>60.0              </td><td>856.0             </td><td>101.0             </td><td>132.0             </td><td>473.0            </td></tr>\n",
       "<tr><td>mean   </td><td>NaN </td><td>1490.047619047619</td><td>1557.8287671232872</td><td>1020.7210884353733</td><td>256.91129032258056</td><td>662.9183673469389</td><td>232.78378378378378</td><td>179.6530612244898</td><td>441.3716216216217</td><td>876.6326530612243</td><td>239.3648648648648 </td><td>271.7931034482758 </td><td>650.9489051094889</td><td>123.4864864864865 </td><td>94.51351351351349 </td><td>1247.1029411764705</td><td>138.972972972973  </td><td>195.94594594594588</td><td>698.7905405405406</td></tr>\n",
       "<tr><td>maxs   </td><td>2.0 </td><td>1893.0           </td><td>1945.0            </td><td>1315.0            </td><td>332.0             </td><td>893.0            </td><td>308.0             </td><td>299.0            </td><td>547.0            </td><td>1090.0           </td><td>290.0             </td><td>371.0             </td><td>798.0            </td><td>216.0             </td><td>137.0             </td><td>1568.0            </td><td>169.0             </td><td>271.0             </td><td>880.0            </td></tr>\n",
       "<tr><td>sigma  </td><td>NaN </td><td>165.0343813632889</td><td>153.62575931583237</td><td>124.31757732390021</td><td>32.15865448808662 </td><td>88.82247264420903</td><td>29.573738244409522</td><td>27.33296796590142</td><td>42.67808314610587</td><td>76.45592172991306</td><td>16.870917958745746</td><td>36.535921546040015</td><td>67.84501381478002</td><td>41.444904249515595</td><td>14.548294654947117</td><td>145.16041085700428</td><td>13.821971046790406</td><td>22.754167976957298</td><td>77.54360225090119</td></tr>\n",
       "<tr><td>zeros  </td><td>50  </td><td>0                </td><td>0                 </td><td>0                 </td><td>0                 </td><td>0                </td><td>0                 </td><td>0                </td><td>0                </td><td>0                </td><td>0                 </td><td>0                 </td><td>0                </td><td>0                 </td><td>0                 </td><td>0                 </td><td>0                 </td><td>0                 </td><td>0                </td></tr>\n",
       "<tr><td>missing</td><td>0   </td><td>1                </td><td>2                 </td><td>1                 </td><td>24                </td><td>1                </td><td>0                 </td><td>1                </td><td>0                </td><td>1                </td><td>0                 </td><td>3                 </td><td>11               </td><td>0                 </td><td>0                 </td><td>12                </td><td>0                 </td><td>0                 </td><td>0                </td></tr>\n",
       "<tr><td>0      </td><td>B   </td><td>1312.0           </td><td>1445.0            </td><td>882.0             </td><td>nan               </td><td>609.0            </td><td>241.0             </td><td>180.0            </td><td>394.0            </td><td>782.0            </td><td>249.0             </td><td>227.0             </td><td>531.0            </td><td>153.0             </td><td>88.0              </td><td>1086.0            </td><td>131.0             </td><td>179.0             </td><td>591.0            </td></tr>\n",
       "<tr><td>1      </td><td>B   </td><td>1439.0           </td><td>1503.0            </td><td>985.0             </td><td>230.0             </td><td>629.0            </td><td>222.0             </td><td>150.0            </td><td>416.0            </td><td>824.0            </td><td>233.0             </td><td>248.0             </td><td>632.0            </td><td>141.0             </td><td>100.0             </td><td>1158.0            </td><td>148.0             </td><td>181.0             </td><td>643.0            </td></tr>\n",
       "<tr><td>2      </td><td>B   </td><td>1378.0           </td><td>1464.0            </td><td>934.0             </td><td>nan               </td><td>620.0            </td><td>233.0             </td><td>135.0            </td><td>403.0            </td><td>778.0            </td><td>244.0             </td><td>240.0             </td><td>575.0            </td><td>144.0             </td><td>107.0             </td><td>1131.0            </td><td>116.0             </td><td>169.0             </td><td>610.0            </td></tr>\n",
       "<tr><td>3      </td><td>B   </td><td>1315.0           </td><td>1367.0            </td><td>895.0             </td><td>230.0             </td><td>564.0            </td><td>207.0             </td><td>158.0            </td><td>394.0            </td><td>801.0            </td><td>224.0             </td><td>242.0             </td><td>568.0            </td><td>116.0             </td><td>79.0              </td><td>1090.0            </td><td>132.0             </td><td>189.0             </td><td>594.0            </td></tr>\n",
       "<tr><td>4      </td><td>B   </td><td>1413.0           </td><td>1500.0            </td><td>969.0             </td><td>nan               </td><td>645.0            </td><td>247.0             </td><td>161.0            </td><td>426.0            </td><td>823.0            </td><td>241.0             </td><td>252.0             </td><td>607.0            </td><td>120.0             </td><td>99.0              </td><td>1175.0            </td><td>131.0             </td><td>197.0             </td><td>654.0            </td></tr>\n",
       "<tr><td>5      </td><td>B   </td><td>1090.0           </td><td>1195.0            </td><td>740.0             </td><td>nan               </td><td>493.0            </td><td>189.0             </td><td>122.0            </td><td>350.0            </td><td>673.0            </td><td>234.0             </td><td>185.0             </td><td>462.0            </td><td>188.0             </td><td>90.0              </td><td>901.0             </td><td>101.0             </td><td>138.0             </td><td>476.0            </td></tr>\n",
       "<tr><td>6      </td><td>B   </td><td>1294.0           </td><td>1421.0            </td><td>872.0             </td><td>239.0             </td><td>606.0            </td><td>226.0             </td><td>155.0            </td><td>396.0            </td><td>780.0            </td><td>237.0             </td><td>238.0             </td><td>577.0            </td><td>149.0             </td><td>101.0             </td><td>1084.0            </td><td>124.0             </td><td>168.0             </td><td>578.0            </td></tr>\n",
       "<tr><td>7      </td><td>B   </td><td>1377.0           </td><td>1504.0            </td><td>954.0             </td><td>248.0             </td><td>660.0            </td><td>240.0             </td><td>159.0            </td><td>417.0            </td><td>812.0            </td><td>240.0             </td><td>245.0             </td><td>614.0            </td><td>128.0             </td><td>91.0              </td><td>1149.0            </td><td>129.0             </td><td>175.0             </td><td>628.0            </td></tr>\n",
       "<tr><td>8      </td><td>B   </td><td>1296.0           </td><td>1439.0            </td><td>878.0             </td><td>208.0             </td><td>630.0            </td><td>215.0             </td><td>nan              </td><td>387.0            </td><td>759.0            </td><td>248.0             </td><td>219.0             </td><td>584.0            </td><td>151.0             </td><td>117.0             </td><td>1069.0            </td><td>121.0             </td><td>159.0             </td><td>578.0            </td></tr>\n",
       "<tr><td>9      </td><td>B   </td><td>1470.0           </td><td>1563.0            </td><td>987.0             </td><td>236.0             </td><td>672.0            </td><td>231.0             </td><td>185.0            </td><td>429.0            </td><td>856.0            </td><td>227.0             </td><td>268.0             </td><td>659.0            </td><td>103.0             </td><td>94.0              </td><td>1240.0            </td><td>132.0             </td><td>196.0             </td><td>683.0            </td></tr>\n",
       "</table>"
      ]
     },
     "metadata": {},
     "output_type": "display_data"
    }
   ],
   "source": [
    "df.describe()"
   ]
  },
  {
   "cell_type": "code",
   "execution_count": 9,
   "metadata": {
    "collapsed": false
   },
   "outputs": [],
   "source": [
    "y = df['C1'] #response\n",
    "X = df[1:] #explanatory"
   ]
  },
  {
   "cell_type": "code",
   "execution_count": 10,
   "metadata": {
    "collapsed": false
   },
   "outputs": [
    {
     "data": {
      "text/html": [
       "<table>\n",
       "<tr><th style=\"text-align: right;\">  C2</th><th style=\"text-align: right;\">  C3</th><th style=\"text-align: right;\">  C4</th><th style=\"text-align: right;\">  C5</th><th style=\"text-align: right;\">  C6</th><th style=\"text-align: right;\">  C7</th><th style=\"text-align: right;\">  C8</th><th style=\"text-align: right;\">  C9</th><th style=\"text-align: right;\">  C10</th><th style=\"text-align: right;\">  C11</th><th style=\"text-align: right;\">  C12</th><th style=\"text-align: right;\">  C13</th><th style=\"text-align: right;\">  C14</th><th style=\"text-align: right;\">  C15</th><th style=\"text-align: right;\">  C16</th><th style=\"text-align: right;\">  C17</th><th style=\"text-align: right;\">  C18</th><th style=\"text-align: right;\">  C19</th></tr>\n",
       "<tr><td style=\"text-align: right;\">1312</td><td style=\"text-align: right;\">1445</td><td style=\"text-align: right;\"> 882</td><td style=\"text-align: right;\"> nan</td><td style=\"text-align: right;\"> 609</td><td style=\"text-align: right;\"> 241</td><td style=\"text-align: right;\"> 180</td><td style=\"text-align: right;\"> 394</td><td style=\"text-align: right;\">  782</td><td style=\"text-align: right;\">  249</td><td style=\"text-align: right;\">  227</td><td style=\"text-align: right;\">  531</td><td style=\"text-align: right;\">  153</td><td style=\"text-align: right;\">   88</td><td style=\"text-align: right;\"> 1086</td><td style=\"text-align: right;\">  131</td><td style=\"text-align: right;\">  179</td><td style=\"text-align: right;\">  591</td></tr>\n",
       "<tr><td style=\"text-align: right;\">1439</td><td style=\"text-align: right;\">1503</td><td style=\"text-align: right;\"> 985</td><td style=\"text-align: right;\"> 230</td><td style=\"text-align: right;\"> 629</td><td style=\"text-align: right;\"> 222</td><td style=\"text-align: right;\"> 150</td><td style=\"text-align: right;\"> 416</td><td style=\"text-align: right;\">  824</td><td style=\"text-align: right;\">  233</td><td style=\"text-align: right;\">  248</td><td style=\"text-align: right;\">  632</td><td style=\"text-align: right;\">  141</td><td style=\"text-align: right;\">  100</td><td style=\"text-align: right;\"> 1158</td><td style=\"text-align: right;\">  148</td><td style=\"text-align: right;\">  181</td><td style=\"text-align: right;\">  643</td></tr>\n",
       "<tr><td style=\"text-align: right;\">1378</td><td style=\"text-align: right;\">1464</td><td style=\"text-align: right;\"> 934</td><td style=\"text-align: right;\"> nan</td><td style=\"text-align: right;\"> 620</td><td style=\"text-align: right;\"> 233</td><td style=\"text-align: right;\"> 135</td><td style=\"text-align: right;\"> 403</td><td style=\"text-align: right;\">  778</td><td style=\"text-align: right;\">  244</td><td style=\"text-align: right;\">  240</td><td style=\"text-align: right;\">  575</td><td style=\"text-align: right;\">  144</td><td style=\"text-align: right;\">  107</td><td style=\"text-align: right;\"> 1131</td><td style=\"text-align: right;\">  116</td><td style=\"text-align: right;\">  169</td><td style=\"text-align: right;\">  610</td></tr>\n",
       "<tr><td style=\"text-align: right;\">1315</td><td style=\"text-align: right;\">1367</td><td style=\"text-align: right;\"> 895</td><td style=\"text-align: right;\"> 230</td><td style=\"text-align: right;\"> 564</td><td style=\"text-align: right;\"> 207</td><td style=\"text-align: right;\"> 158</td><td style=\"text-align: right;\"> 394</td><td style=\"text-align: right;\">  801</td><td style=\"text-align: right;\">  224</td><td style=\"text-align: right;\">  242</td><td style=\"text-align: right;\">  568</td><td style=\"text-align: right;\">  116</td><td style=\"text-align: right;\">   79</td><td style=\"text-align: right;\"> 1090</td><td style=\"text-align: right;\">  132</td><td style=\"text-align: right;\">  189</td><td style=\"text-align: right;\">  594</td></tr>\n",
       "<tr><td style=\"text-align: right;\">1413</td><td style=\"text-align: right;\">1500</td><td style=\"text-align: right;\"> 969</td><td style=\"text-align: right;\"> nan</td><td style=\"text-align: right;\"> 645</td><td style=\"text-align: right;\"> 247</td><td style=\"text-align: right;\"> 161</td><td style=\"text-align: right;\"> 426</td><td style=\"text-align: right;\">  823</td><td style=\"text-align: right;\">  241</td><td style=\"text-align: right;\">  252</td><td style=\"text-align: right;\">  607</td><td style=\"text-align: right;\">  120</td><td style=\"text-align: right;\">   99</td><td style=\"text-align: right;\"> 1175</td><td style=\"text-align: right;\">  131</td><td style=\"text-align: right;\">  197</td><td style=\"text-align: right;\">  654</td></tr>\n",
       "<tr><td style=\"text-align: right;\">1090</td><td style=\"text-align: right;\">1195</td><td style=\"text-align: right;\"> 740</td><td style=\"text-align: right;\"> nan</td><td style=\"text-align: right;\"> 493</td><td style=\"text-align: right;\"> 189</td><td style=\"text-align: right;\"> 122</td><td style=\"text-align: right;\"> 350</td><td style=\"text-align: right;\">  673</td><td style=\"text-align: right;\">  234</td><td style=\"text-align: right;\">  185</td><td style=\"text-align: right;\">  462</td><td style=\"text-align: right;\">  188</td><td style=\"text-align: right;\">   90</td><td style=\"text-align: right;\">  901</td><td style=\"text-align: right;\">  101</td><td style=\"text-align: right;\">  138</td><td style=\"text-align: right;\">  476</td></tr>\n",
       "<tr><td style=\"text-align: right;\">1294</td><td style=\"text-align: right;\">1421</td><td style=\"text-align: right;\"> 872</td><td style=\"text-align: right;\"> 239</td><td style=\"text-align: right;\"> 606</td><td style=\"text-align: right;\"> 226</td><td style=\"text-align: right;\"> 155</td><td style=\"text-align: right;\"> 396</td><td style=\"text-align: right;\">  780</td><td style=\"text-align: right;\">  237</td><td style=\"text-align: right;\">  238</td><td style=\"text-align: right;\">  577</td><td style=\"text-align: right;\">  149</td><td style=\"text-align: right;\">  101</td><td style=\"text-align: right;\"> 1084</td><td style=\"text-align: right;\">  124</td><td style=\"text-align: right;\">  168</td><td style=\"text-align: right;\">  578</td></tr>\n",
       "<tr><td style=\"text-align: right;\">1377</td><td style=\"text-align: right;\">1504</td><td style=\"text-align: right;\"> 954</td><td style=\"text-align: right;\"> 248</td><td style=\"text-align: right;\"> 660</td><td style=\"text-align: right;\"> 240</td><td style=\"text-align: right;\"> 159</td><td style=\"text-align: right;\"> 417</td><td style=\"text-align: right;\">  812</td><td style=\"text-align: right;\">  240</td><td style=\"text-align: right;\">  245</td><td style=\"text-align: right;\">  614</td><td style=\"text-align: right;\">  128</td><td style=\"text-align: right;\">   91</td><td style=\"text-align: right;\"> 1149</td><td style=\"text-align: right;\">  129</td><td style=\"text-align: right;\">  175</td><td style=\"text-align: right;\">  628</td></tr>\n",
       "<tr><td style=\"text-align: right;\">1296</td><td style=\"text-align: right;\">1439</td><td style=\"text-align: right;\"> 878</td><td style=\"text-align: right;\"> 208</td><td style=\"text-align: right;\"> 630</td><td style=\"text-align: right;\"> 215</td><td style=\"text-align: right;\"> nan</td><td style=\"text-align: right;\"> 387</td><td style=\"text-align: right;\">  759</td><td style=\"text-align: right;\">  248</td><td style=\"text-align: right;\">  219</td><td style=\"text-align: right;\">  584</td><td style=\"text-align: right;\">  151</td><td style=\"text-align: right;\">  117</td><td style=\"text-align: right;\"> 1069</td><td style=\"text-align: right;\">  121</td><td style=\"text-align: right;\">  159</td><td style=\"text-align: right;\">  578</td></tr>\n",
       "<tr><td style=\"text-align: right;\">1470</td><td style=\"text-align: right;\">1563</td><td style=\"text-align: right;\"> 987</td><td style=\"text-align: right;\"> 236</td><td style=\"text-align: right;\"> 672</td><td style=\"text-align: right;\"> 231</td><td style=\"text-align: right;\"> 185</td><td style=\"text-align: right;\"> 429</td><td style=\"text-align: right;\">  856</td><td style=\"text-align: right;\">  227</td><td style=\"text-align: right;\">  268</td><td style=\"text-align: right;\">  659</td><td style=\"text-align: right;\">  103</td><td style=\"text-align: right;\">   94</td><td style=\"text-align: right;\"> 1240</td><td style=\"text-align: right;\">  132</td><td style=\"text-align: right;\">  196</td><td style=\"text-align: right;\">  683</td></tr>\n",
       "</table>"
      ]
     },
     "metadata": {},
     "output_type": "display_data"
    },
    {
     "data": {
      "text/plain": []
     },
     "execution_count": 10,
     "metadata": {},
     "output_type": "execute_result"
    }
   ],
   "source": [
    "X.head()"
   ]
  },
  {
   "cell_type": "code",
   "execution_count": 11,
   "metadata": {
    "collapsed": false
   },
   "outputs": [
    {
     "data": {
      "text/html": [
       "<table>\n",
       "<tr><th style=\"text-align: right;\">  C1</th><th style=\"text-align: right;\">  C2</th><th style=\"text-align: right;\">  C3</th><th style=\"text-align: right;\">  C4</th><th style=\"text-align: right;\">  C5</th><th style=\"text-align: right;\">  C6</th><th style=\"text-align: right;\">  C7</th><th style=\"text-align: right;\">  C8</th><th style=\"text-align: right;\">  C9</th><th style=\"text-align: right;\">  C10</th><th style=\"text-align: right;\">  C11</th><th style=\"text-align: right;\">  C12</th><th style=\"text-align: right;\">  C13</th><th style=\"text-align: right;\">  C14</th><th style=\"text-align: right;\">  C15</th><th style=\"text-align: right;\">  C16</th><th style=\"text-align: right;\">  C17</th><th style=\"text-align: right;\">  C18</th></tr>\n",
       "<tr><td style=\"text-align: right;\">   0</td><td style=\"text-align: right;\">   0</td><td style=\"text-align: right;\">   0</td><td style=\"text-align: right;\">   1</td><td style=\"text-align: right;\">   0</td><td style=\"text-align: right;\">   0</td><td style=\"text-align: right;\">   0</td><td style=\"text-align: right;\">   0</td><td style=\"text-align: right;\">   0</td><td style=\"text-align: right;\">    0</td><td style=\"text-align: right;\">    0</td><td style=\"text-align: right;\">    0</td><td style=\"text-align: right;\">    0</td><td style=\"text-align: right;\">    0</td><td style=\"text-align: right;\">    0</td><td style=\"text-align: right;\">    0</td><td style=\"text-align: right;\">    0</td><td style=\"text-align: right;\">    0</td></tr>\n",
       "<tr><td style=\"text-align: right;\">   0</td><td style=\"text-align: right;\">   0</td><td style=\"text-align: right;\">   0</td><td style=\"text-align: right;\">   0</td><td style=\"text-align: right;\">   0</td><td style=\"text-align: right;\">   0</td><td style=\"text-align: right;\">   0</td><td style=\"text-align: right;\">   0</td><td style=\"text-align: right;\">   0</td><td style=\"text-align: right;\">    0</td><td style=\"text-align: right;\">    0</td><td style=\"text-align: right;\">    0</td><td style=\"text-align: right;\">    0</td><td style=\"text-align: right;\">    0</td><td style=\"text-align: right;\">    0</td><td style=\"text-align: right;\">    0</td><td style=\"text-align: right;\">    0</td><td style=\"text-align: right;\">    0</td></tr>\n",
       "<tr><td style=\"text-align: right;\">   0</td><td style=\"text-align: right;\">   0</td><td style=\"text-align: right;\">   0</td><td style=\"text-align: right;\">   1</td><td style=\"text-align: right;\">   0</td><td style=\"text-align: right;\">   0</td><td style=\"text-align: right;\">   0</td><td style=\"text-align: right;\">   0</td><td style=\"text-align: right;\">   0</td><td style=\"text-align: right;\">    0</td><td style=\"text-align: right;\">    0</td><td style=\"text-align: right;\">    0</td><td style=\"text-align: right;\">    0</td><td style=\"text-align: right;\">    0</td><td style=\"text-align: right;\">    0</td><td style=\"text-align: right;\">    0</td><td style=\"text-align: right;\">    0</td><td style=\"text-align: right;\">    0</td></tr>\n",
       "<tr><td style=\"text-align: right;\">   0</td><td style=\"text-align: right;\">   0</td><td style=\"text-align: right;\">   0</td><td style=\"text-align: right;\">   0</td><td style=\"text-align: right;\">   0</td><td style=\"text-align: right;\">   0</td><td style=\"text-align: right;\">   0</td><td style=\"text-align: right;\">   0</td><td style=\"text-align: right;\">   0</td><td style=\"text-align: right;\">    0</td><td style=\"text-align: right;\">    0</td><td style=\"text-align: right;\">    0</td><td style=\"text-align: right;\">    0</td><td style=\"text-align: right;\">    0</td><td style=\"text-align: right;\">    0</td><td style=\"text-align: right;\">    0</td><td style=\"text-align: right;\">    0</td><td style=\"text-align: right;\">    0</td></tr>\n",
       "<tr><td style=\"text-align: right;\">   0</td><td style=\"text-align: right;\">   0</td><td style=\"text-align: right;\">   0</td><td style=\"text-align: right;\">   1</td><td style=\"text-align: right;\">   0</td><td style=\"text-align: right;\">   0</td><td style=\"text-align: right;\">   0</td><td style=\"text-align: right;\">   0</td><td style=\"text-align: right;\">   0</td><td style=\"text-align: right;\">    0</td><td style=\"text-align: right;\">    0</td><td style=\"text-align: right;\">    0</td><td style=\"text-align: right;\">    0</td><td style=\"text-align: right;\">    0</td><td style=\"text-align: right;\">    0</td><td style=\"text-align: right;\">    0</td><td style=\"text-align: right;\">    0</td><td style=\"text-align: right;\">    0</td></tr>\n",
       "<tr><td style=\"text-align: right;\">   0</td><td style=\"text-align: right;\">   0</td><td style=\"text-align: right;\">   0</td><td style=\"text-align: right;\">   1</td><td style=\"text-align: right;\">   0</td><td style=\"text-align: right;\">   0</td><td style=\"text-align: right;\">   0</td><td style=\"text-align: right;\">   0</td><td style=\"text-align: right;\">   0</td><td style=\"text-align: right;\">    0</td><td style=\"text-align: right;\">    0</td><td style=\"text-align: right;\">    0</td><td style=\"text-align: right;\">    0</td><td style=\"text-align: right;\">    0</td><td style=\"text-align: right;\">    0</td><td style=\"text-align: right;\">    0</td><td style=\"text-align: right;\">    0</td><td style=\"text-align: right;\">    0</td></tr>\n",
       "<tr><td style=\"text-align: right;\">   0</td><td style=\"text-align: right;\">   0</td><td style=\"text-align: right;\">   0</td><td style=\"text-align: right;\">   0</td><td style=\"text-align: right;\">   0</td><td style=\"text-align: right;\">   0</td><td style=\"text-align: right;\">   0</td><td style=\"text-align: right;\">   0</td><td style=\"text-align: right;\">   0</td><td style=\"text-align: right;\">    0</td><td style=\"text-align: right;\">    0</td><td style=\"text-align: right;\">    0</td><td style=\"text-align: right;\">    0</td><td style=\"text-align: right;\">    0</td><td style=\"text-align: right;\">    0</td><td style=\"text-align: right;\">    0</td><td style=\"text-align: right;\">    0</td><td style=\"text-align: right;\">    0</td></tr>\n",
       "<tr><td style=\"text-align: right;\">   0</td><td style=\"text-align: right;\">   0</td><td style=\"text-align: right;\">   0</td><td style=\"text-align: right;\">   0</td><td style=\"text-align: right;\">   0</td><td style=\"text-align: right;\">   0</td><td style=\"text-align: right;\">   0</td><td style=\"text-align: right;\">   0</td><td style=\"text-align: right;\">   0</td><td style=\"text-align: right;\">    0</td><td style=\"text-align: right;\">    0</td><td style=\"text-align: right;\">    0</td><td style=\"text-align: right;\">    0</td><td style=\"text-align: right;\">    0</td><td style=\"text-align: right;\">    0</td><td style=\"text-align: right;\">    0</td><td style=\"text-align: right;\">    0</td><td style=\"text-align: right;\">    0</td></tr>\n",
       "<tr><td style=\"text-align: right;\">   0</td><td style=\"text-align: right;\">   0</td><td style=\"text-align: right;\">   0</td><td style=\"text-align: right;\">   0</td><td style=\"text-align: right;\">   0</td><td style=\"text-align: right;\">   0</td><td style=\"text-align: right;\">   1</td><td style=\"text-align: right;\">   0</td><td style=\"text-align: right;\">   0</td><td style=\"text-align: right;\">    0</td><td style=\"text-align: right;\">    0</td><td style=\"text-align: right;\">    0</td><td style=\"text-align: right;\">    0</td><td style=\"text-align: right;\">    0</td><td style=\"text-align: right;\">    0</td><td style=\"text-align: right;\">    0</td><td style=\"text-align: right;\">    0</td><td style=\"text-align: right;\">    0</td></tr>\n",
       "<tr><td style=\"text-align: right;\">   0</td><td style=\"text-align: right;\">   0</td><td style=\"text-align: right;\">   0</td><td style=\"text-align: right;\">   0</td><td style=\"text-align: right;\">   0</td><td style=\"text-align: right;\">   0</td><td style=\"text-align: right;\">   0</td><td style=\"text-align: right;\">   0</td><td style=\"text-align: right;\">   0</td><td style=\"text-align: right;\">    0</td><td style=\"text-align: right;\">    0</td><td style=\"text-align: right;\">    0</td><td style=\"text-align: right;\">    0</td><td style=\"text-align: right;\">    0</td><td style=\"text-align: right;\">    0</td><td style=\"text-align: right;\">    0</td><td style=\"text-align: right;\">    0</td><td style=\"text-align: right;\">    0</td></tr>\n",
       "</table>"
      ]
     },
     "metadata": {},
     "output_type": "display_data"
    },
    {
     "data": {
      "text/plain": []
     },
     "execution_count": 11,
     "metadata": {},
     "output_type": "execute_result"
    }
   ],
   "source": [
    "X.isna()"
   ]
  },
  {
   "cell_type": "code",
   "execution_count": 12,
   "metadata": {
    "collapsed": false
   },
   "outputs": [
    {
     "data": {
      "text/plain": [
       "[1490.047619047619,\n",
       " 1557.8287671232872,\n",
       " 1020.7210884353733,\n",
       " 256.91129032258056,\n",
       " 662.9183673469389,\n",
       " 232.78378378378378,\n",
       " 179.6530612244898,\n",
       " 441.3716216216217,\n",
       " 876.6326530612243,\n",
       " 239.3648648648648,\n",
       " 271.7931034482758,\n",
       " 650.9489051094889,\n",
       " 123.4864864864865,\n",
       " 94.51351351351349,\n",
       " 1247.1029411764705,\n",
       " 138.972972972973,\n",
       " 195.94594594594588,\n",
       " 698.7905405405406]"
      ]
     },
     "execution_count": 12,
     "metadata": {},
     "output_type": "execute_result"
    }
   ],
   "source": [
    "means = X.mean(na_rm=True) #ignores missing values\n",
    "means"
   ]
  },
  {
   "cell_type": "code",
   "execution_count": 13,
   "metadata": {
    "collapsed": false
   },
   "outputs": [
    {
     "data": {
      "text/plain": [
       "[1486.0,\n",
       " 1566.5,\n",
       " 1016.0,\n",
       " 256.0,\n",
       " 669.0,\n",
       " 233.5,\n",
       " 179.0,\n",
       " 440.0,\n",
       " 879.0,\n",
       " 239.0,\n",
       " 268.0,\n",
       " 650.0,\n",
       " 125.0,\n",
       " 94.5,\n",
       " 1241.5,\n",
       " 138.0,\n",
       " 194.5,\n",
       " 700.0]"
      ]
     },
     "execution_count": 13,
     "metadata": {},
     "output_type": "execute_result"
    }
   ],
   "source": [
    "medians = []\n",
    "for i in range(0,18):\n",
    "    medians.append(X[i].median(na_rm=True)) #did not end up using this. \n",
    "medians"
   ]
  },
  {
   "cell_type": "code",
   "execution_count": 14,
   "metadata": {
    "collapsed": false
   },
   "outputs": [
    {
     "data": {
      "text/plain": [
       "[1490.047619047619,\n",
       " 1557.8287671232872,\n",
       " 1020.7210884353733,\n",
       " 256.91129032258056,\n",
       " 662.9183673469389,\n",
       " 232.78378378378378,\n",
       " 179.6530612244898,\n",
       " 441.3716216216217,\n",
       " 876.6326530612243,\n",
       " 239.3648648648648,\n",
       " 271.7931034482758,\n",
       " 650.9489051094889,\n",
       " 123.4864864864865,\n",
       " 94.51351351351349,\n",
       " 1247.1029411764705,\n",
       " 138.972972972973,\n",
       " 195.94594594594588,\n",
       " 698.7905405405406]"
      ]
     },
     "execution_count": 14,
     "metadata": {},
     "output_type": "execute_result"
    }
   ],
   "source": [
    "X.impute(method='mean')"
   ]
  },
  {
   "cell_type": "code",
   "execution_count": 15,
   "metadata": {
    "collapsed": false
   },
   "outputs": [
    {
     "data": {
      "text/html": [
       "<table>\n",
       "<tr><th style=\"text-align: right;\">  C2</th><th style=\"text-align: right;\">  C3</th><th style=\"text-align: right;\">  C4</th><th style=\"text-align: right;\">     C5</th><th style=\"text-align: right;\">  C6</th><th style=\"text-align: right;\">  C7</th><th style=\"text-align: right;\">     C8</th><th style=\"text-align: right;\">  C9</th><th style=\"text-align: right;\">  C10</th><th style=\"text-align: right;\">  C11</th><th style=\"text-align: right;\">  C12</th><th style=\"text-align: right;\">  C13</th><th style=\"text-align: right;\">  C14</th><th style=\"text-align: right;\">  C15</th><th style=\"text-align: right;\">  C16</th><th style=\"text-align: right;\">  C17</th><th style=\"text-align: right;\">  C18</th><th style=\"text-align: right;\">  C19</th></tr>\n",
       "<tr><td style=\"text-align: right;\">1312</td><td style=\"text-align: right;\">1445</td><td style=\"text-align: right;\"> 882</td><td style=\"text-align: right;\">256.911</td><td style=\"text-align: right;\"> 609</td><td style=\"text-align: right;\"> 241</td><td style=\"text-align: right;\">180    </td><td style=\"text-align: right;\"> 394</td><td style=\"text-align: right;\">  782</td><td style=\"text-align: right;\">  249</td><td style=\"text-align: right;\">  227</td><td style=\"text-align: right;\">  531</td><td style=\"text-align: right;\">  153</td><td style=\"text-align: right;\">   88</td><td style=\"text-align: right;\"> 1086</td><td style=\"text-align: right;\">  131</td><td style=\"text-align: right;\">  179</td><td style=\"text-align: right;\">  591</td></tr>\n",
       "<tr><td style=\"text-align: right;\">1439</td><td style=\"text-align: right;\">1503</td><td style=\"text-align: right;\"> 985</td><td style=\"text-align: right;\">230    </td><td style=\"text-align: right;\"> 629</td><td style=\"text-align: right;\"> 222</td><td style=\"text-align: right;\">150    </td><td style=\"text-align: right;\"> 416</td><td style=\"text-align: right;\">  824</td><td style=\"text-align: right;\">  233</td><td style=\"text-align: right;\">  248</td><td style=\"text-align: right;\">  632</td><td style=\"text-align: right;\">  141</td><td style=\"text-align: right;\">  100</td><td style=\"text-align: right;\"> 1158</td><td style=\"text-align: right;\">  148</td><td style=\"text-align: right;\">  181</td><td style=\"text-align: right;\">  643</td></tr>\n",
       "<tr><td style=\"text-align: right;\">1378</td><td style=\"text-align: right;\">1464</td><td style=\"text-align: right;\"> 934</td><td style=\"text-align: right;\">256.911</td><td style=\"text-align: right;\"> 620</td><td style=\"text-align: right;\"> 233</td><td style=\"text-align: right;\">135    </td><td style=\"text-align: right;\"> 403</td><td style=\"text-align: right;\">  778</td><td style=\"text-align: right;\">  244</td><td style=\"text-align: right;\">  240</td><td style=\"text-align: right;\">  575</td><td style=\"text-align: right;\">  144</td><td style=\"text-align: right;\">  107</td><td style=\"text-align: right;\"> 1131</td><td style=\"text-align: right;\">  116</td><td style=\"text-align: right;\">  169</td><td style=\"text-align: right;\">  610</td></tr>\n",
       "<tr><td style=\"text-align: right;\">1315</td><td style=\"text-align: right;\">1367</td><td style=\"text-align: right;\"> 895</td><td style=\"text-align: right;\">230    </td><td style=\"text-align: right;\"> 564</td><td style=\"text-align: right;\"> 207</td><td style=\"text-align: right;\">158    </td><td style=\"text-align: right;\"> 394</td><td style=\"text-align: right;\">  801</td><td style=\"text-align: right;\">  224</td><td style=\"text-align: right;\">  242</td><td style=\"text-align: right;\">  568</td><td style=\"text-align: right;\">  116</td><td style=\"text-align: right;\">   79</td><td style=\"text-align: right;\"> 1090</td><td style=\"text-align: right;\">  132</td><td style=\"text-align: right;\">  189</td><td style=\"text-align: right;\">  594</td></tr>\n",
       "<tr><td style=\"text-align: right;\">1413</td><td style=\"text-align: right;\">1500</td><td style=\"text-align: right;\"> 969</td><td style=\"text-align: right;\">256.911</td><td style=\"text-align: right;\"> 645</td><td style=\"text-align: right;\"> 247</td><td style=\"text-align: right;\">161    </td><td style=\"text-align: right;\"> 426</td><td style=\"text-align: right;\">  823</td><td style=\"text-align: right;\">  241</td><td style=\"text-align: right;\">  252</td><td style=\"text-align: right;\">  607</td><td style=\"text-align: right;\">  120</td><td style=\"text-align: right;\">   99</td><td style=\"text-align: right;\"> 1175</td><td style=\"text-align: right;\">  131</td><td style=\"text-align: right;\">  197</td><td style=\"text-align: right;\">  654</td></tr>\n",
       "<tr><td style=\"text-align: right;\">1090</td><td style=\"text-align: right;\">1195</td><td style=\"text-align: right;\"> 740</td><td style=\"text-align: right;\">256.911</td><td style=\"text-align: right;\"> 493</td><td style=\"text-align: right;\"> 189</td><td style=\"text-align: right;\">122    </td><td style=\"text-align: right;\"> 350</td><td style=\"text-align: right;\">  673</td><td style=\"text-align: right;\">  234</td><td style=\"text-align: right;\">  185</td><td style=\"text-align: right;\">  462</td><td style=\"text-align: right;\">  188</td><td style=\"text-align: right;\">   90</td><td style=\"text-align: right;\">  901</td><td style=\"text-align: right;\">  101</td><td style=\"text-align: right;\">  138</td><td style=\"text-align: right;\">  476</td></tr>\n",
       "<tr><td style=\"text-align: right;\">1294</td><td style=\"text-align: right;\">1421</td><td style=\"text-align: right;\"> 872</td><td style=\"text-align: right;\">239    </td><td style=\"text-align: right;\"> 606</td><td style=\"text-align: right;\"> 226</td><td style=\"text-align: right;\">155    </td><td style=\"text-align: right;\"> 396</td><td style=\"text-align: right;\">  780</td><td style=\"text-align: right;\">  237</td><td style=\"text-align: right;\">  238</td><td style=\"text-align: right;\">  577</td><td style=\"text-align: right;\">  149</td><td style=\"text-align: right;\">  101</td><td style=\"text-align: right;\"> 1084</td><td style=\"text-align: right;\">  124</td><td style=\"text-align: right;\">  168</td><td style=\"text-align: right;\">  578</td></tr>\n",
       "<tr><td style=\"text-align: right;\">1377</td><td style=\"text-align: right;\">1504</td><td style=\"text-align: right;\"> 954</td><td style=\"text-align: right;\">248    </td><td style=\"text-align: right;\"> 660</td><td style=\"text-align: right;\"> 240</td><td style=\"text-align: right;\">159    </td><td style=\"text-align: right;\"> 417</td><td style=\"text-align: right;\">  812</td><td style=\"text-align: right;\">  240</td><td style=\"text-align: right;\">  245</td><td style=\"text-align: right;\">  614</td><td style=\"text-align: right;\">  128</td><td style=\"text-align: right;\">   91</td><td style=\"text-align: right;\"> 1149</td><td style=\"text-align: right;\">  129</td><td style=\"text-align: right;\">  175</td><td style=\"text-align: right;\">  628</td></tr>\n",
       "<tr><td style=\"text-align: right;\">1296</td><td style=\"text-align: right;\">1439</td><td style=\"text-align: right;\"> 878</td><td style=\"text-align: right;\">208    </td><td style=\"text-align: right;\"> 630</td><td style=\"text-align: right;\"> 215</td><td style=\"text-align: right;\">179.653</td><td style=\"text-align: right;\"> 387</td><td style=\"text-align: right;\">  759</td><td style=\"text-align: right;\">  248</td><td style=\"text-align: right;\">  219</td><td style=\"text-align: right;\">  584</td><td style=\"text-align: right;\">  151</td><td style=\"text-align: right;\">  117</td><td style=\"text-align: right;\"> 1069</td><td style=\"text-align: right;\">  121</td><td style=\"text-align: right;\">  159</td><td style=\"text-align: right;\">  578</td></tr>\n",
       "<tr><td style=\"text-align: right;\">1470</td><td style=\"text-align: right;\">1563</td><td style=\"text-align: right;\"> 987</td><td style=\"text-align: right;\">236    </td><td style=\"text-align: right;\"> 672</td><td style=\"text-align: right;\"> 231</td><td style=\"text-align: right;\">185    </td><td style=\"text-align: right;\"> 429</td><td style=\"text-align: right;\">  856</td><td style=\"text-align: right;\">  227</td><td style=\"text-align: right;\">  268</td><td style=\"text-align: right;\">  659</td><td style=\"text-align: right;\">  103</td><td style=\"text-align: right;\">   94</td><td style=\"text-align: right;\"> 1240</td><td style=\"text-align: right;\">  132</td><td style=\"text-align: right;\">  196</td><td style=\"text-align: right;\">  683</td></tr>\n",
       "</table>"
      ]
     },
     "metadata": {},
     "output_type": "display_data"
    },
    {
     "data": {
      "text/plain": []
     },
     "execution_count": 15,
     "metadata": {},
     "output_type": "execute_result"
    }
   ],
   "source": [
    "X #imputed version"
   ]
  },
  {
   "cell_type": "markdown",
   "metadata": {},
   "source": [
    "# Boosting Model"
   ]
  },
  {
   "cell_type": "code",
   "execution_count": 16,
   "metadata": {
    "collapsed": false,
    "scrolled": false
   },
   "outputs": [
    {
     "name": "stdout",
     "output_type": "stream",
     "text": [
      "\n",
      "gbm Model Build Progress: [##################################################] 100%\n",
      "Model Details\n",
      "=============\n",
      "H2OGradientBoostingEstimator :  Gradient Boosting Method\n",
      "Model Key:  GBM_model_python_1474952103556_19\n",
      "\n",
      "Model Summary: \n"
     ]
    },
    {
     "data": {
      "text/html": [
       "<div style=\"overflow:auto\"><table style=\"width:50%\"><tr><td><b></b></td>\n",
       "<td><b>number_of_trees</b></td>\n",
       "<td><b>model_size_in_bytes</b></td>\n",
       "<td><b>min_depth</b></td>\n",
       "<td><b>max_depth</b></td>\n",
       "<td><b>mean_depth</b></td>\n",
       "<td><b>min_leaves</b></td>\n",
       "<td><b>max_leaves</b></td>\n",
       "<td><b>mean_leaves</b></td></tr>\n",
       "<tr><td></td>\n",
       "<td>30.0</td>\n",
       "<td>4169.0</td>\n",
       "<td>3.0</td>\n",
       "<td>3.0</td>\n",
       "<td>3.0</td>\n",
       "<td>4.0</td>\n",
       "<td>8.0</td>\n",
       "<td>6.6</td></tr></table></div>"
      ],
      "text/plain": [
       "    number_of_trees    model_size_in_bytes    min_depth    max_depth    mean_depth    min_leaves    max_leaves    mean_leaves\n",
       "--  -----------------  ---------------------  -----------  -----------  ------------  ------------  ------------  -------------\n",
       "    30                 4169                   3            3            3             4             8             6.6"
      ]
     },
     "metadata": {},
     "output_type": "display_data"
    },
    {
     "name": "stdout",
     "output_type": "stream",
     "text": [
      "\n",
      "\n",
      "ModelMetricsMultinomial: gbm\n",
      "** Reported on train data. **\n",
      "\n",
      "MSE: 0.08316947254818259\n",
      "R^2: 0.8743624740210074\n",
      "LogLoss: 0.315916847608469\n",
      "Mean Per-Class Error: 0.01361111111111111\n",
      "\n",
      "Confusion Matrix: vertical: actual; across: predicted\n",
      "\n"
     ]
    },
    {
     "data": {
      "text/html": [
       "<div style=\"overflow:auto\"><table style=\"width:50%\"><tr><td><b>A</b></td>\n",
       "<td><b>B</b></td>\n",
       "<td><b>C</b></td>\n",
       "<td><b>Error</b></td>\n",
       "<td><b>Rate</b></td></tr>\n",
       "<tr><td>50.0</td>\n",
       "<td>0.0</td>\n",
       "<td>0.0</td>\n",
       "<td>0.0</td>\n",
       "<td>0 / 50</td></tr>\n",
       "<tr><td>0.0</td>\n",
       "<td>49.0</td>\n",
       "<td>1.0</td>\n",
       "<td>0.02</td>\n",
       "<td>1 / 50</td></tr>\n",
       "<tr><td>0.0</td>\n",
       "<td>1.0</td>\n",
       "<td>47.0</td>\n",
       "<td>0.0208333</td>\n",
       "<td>1 / 48</td></tr>\n",
       "<tr><td>50.0</td>\n",
       "<td>50.0</td>\n",
       "<td>48.0</td>\n",
       "<td>0.0135135</td>\n",
       "<td>2 / 148</td></tr></table></div>"
      ],
      "text/plain": [
       "A    B    C    Error      Rate\n",
       "---  ---  ---  ---------  -------\n",
       "50   0    0    0          0 / 50\n",
       "0    49   1    0.02       1 / 50\n",
       "0    1    47   0.0208333  1 / 48\n",
       "50   50   48   0.0135135  2 / 148"
      ]
     },
     "metadata": {},
     "output_type": "display_data"
    },
    {
     "name": "stdout",
     "output_type": "stream",
     "text": [
      "\n",
      "Top-3 Hit Ratios: \n"
     ]
    },
    {
     "data": {
      "text/html": [
       "<div style=\"overflow:auto\"><table style=\"width:50%\"><tr><td><b>k</b></td>\n",
       "<td><b>hit_ratio</b></td></tr>\n",
       "<tr><td>1</td>\n",
       "<td>0.9864865</td></tr>\n",
       "<tr><td>2</td>\n",
       "<td>1.0</td></tr>\n",
       "<tr><td>3</td>\n",
       "<td>1.0</td></tr></table></div>"
      ],
      "text/plain": [
       "k    hit_ratio\n",
       "---  -----------\n",
       "1    0.986487\n",
       "2    1\n",
       "3    1"
      ]
     },
     "metadata": {},
     "output_type": "display_data"
    },
    {
     "name": "stdout",
     "output_type": "stream",
     "text": [
      "\n",
      "Scoring History: \n"
     ]
    },
    {
     "data": {
      "text/html": [
       "<div style=\"overflow:auto\"><table style=\"width:50%\"><tr><td><b></b></td>\n",
       "<td><b>timestamp</b></td>\n",
       "<td><b>duration</b></td>\n",
       "<td><b>number_of_trees</b></td>\n",
       "<td><b>training_MSE</b></td>\n",
       "<td><b>training_logloss</b></td>\n",
       "<td><b>training_classification_error</b></td></tr>\n",
       "<tr><td></td>\n",
       "<td>2016-09-26 21:55:09</td>\n",
       "<td> 0.026 sec</td>\n",
       "<td>0.0</td>\n",
       "<td>0.4444444</td>\n",
       "<td>1.0986123</td>\n",
       "<td>0.6621622</td></tr>\n",
       "<tr><td></td>\n",
       "<td>2016-09-26 21:55:09</td>\n",
       "<td> 0.264 sec</td>\n",
       "<td>1.0</td>\n",
       "<td>0.3408391</td>\n",
       "<td>0.8791112</td>\n",
       "<td>0.1418919</td></tr>\n",
       "<tr><td></td>\n",
       "<td>2016-09-26 21:55:09</td>\n",
       "<td> 0.341 sec</td>\n",
       "<td>2.0</td>\n",
       "<td>0.2719254</td>\n",
       "<td>0.7394747</td>\n",
       "<td>0.0878378</td></tr>\n",
       "<tr><td></td>\n",
       "<td>2016-09-26 21:55:09</td>\n",
       "<td> 0.430 sec</td>\n",
       "<td>3.0</td>\n",
       "<td>0.2265139</td>\n",
       "<td>0.6453041</td>\n",
       "<td>0.0743243</td></tr>\n",
       "<tr><td></td>\n",
       "<td>2016-09-26 21:55:09</td>\n",
       "<td> 0.484 sec</td>\n",
       "<td>4.0</td>\n",
       "<td>0.1862562</td>\n",
       "<td>0.5591657</td>\n",
       "<td>0.0472973</td></tr>\n",
       "<tr><td></td>\n",
       "<td>2016-09-26 21:55:09</td>\n",
       "<td> 0.526 sec</td>\n",
       "<td>5.0</td>\n",
       "<td>0.1618055</td>\n",
       "<td>0.5046177</td>\n",
       "<td>0.0405405</td></tr>\n",
       "<tr><td></td>\n",
       "<td>2016-09-26 21:55:09</td>\n",
       "<td> 0.579 sec</td>\n",
       "<td>6.0</td>\n",
       "<td>0.1383540</td>\n",
       "<td>0.4506939</td>\n",
       "<td>0.0472973</td></tr>\n",
       "<tr><td></td>\n",
       "<td>2016-09-26 21:55:09</td>\n",
       "<td> 0.637 sec</td>\n",
       "<td>7.0</td>\n",
       "<td>0.1214615</td>\n",
       "<td>0.4118247</td>\n",
       "<td>0.0202703</td></tr>\n",
       "<tr><td></td>\n",
       "<td>2016-09-26 21:55:09</td>\n",
       "<td> 0.694 sec</td>\n",
       "<td>8.0</td>\n",
       "<td>0.1082188</td>\n",
       "<td>0.3796919</td>\n",
       "<td>0.0202703</td></tr>\n",
       "<tr><td></td>\n",
       "<td>2016-09-26 21:55:09</td>\n",
       "<td> 0.733 sec</td>\n",
       "<td>9.0</td>\n",
       "<td>0.0940347</td>\n",
       "<td>0.3442954</td>\n",
       "<td>0.0135135</td></tr>\n",
       "<tr><td></td>\n",
       "<td>2016-09-26 21:55:09</td>\n",
       "<td> 0.768 sec</td>\n",
       "<td>10.0</td>\n",
       "<td>0.0831695</td>\n",
       "<td>0.3159168</td>\n",
       "<td>0.0135135</td></tr></table></div>"
      ],
      "text/plain": [
       "    timestamp            duration    number_of_trees    training_MSE    training_logloss    training_classification_error\n",
       "--  -------------------  ----------  -----------------  --------------  ------------------  -------------------------------\n",
       "    2016-09-26 21:55:09  0.026 sec   0                  0.444444        1.09861             0.662162\n",
       "    2016-09-26 21:55:09  0.264 sec   1                  0.340839        0.879111            0.141892\n",
       "    2016-09-26 21:55:09  0.341 sec   2                  0.271925        0.739475            0.0878378\n",
       "    2016-09-26 21:55:09  0.430 sec   3                  0.226514        0.645304            0.0743243\n",
       "    2016-09-26 21:55:09  0.484 sec   4                  0.186256        0.559166            0.0472973\n",
       "    2016-09-26 21:55:09  0.526 sec   5                  0.161806        0.504618            0.0405405\n",
       "    2016-09-26 21:55:09  0.579 sec   6                  0.138354        0.450694            0.0472973\n",
       "    2016-09-26 21:55:09  0.637 sec   7                  0.121462        0.411825            0.0202703\n",
       "    2016-09-26 21:55:09  0.694 sec   8                  0.108219        0.379692            0.0202703\n",
       "    2016-09-26 21:55:09  0.733 sec   9                  0.0940347       0.344295            0.0135135\n",
       "    2016-09-26 21:55:09  0.768 sec   10                 0.0831695       0.315917            0.0135135"
      ]
     },
     "metadata": {},
     "output_type": "display_data"
    },
    {
     "name": "stdout",
     "output_type": "stream",
     "text": [
      "\n",
      "Variable Importances: \n"
     ]
    },
    {
     "data": {
      "text/html": [
       "<div style=\"overflow:auto\"><table style=\"width:50%\"><tr><td><b>variable</b></td>\n",
       "<td><b>relative_importance</b></td>\n",
       "<td><b>scaled_importance</b></td>\n",
       "<td><b>percentage</b></td></tr>\n",
       "<tr><td>C6</td>\n",
       "<td>70.6627350</td>\n",
       "<td>1.0</td>\n",
       "<td>0.3607418</td></tr>\n",
       "<tr><td>C17</td>\n",
       "<td>27.1561871</td>\n",
       "<td>0.3843070</td>\n",
       "<td>0.1386356</td></tr>\n",
       "<tr><td>C19</td>\n",
       "<td>23.5305691</td>\n",
       "<td>0.3329983</td>\n",
       "<td>0.1201264</td></tr>\n",
       "<tr><td>C10</td>\n",
       "<td>10.3912268</td>\n",
       "<td>0.1470538</td>\n",
       "<td>0.0530485</td></tr>\n",
       "<tr><td>C3</td>\n",
       "<td>10.2216339</td>\n",
       "<td>0.1446538</td>\n",
       "<td>0.0521827</td></tr>\n",
       "<tr><td>C13</td>\n",
       "<td>9.9656916</td>\n",
       "<td>0.1410318</td>\n",
       "<td>0.0508761</td></tr>\n",
       "<tr><td>C14</td>\n",
       "<td>8.9982367</td>\n",
       "<td>0.1273406</td>\n",
       "<td>0.0459371</td></tr>\n",
       "<tr><td>C4</td>\n",
       "<td>7.2969480</td>\n",
       "<td>0.1032644</td>\n",
       "<td>0.0372518</td></tr>\n",
       "<tr><td>C8</td>\n",
       "<td>7.2818999</td>\n",
       "<td>0.1030515</td>\n",
       "<td>0.0371750</td></tr>\n",
       "<tr><td>C11</td>\n",
       "<td>6.4512215</td>\n",
       "<td>0.0912959</td>\n",
       "<td>0.0329343</td></tr>\n",
       "<tr><td>C7</td>\n",
       "<td>4.7673707</td>\n",
       "<td>0.0674665</td>\n",
       "<td>0.0243380</td></tr>\n",
       "<tr><td>C12</td>\n",
       "<td>2.3639598</td>\n",
       "<td>0.0334541</td>\n",
       "<td>0.0120683</td></tr>\n",
       "<tr><td>C15</td>\n",
       "<td>2.0460963</td>\n",
       "<td>0.0289558</td>\n",
       "<td>0.0104456</td></tr>\n",
       "<tr><td>C5</td>\n",
       "<td>1.7693422</td>\n",
       "<td>0.0250393</td>\n",
       "<td>0.0090327</td></tr>\n",
       "<tr><td>C18</td>\n",
       "<td>1.5394951</td>\n",
       "<td>0.0217865</td>\n",
       "<td>0.0078593</td></tr>\n",
       "<tr><td>C16</td>\n",
       "<td>1.4120743</td>\n",
       "<td>0.0199833</td>\n",
       "<td>0.0072088</td></tr>\n",
       "<tr><td>C2</td>\n",
       "<td>0.0232507</td>\n",
       "<td>0.0003290</td>\n",
       "<td>0.0001187</td></tr>\n",
       "<tr><td>C9</td>\n",
       "<td>0.0038281</td>\n",
       "<td>0.0000542</td>\n",
       "<td>0.0000195</td></tr></table></div>"
      ],
      "text/plain": [
       "variable    relative_importance    scaled_importance    percentage\n",
       "----------  ---------------------  -------------------  ------------\n",
       "C6          70.6627                1                    0.360742\n",
       "C17         27.1562                0.384307             0.138636\n",
       "C19         23.5306                0.332998             0.120126\n",
       "C10         10.3912                0.147054             0.0530485\n",
       "C3          10.2216                0.144654             0.0521827\n",
       "C13         9.96569                0.141032             0.0508761\n",
       "C14         8.99824                0.127341             0.0459371\n",
       "C4          7.29695                0.103264             0.0372518\n",
       "C8          7.2819                 0.103051             0.037175\n",
       "C11         6.45122                0.0912959            0.0329343\n",
       "C7          4.76737                0.0674665            0.024338\n",
       "C12         2.36396                0.0334541            0.0120683\n",
       "C15         2.0461                 0.0289558            0.0104456\n",
       "C5          1.76934                0.0250393            0.0090327\n",
       "C18         1.5395                 0.0217865            0.00785931\n",
       "C16         1.41207                0.0199833            0.00720881\n",
       "C2          0.0232507              0.000329037          0.000118697\n",
       "C9          0.00382805             5.41736e-05          1.95427e-05"
      ]
     },
     "metadata": {},
     "output_type": "display_data"
    },
    {
     "data": {
      "text/plain": []
     },
     "execution_count": 16,
     "metadata": {},
     "output_type": "execute_result"
    }
   ],
   "source": [
    "gbm_classifier = H2OGradientBoostingEstimator(distribution=\"multinomial\",\n",
    "                                              ntrees=10,max_depth=3,min_rows=2, learn_rate=\"0.2\")\n",
    "\n",
    "gbm_classifier.train(x = list(range(0,df.ncol)), y = 0, training_frame=df)\n",
    "gbm_classifier"
   ]
  },
  {
   "cell_type": "markdown",
   "metadata": {},
   "source": [
    "# GLM Model"
   ]
  },
  {
   "cell_type": "code",
   "execution_count": 17,
   "metadata": {
    "collapsed": false
   },
   "outputs": [
    {
     "name": "stdout",
     "output_type": "stream",
     "text": [
      "\n",
      "glm Model Build Progress: [##################################################] 100%\n",
      "Model Details\n",
      "=============\n",
      "H2OGeneralizedLinearEstimator :  Generalized Linear Modeling\n",
      "Model Key:  GLM_model_python_1474952103556_20\n",
      "\n",
      "GLM Model: summary\n",
      "\n"
     ]
    },
    {
     "data": {
      "text/html": [
       "<div style=\"overflow:auto\"><table style=\"width:50%\"><tr><td><b></b></td>\n",
       "<td><b>family</b></td>\n",
       "<td><b>link</b></td>\n",
       "<td><b>regularization</b></td>\n",
       "<td><b>number_of_predictors_total</b></td>\n",
       "<td><b>number_of_active_predictors</b></td>\n",
       "<td><b>number_of_iterations</b></td>\n",
       "<td><b>training_frame</b></td></tr>\n",
       "<tr><td></td>\n",
       "<td>multinomial</td>\n",
       "<td>multinomial</td>\n",
       "<td>Elastic Net (alpha = 0.5, lambda = 0.04012 )</td>\n",
       "<td>26</td>\n",
       "<td>25</td>\n",
       "<td>4</td>\n",
       "<td>Key_Frame__upload_bf47352c8f276c064849bece141f4000.hex</td></tr></table></div>"
      ],
      "text/plain": [
       "    family       link         regularization                                number_of_predictors_total    number_of_active_predictors    number_of_iterations    training_frame\n",
       "--  -----------  -----------  --------------------------------------------  ----------------------------  -----------------------------  ----------------------  ------------------------------------------------------\n",
       "    multinomial  multinomial  Elastic Net (alpha = 0.5, lambda = 0.04012 )  26                            25                             4                       Key_Frame__upload_bf47352c8f276c064849bece141f4000.hex"
      ]
     },
     "metadata": {},
     "output_type": "display_data"
    },
    {
     "name": "stdout",
     "output_type": "stream",
     "text": [
      "\n",
      "\n",
      "ModelMetricsMultinomialGLM: glm\n",
      "** Reported on train data. **\n",
      "\n",
      "MSE: 0.1930651348851813\n",
      "\n",
      "ModelMetricsMultinomialGLM: glm\n",
      "** Reported on cross-validation data. **\n",
      "\n",
      "MSE: 0.22759936635933162\n",
      "\n",
      "Cross-Validation Metrics Summary: \n"
     ]
    },
    {
     "data": {
      "text/html": [
       "<div style=\"overflow:auto\"><table style=\"width:50%\"><tr><td><b></b></td>\n",
       "<td><b>mean</b></td>\n",
       "<td><b>sd</b></td>\n",
       "<td><b>cv_1_valid</b></td>\n",
       "<td><b>cv_2_valid</b></td>\n",
       "<td><b>cv_3_valid</b></td>\n",
       "<td><b>cv_4_valid</b></td>\n",
       "<td><b>cv_5_valid</b></td>\n",
       "<td><b>cv_6_valid</b></td>\n",
       "<td><b>cv_7_valid</b></td>\n",
       "<td><b>cv_8_valid</b></td>\n",
       "<td><b>cv_9_valid</b></td>\n",
       "<td><b>cv_10_valid</b></td></tr>\n",
       "<tr><td>accuracy</td>\n",
       "<td>0.7225245</td>\n",
       "<td>0.0558805</td>\n",
       "<td>0.7647059</td>\n",
       "<td>0.8333333</td>\n",
       "<td>0.7727272</td>\n",
       "<td>0.7058824</td>\n",
       "<td>0.7142857</td>\n",
       "<td>0.8</td>\n",
       "<td>0.5555556</td>\n",
       "<td>0.7692308</td>\n",
       "<td>0.6666667</td>\n",
       "<td>0.6428571</td></tr>\n",
       "<tr><td>err</td>\n",
       "<td>0.2774755</td>\n",
       "<td>0.0558805</td>\n",
       "<td>0.2352941</td>\n",
       "<td>0.1666667</td>\n",
       "<td>0.2272727</td>\n",
       "<td>0.2941177</td>\n",
       "<td>0.2857143</td>\n",
       "<td>0.2</td>\n",
       "<td>0.4444444</td>\n",
       "<td>0.2307692</td>\n",
       "<td>0.3333333</td>\n",
       "<td>0.3571429</td></tr>\n",
       "<tr><td>err_count</td>\n",
       "<td>4.0</td>\n",
       "<td>0.7071068</td>\n",
       "<td>4.0</td>\n",
       "<td>2.0</td>\n",
       "<td>5.0</td>\n",
       "<td>5.0</td>\n",
       "<td>4.0</td>\n",
       "<td>3.0</td>\n",
       "<td>4.0</td>\n",
       "<td>3.0</td>\n",
       "<td>5.0</td>\n",
       "<td>5.0</td></tr>\n",
       "<tr><td>logloss</td>\n",
       "<td>0.6414289</td>\n",
       "<td>0.0568314</td>\n",
       "<td>0.6316798</td>\n",
       "<td>0.6169704</td>\n",
       "<td>0.5693035</td>\n",
       "<td>0.6647027</td>\n",
       "<td>0.6229448</td>\n",
       "<td>0.6615686</td>\n",
       "<td>0.7419282</td>\n",
       "<td>0.4603127</td>\n",
       "<td>0.6961394</td>\n",
       "<td>0.7487394</td></tr>\n",
       "<tr><td>max_per_class_error</td>\n",
       "<td>0.5133333</td>\n",
       "<td>0.0616441</td>\n",
       "<td>0.5</td>\n",
       "<td>0.4</td>\n",
       "<td>0.3333333</td>\n",
       "<td>0.5</td>\n",
       "<td>0.6</td>\n",
       "<td>0.5</td>\n",
       "<td>0.6</td>\n",
       "<td>0.6</td>\n",
       "<td>0.6</td>\n",
       "<td>0.5</td></tr>\n",
       "<tr><td>mean_per_class_accuracy</td>\n",
       "<td>0.746455</td>\n",
       "<td>0.0445630</td>\n",
       "<td>0.7222222</td>\n",
       "<td>0.8666667</td>\n",
       "<td>0.7518519</td>\n",
       "<td>0.7111111</td>\n",
       "<td>0.7333333</td>\n",
       "<td>0.8333333</td>\n",
       "<td>0.6888889</td>\n",
       "<td>0.8</td>\n",
       "<td>0.6666667</td>\n",
       "<td>0.6904762</td></tr>\n",
       "<tr><td>mean_per_class_error</td>\n",
       "<td>0.253545</td>\n",
       "<td>0.0445630</td>\n",
       "<td>0.2777778</td>\n",
       "<td>0.1333333</td>\n",
       "<td>0.2481481</td>\n",
       "<td>0.2888889</td>\n",
       "<td>0.2666667</td>\n",
       "<td>0.1666667</td>\n",
       "<td>0.3111111</td>\n",
       "<td>0.2</td>\n",
       "<td>0.3333333</td>\n",
       "<td>0.3095238</td></tr>\n",
       "<tr><td>mse</td>\n",
       "<td>0.2298366</td>\n",
       "<td>0.0250584</td>\n",
       "<td>0.2319537</td>\n",
       "<td>0.2123435</td>\n",
       "<td>0.1955877</td>\n",
       "<td>0.2380138</td>\n",
       "<td>0.2221435</td>\n",
       "<td>0.2377744</td>\n",
       "<td>0.2761230</td>\n",
       "<td>0.1531090</td>\n",
       "<td>0.2536177</td>\n",
       "<td>0.2776995</td></tr>\n",
       "<tr><td>null_deviance</td>\n",
       "<td>32.87954</td>\n",
       "<td>5.129859</td>\n",
       "<td>37.416115</td>\n",
       "<td>26.740288</td>\n",
       "<td>49.33454</td>\n",
       "<td>37.427773</td>\n",
       "<td>30.831757</td>\n",
       "<td>33.16268</td>\n",
       "<td>20.324003</td>\n",
       "<td>29.484701</td>\n",
       "<td>32.96522</td>\n",
       "<td>31.10831</td></tr>\n",
       "<tr><td>r2</td>\n",
       "<td>0.616846</td>\n",
       "<td>0.0831948</td>\n",
       "<td>0.623401</td>\n",
       "<td>0.7451878</td>\n",
       "<td>0.5848051</td>\n",
       "<td>0.6301829</td>\n",
       "<td>0.651679</td>\n",
       "<td>0.6335668</td>\n",
       "<td>0.4114221</td>\n",
       "<td>0.8297669</td>\n",
       "<td>0.6195735</td>\n",
       "<td>0.4388753</td></tr>\n",
       "<tr><td>residual_deviance</td>\n",
       "<td>18.839489</td>\n",
       "<td>2.8712487</td>\n",
       "<td>21.477112</td>\n",
       "<td>14.807288</td>\n",
       "<td>25.049355</td>\n",
       "<td>22.599894</td>\n",
       "<td>17.442455</td>\n",
       "<td>19.84706</td>\n",
       "<td>13.354708</td>\n",
       "<td>11.96813</td>\n",
       "<td>20.884182</td>\n",
       "<td>20.964705</td></tr></table></div>"
      ],
      "text/plain": [
       "                         mean      sd         cv_1_valid    cv_2_valid    cv_3_valid    cv_4_valid    cv_5_valid    cv_6_valid    cv_7_valid    cv_8_valid    cv_9_valid    cv_10_valid\n",
       "-----------------------  --------  ---------  ------------  ------------  ------------  ------------  ------------  ------------  ------------  ------------  ------------  -------------\n",
       "accuracy                 0.722524  0.0558805  0.764706      0.833333      0.772727      0.705882      0.714286      0.8           0.555556      0.769231      0.666667      0.642857\n",
       "err                      0.277476  0.0558805  0.235294      0.166667      0.227273      0.294118      0.285714      0.2           0.444444      0.230769      0.333333      0.357143\n",
       "err_count                4         0.707107   4             2             5             5             4             3             4             3             5             5\n",
       "logloss                  0.641429  0.0568314  0.63168       0.61697       0.569303      0.664703      0.622945      0.661569      0.741928      0.460313      0.696139      0.748739\n",
       "max_per_class_error      0.513333  0.0616441  0.5           0.4           0.333333      0.5           0.6           0.5           0.6           0.6           0.6           0.5\n",
       "mean_per_class_accuracy  0.746455  0.044563   0.722222      0.866667      0.751852      0.711111      0.733333      0.833333      0.688889      0.8           0.666667      0.690476\n",
       "mean_per_class_error     0.253545  0.044563   0.277778      0.133333      0.248148      0.288889      0.266667      0.166667      0.311111      0.2           0.333333      0.309524\n",
       "mse                      0.229837  0.0250584  0.231954      0.212343      0.195588      0.238014      0.222143      0.237774      0.276123      0.153109      0.253618      0.277699\n",
       "null_deviance            32.8795   5.12986    37.4161       26.7403       49.3345       37.4278       30.8318       33.1627       20.324        29.4847       32.9652       31.1083\n",
       "r2                       0.616846  0.0831948  0.623401      0.745188      0.584805      0.630183      0.651679      0.633567      0.411422      0.829767      0.619573      0.438875\n",
       "residual_deviance        18.8395   2.87125    21.4771       14.8073       25.0494       22.5999       17.4425       19.8471       13.3547       11.9681       20.8842       20.9647"
      ]
     },
     "metadata": {},
     "output_type": "display_data"
    },
    {
     "name": "stdout",
     "output_type": "stream",
     "text": [
      "\n",
      "Scoring History: \n"
     ]
    },
    {
     "data": {
      "text/html": [
       "<div style=\"overflow:auto\"><table style=\"width:50%\"><tr><td><b></b></td>\n",
       "<td><b>timestamp</b></td>\n",
       "<td><b>duration</b></td>\n",
       "<td><b>iteration</b></td>\n",
       "<td><b>negative_log_likelihood</b></td>\n",
       "<td><b>objective</b></td></tr>\n",
       "<tr><td></td>\n",
       "<td>2016-09-26 21:55:11</td>\n",
       "<td> 0.000 sec</td>\n",
       "<td>0</td>\n",
       "<td>162.5674675</td>\n",
       "<td>1.0984288</td></tr>\n",
       "<tr><td></td>\n",
       "<td>2016-09-26 21:55:11</td>\n",
       "<td> 0.050 sec</td>\n",
       "<td>1</td>\n",
       "<td>88.9180843</td>\n",
       "<td>0.6007979</td></tr>\n",
       "<tr><td></td>\n",
       "<td>2016-09-26 21:55:11</td>\n",
       "<td> 0.078 sec</td>\n",
       "<td>2</td>\n",
       "<td>83.2995310</td>\n",
       "<td>0.5628347</td></tr>\n",
       "<tr><td></td>\n",
       "<td>2016-09-26 21:55:11</td>\n",
       "<td> 0.099 sec</td>\n",
       "<td>3</td>\n",
       "<td>82.6801741</td>\n",
       "<td>0.5586498</td></tr>\n",
       "<tr><td></td>\n",
       "<td>2016-09-26 21:55:11</td>\n",
       "<td> 0.111 sec</td>\n",
       "<td>4</td>\n",
       "<td>82.6773918</td>\n",
       "<td>0.5586310</td></tr></table></div>"
      ],
      "text/plain": [
       "    timestamp            duration    iteration    negative_log_likelihood    objective\n",
       "--  -------------------  ----------  -----------  -------------------------  -----------\n",
       "    2016-09-26 21:55:11  0.000 sec   0            162.567                    1.09843\n",
       "    2016-09-26 21:55:11  0.050 sec   1            88.9181                    0.600798\n",
       "    2016-09-26 21:55:11  0.078 sec   2            83.2995                    0.562835\n",
       "    2016-09-26 21:55:11  0.099 sec   3            82.6802                    0.55865\n",
       "    2016-09-26 21:55:11  0.111 sec   4            82.6774                    0.558631"
      ]
     },
     "metadata": {},
     "output_type": "display_data"
    },
    {
     "data": {
      "text/plain": []
     },
     "execution_count": 17,
     "metadata": {},
     "output_type": "execute_result"
    }
   ],
   "source": [
    "glm_classifier = H2OGeneralizedLinearEstimator(family='multinomial',nfolds=10,alpha=0.5)\n",
    "\n",
    "glm_classifier.train(x = list(range(0,df.ncol)), y = 0, training_frame=df)\n",
    "glm_classifier"
   ]
  },
  {
   "cell_type": "markdown",
   "metadata": {},
   "source": [
    "# Exploring their PCA"
   ]
  },
  {
   "cell_type": "code",
   "execution_count": 18,
   "metadata": {
    "collapsed": false
   },
   "outputs": [
    {
     "name": "stdout",
     "output_type": "stream",
     "text": [
      "\n",
      "pca Model Build Progress: [##################################################] 100%\n",
      "Model Details\n",
      "=============\n",
      "H2OPCA :  Principle Components Analysis\n",
      "Model Key:  PCA_model_python_1474952103556_21\n",
      "\n",
      "Importance of components: \n"
     ]
    },
    {
     "data": {
      "text/html": [
       "<div style=\"overflow:auto\"><table style=\"width:50%\"><tr><td><b></b></td>\n",
       "<td><b>pc1</b></td>\n",
       "<td><b>pc2</b></td>\n",
       "<td><b>pc3</b></td>\n",
       "<td><b>pc4</b></td>\n",
       "<td><b>pc5</b></td></tr>\n",
       "<tr><td>Standard deviation</td>\n",
       "<td>3177.2205776</td>\n",
       "<td>74.0680013</td>\n",
       "<td>58.7497084</td>\n",
       "<td>43.7513140</td>\n",
       "<td>27.5038836</td></tr>\n",
       "<tr><td>Proportion of Variance</td>\n",
       "<td>0.9985367</td>\n",
       "<td>0.0005427</td>\n",
       "<td>0.0003414</td>\n",
       "<td>0.0001893</td>\n",
       "<td>0.0000748</td></tr>\n",
       "<tr><td>Cumulative Proportion</td>\n",
       "<td>0.9985367</td>\n",
       "<td>0.9990793</td>\n",
       "<td>0.9994208</td>\n",
       "<td>0.9996101</td>\n",
       "<td>0.9996849</td></tr></table></div>"
      ],
      "text/plain": [
       "                        pc1       pc2          pc3          pc4          pc5\n",
       "----------------------  --------  -----------  -----------  -----------  -----------\n",
       "Standard deviation      3177.22   74.068       58.7497      43.7513      27.5039\n",
       "Proportion of Variance  0.998537  0.000542663  0.000341414  0.000189344  7.48268e-05\n",
       "Cumulative Proportion   0.998537  0.999079     0.999421     0.99961      0.999685"
      ]
     },
     "metadata": {},
     "output_type": "display_data"
    },
    {
     "name": "stdout",
     "output_type": "stream",
     "text": [
      "\n",
      "\n",
      "ModelMetricsPCA: pca\n",
      "** Reported on train data. **\n",
      "\n",
      "MSE: NaN\n"
     ]
    },
    {
     "data": {
      "text/plain": []
     },
     "execution_count": 18,
     "metadata": {},
     "output_type": "execute_result"
    }
   ],
   "source": [
    "pca_decomp = H2OPCA(k=5,transform='NONE',pca_method='Power')\n",
    "\n",
    "pca_decomp.train(x=list(range(0,df.ncol)), training_frame=df)\n",
    "pca_decomp"
   ]
  },
  {
   "cell_type": "code",
   "execution_count": 19,
   "metadata": {
    "collapsed": false
   },
   "outputs": [
    {
     "name": "stdout",
     "output_type": "stream",
     "text": [
      "\n",
      "pca prediction Progress: [##################################################] 100%\n"
     ]
    },
    {
     "data": {
      "text/html": [
       "<table>\n",
       "<tr><th style=\"text-align: right;\">     PC1</th><th style=\"text-align: right;\">       PC2</th><th style=\"text-align: right;\">     PC3</th><th style=\"text-align: right;\">      PC4</th><th style=\"text-align: right;\">      PC5</th></tr>\n",
       "<tr><td style=\"text-align: right;\">-2805.51</td><td style=\"text-align: right;\">  2.86701 </td><td style=\"text-align: right;\"> 98.3157</td><td style=\"text-align: right;\"> -7.69655</td><td style=\"text-align: right;\"> 32.3764 </td></tr>\n",
       "<tr><td style=\"text-align: right;\">-3003.66</td><td style=\"text-align: right;\">  0.444448</td><td style=\"text-align: right;\"> 36.4814</td><td style=\"text-align: right;\"> 30.2217 </td><td style=\"text-align: right;\"> 22.054  </td></tr>\n",
       "<tr><td style=\"text-align: right;\">-2893.14</td><td style=\"text-align: right;\">-15.6014  </td><td style=\"text-align: right;\"> 63.795 </td><td style=\"text-align: right;\"> -2.65308</td><td style=\"text-align: right;\"> 46.4688 </td></tr>\n",
       "<tr><td style=\"text-align: right;\">-2770.73</td><td style=\"text-align: right;\"> 31.9089  </td><td style=\"text-align: right;\">  9.457 </td><td style=\"text-align: right;\">  5.89576</td><td style=\"text-align: right;\">  7.57311</td></tr>\n",
       "<tr><td style=\"text-align: right;\">-2998.21</td><td style=\"text-align: right;\">-13.0644  </td><td style=\"text-align: right;\"> 35.404 </td><td style=\"text-align: right;\"> -1.35239</td><td style=\"text-align: right;\">  7.9889 </td></tr>\n",
       "<tr><td style=\"text-align: right;\">-2342.5 </td><td style=\"text-align: right;\"> 60.765   </td><td style=\"text-align: right;\">119.744 </td><td style=\"text-align: right;\">-13.2811 </td><td style=\"text-align: right;\"> 46.2827 </td></tr>\n",
       "<tr><td style=\"text-align: right;\">-2782.1 </td><td style=\"text-align: right;\">  7.2219  </td><td style=\"text-align: right;\"> 92.1635</td><td style=\"text-align: right;\">-17.9184 </td><td style=\"text-align: right;\">  3.12292</td></tr>\n",
       "<tr><td style=\"text-align: right;\">-2959.08</td><td style=\"text-align: right;\">-28.2102  </td><td style=\"text-align: right;\"> 71.9888</td><td style=\"text-align: right;\"> -5.99236</td><td style=\"text-align: right;\"> -4.17153</td></tr>\n",
       "<tr><td style=\"text-align: right;\">-2784.48</td><td style=\"text-align: right;\">-18.2403  </td><td style=\"text-align: right;\">115.834 </td><td style=\"text-align: right;\"> -4.85936</td><td style=\"text-align: right;\">  3.30229</td></tr>\n",
       "<tr><td style=\"text-align: right;\">-3118.36</td><td style=\"text-align: right;\">-24.9275  </td><td style=\"text-align: right;\"> 14.2153</td><td style=\"text-align: right;\">-14.3515 </td><td style=\"text-align: right;\">-20.847  </td></tr>\n",
       "</table>"
      ]
     },
     "metadata": {},
     "output_type": "display_data"
    },
    {
     "data": {
      "text/plain": []
     },
     "execution_count": 19,
     "metadata": {},
     "output_type": "execute_result"
    }
   ],
   "source": [
    "pred = pca_decomp.predict(df)\n",
    "pred"
   ]
  },
  {
   "cell_type": "markdown",
   "metadata": {},
   "source": [
    "# Their GridSearch is FAST, as expected"
   ]
  },
  {
   "cell_type": "code",
   "execution_count": 20,
   "metadata": {
    "collapsed": false
   },
   "outputs": [
    {
     "name": "stdout",
     "output_type": "stream",
     "text": [
      "\n",
      "gbm Grid Build Progress: [##################################################] 100%\n"
     ]
    }
   ],
   "source": [
    "ntrees_opt = [5,10,15,20]\n",
    "max_depth_opt = [2,3,4,5]\n",
    "learn_rate_opt = [0.1,0.2,0.3]\n",
    "\n",
    "hyper_params = {'ntrees': ntrees_opt, 'max_depth': max_depth_opt, 'learn_rate':learn_rate_opt}\n",
    "\n",
    "gs = H2OGridSearch(H2OGradientBoostingEstimator(distribution='multinomial'), hyper_params = hyper_params)\n",
    "\n",
    "gs.train(x = list(range(0,df.ncol)), y = 0, training_frame=df)"
   ]
  },
  {
   "cell_type": "code",
   "execution_count": 21,
   "metadata": {
    "collapsed": false
   },
   "outputs": [
    {
     "name": "stdout",
     "output_type": "stream",
     "text": [
      "\n",
      "Grid Search Results for H2OGradientBoostingEstimator: \n"
     ]
    },
    {
     "data": {
      "text/html": [
       "<div style=\"overflow:auto\"><table style=\"width:50%\"><tr><td><b>Model Id</b></td>\n",
       "<td><b>Hyperparameters: [max_depth, ntrees, learn_rate]</b></td>\n",
       "<td><b>logloss</b></td></tr>\n",
       "<tr><td>Grid_GBM_Key_Frame__upload_bf47352c8f276c064849bece141f4000.hex_model_python_1474952103556_23_model_47</td>\n",
       "<td>[5, 20, 0.3]</td>\n",
       "<td>0.0449732</td></tr>\n",
       "<tr><td>Grid_GBM_Key_Frame__upload_bf47352c8f276c064849bece141f4000.hex_model_python_1474952103556_23_model_44</td>\n",
       "<td>[4, 20, 0.3]</td>\n",
       "<td>0.0680021</td></tr>\n",
       "<tr><td>Grid_GBM_Key_Frame__upload_bf47352c8f276c064849bece141f4000.hex_model_python_1474952103556_23_model_35</td>\n",
       "<td>[5, 15, 0.3]</td>\n",
       "<td>0.0860526</td></tr>\n",
       "<tr><td>Grid_GBM_Key_Frame__upload_bf47352c8f276c064849bece141f4000.hex_model_python_1474952103556_23_model_46</td>\n",
       "<td>[5, 20, 0.2]</td>\n",
       "<td>0.0989656</td></tr>\n",
       "<tr><td>Grid_GBM_Key_Frame__upload_bf47352c8f276c064849bece141f4000.hex_model_python_1474952103556_23_model_41</td>\n",
       "<td>[3, 20, 0.3]</td>\n",
       "<td>0.1138612</td></tr>\n",
       "<tr><td>---</td>\n",
       "<td>---</td>\n",
       "<td>---</td></tr>\n",
       "<tr><td>Grid_GBM_Key_Frame__upload_bf47352c8f276c064849bece141f4000.hex_model_python_1474952103556_23_model_9</td>\n",
       "<td>[5, 5, 0.1]</td>\n",
       "<td>0.6656456</td></tr>\n",
       "<tr><td>Grid_GBM_Key_Frame__upload_bf47352c8f276c064849bece141f4000.hex_model_python_1474952103556_23_model_12</td>\n",
       "<td>[2, 10, 0.1]</td>\n",
       "<td>0.6694059</td></tr>\n",
       "<tr><td>Grid_GBM_Key_Frame__upload_bf47352c8f276c064849bece141f4000.hex_model_python_1474952103556_23_model_6</td>\n",
       "<td>[4, 5, 0.1]</td>\n",
       "<td>0.6724359</td></tr>\n",
       "<tr><td>Grid_GBM_Key_Frame__upload_bf47352c8f276c064849bece141f4000.hex_model_python_1474952103556_23_model_3</td>\n",
       "<td>[3, 5, 0.1]</td>\n",
       "<td>0.7161444</td></tr>\n",
       "<tr><td>Grid_GBM_Key_Frame__upload_bf47352c8f276c064849bece141f4000.hex_model_python_1474952103556_23_model_0</td>\n",
       "<td>[2, 5, 0.1]</td>\n",
       "<td>0.8237348</td></tr></table></div>"
      ],
      "text/plain": [
       "Model Id                                                                                                Hyperparameters: [max_depth, ntrees, learn_rate]    logloss\n",
       "------------------------------------------------------------------------------------------------------  --------------------------------------------------  -------------------\n",
       "Grid_GBM_Key_Frame__upload_bf47352c8f276c064849bece141f4000.hex_model_python_1474952103556_23_model_47  [5, 20, 0.3]                                        0.04497321641456268\n",
       "Grid_GBM_Key_Frame__upload_bf47352c8f276c064849bece141f4000.hex_model_python_1474952103556_23_model_44  [4, 20, 0.3]                                        0.06800206227776541\n",
       "Grid_GBM_Key_Frame__upload_bf47352c8f276c064849bece141f4000.hex_model_python_1474952103556_23_model_35  [5, 15, 0.3]                                        0.0860526350812686\n",
       "Grid_GBM_Key_Frame__upload_bf47352c8f276c064849bece141f4000.hex_model_python_1474952103556_23_model_46  [5, 20, 0.2]                                        0.09896564797162859\n",
       "Grid_GBM_Key_Frame__upload_bf47352c8f276c064849bece141f4000.hex_model_python_1474952103556_23_model_41  [3, 20, 0.3]                                        0.11386115518132578\n",
       "---                                                                                                     ---                                                 ---\n",
       "Grid_GBM_Key_Frame__upload_bf47352c8f276c064849bece141f4000.hex_model_python_1474952103556_23_model_9   [5, 5, 0.1]                                         0.6656456142076436\n",
       "Grid_GBM_Key_Frame__upload_bf47352c8f276c064849bece141f4000.hex_model_python_1474952103556_23_model_12  [2, 10, 0.1]                                        0.6694058999815435\n",
       "Grid_GBM_Key_Frame__upload_bf47352c8f276c064849bece141f4000.hex_model_python_1474952103556_23_model_6   [4, 5, 0.1]                                         0.672435894201599\n",
       "Grid_GBM_Key_Frame__upload_bf47352c8f276c064849bece141f4000.hex_model_python_1474952103556_23_model_3   [3, 5, 0.1]                                         0.7161444240766381\n",
       "Grid_GBM_Key_Frame__upload_bf47352c8f276c064849bece141f4000.hex_model_python_1474952103556_23_model_0   [2, 5, 0.1]                                         0.8237347616665406"
      ]
     },
     "metadata": {},
     "output_type": "display_data"
    },
    {
     "name": "stdout",
     "output_type": "stream",
     "text": [
      "\n",
      "See the whole table with table.as_data_frame()\n",
      "\n"
     ]
    }
   ],
   "source": [
    "print (gs.sort_by('logloss',increasing=True))"
   ]
  },
  {
   "cell_type": "markdown",
   "metadata": {},
   "source": [
    "# From the above results, we build a GBoosting Model"
   ]
  },
  {
   "cell_type": "code",
   "execution_count": 22,
   "metadata": {
    "collapsed": false,
    "scrolled": false
   },
   "outputs": [
    {
     "name": "stdout",
     "output_type": "stream",
     "text": [
      "\n",
      "gbm Model Build Progress: [##################################################] 100%\n",
      "Model Details\n",
      "=============\n",
      "H2OGradientBoostingEstimator :  Gradient Boosting Method\n",
      "Model Key:  GBM_model_python_1474952103556_24\n",
      "\n",
      "Model Summary: \n"
     ]
    },
    {
     "data": {
      "text/html": [
       "<div style=\"overflow:auto\"><table style=\"width:50%\"><tr><td><b></b></td>\n",
       "<td><b>number_of_trees</b></td>\n",
       "<td><b>model_size_in_bytes</b></td>\n",
       "<td><b>min_depth</b></td>\n",
       "<td><b>max_depth</b></td>\n",
       "<td><b>mean_depth</b></td>\n",
       "<td><b>min_leaves</b></td>\n",
       "<td><b>max_leaves</b></td>\n",
       "<td><b>mean_leaves</b></td></tr>\n",
       "<tr><td></td>\n",
       "<td>60.0</td>\n",
       "<td>9432.0</td>\n",
       "<td>4.0</td>\n",
       "<td>5.0</td>\n",
       "<td>4.983333</td>\n",
       "<td>6.0</td>\n",
       "<td>13.0</td>\n",
       "<td>8.216666</td></tr></table></div>"
      ],
      "text/plain": [
       "    number_of_trees    model_size_in_bytes    min_depth    max_depth    mean_depth    min_leaves    max_leaves    mean_leaves\n",
       "--  -----------------  ---------------------  -----------  -----------  ------------  ------------  ------------  -------------\n",
       "    60                 9432                   4            5            4.98333       6             13            8.21667"
      ]
     },
     "metadata": {},
     "output_type": "display_data"
    },
    {
     "name": "stdout",
     "output_type": "stream",
     "text": [
      "\n",
      "\n",
      "ModelMetricsMultinomial: gbm\n",
      "** Reported on train data. **\n",
      "\n",
      "MSE: 0.004180160362194533\n",
      "R^2: 0.9936853632707925\n",
      "LogLoss: 0.04497321641456268\n",
      "Mean Per-Class Error: 0.0\n",
      "\n",
      "Confusion Matrix: vertical: actual; across: predicted\n",
      "\n"
     ]
    },
    {
     "data": {
      "text/html": [
       "<div style=\"overflow:auto\"><table style=\"width:50%\"><tr><td><b>A</b></td>\n",
       "<td><b>B</b></td>\n",
       "<td><b>C</b></td>\n",
       "<td><b>Error</b></td>\n",
       "<td><b>Rate</b></td></tr>\n",
       "<tr><td>50.0</td>\n",
       "<td>0.0</td>\n",
       "<td>0.0</td>\n",
       "<td>0.0</td>\n",
       "<td>0 / 50</td></tr>\n",
       "<tr><td>0.0</td>\n",
       "<td>50.0</td>\n",
       "<td>0.0</td>\n",
       "<td>0.0</td>\n",
       "<td>0 / 50</td></tr>\n",
       "<tr><td>0.0</td>\n",
       "<td>0.0</td>\n",
       "<td>48.0</td>\n",
       "<td>0.0</td>\n",
       "<td>0 / 48</td></tr>\n",
       "<tr><td>50.0</td>\n",
       "<td>50.0</td>\n",
       "<td>48.0</td>\n",
       "<td>0.0</td>\n",
       "<td>0 / 148</td></tr></table></div>"
      ],
      "text/plain": [
       "A    B    C    Error    Rate\n",
       "---  ---  ---  -------  -------\n",
       "50   0    0    0        0 / 50\n",
       "0    50   0    0        0 / 50\n",
       "0    0    48   0        0 / 48\n",
       "50   50   48   0        0 / 148"
      ]
     },
     "metadata": {},
     "output_type": "display_data"
    },
    {
     "name": "stdout",
     "output_type": "stream",
     "text": [
      "\n",
      "Top-3 Hit Ratios: \n"
     ]
    },
    {
     "data": {
      "text/html": [
       "<div style=\"overflow:auto\"><table style=\"width:50%\"><tr><td><b>k</b></td>\n",
       "<td><b>hit_ratio</b></td></tr>\n",
       "<tr><td>1</td>\n",
       "<td>1.0</td></tr>\n",
       "<tr><td>2</td>\n",
       "<td>1.0</td></tr>\n",
       "<tr><td>3</td>\n",
       "<td>1.0</td></tr></table></div>"
      ],
      "text/plain": [
       "k    hit_ratio\n",
       "---  -----------\n",
       "1    1\n",
       "2    1\n",
       "3    1"
      ]
     },
     "metadata": {},
     "output_type": "display_data"
    },
    {
     "name": "stdout",
     "output_type": "stream",
     "text": [
      "\n",
      "Scoring History: \n"
     ]
    },
    {
     "data": {
      "text/html": [
       "<div style=\"overflow:auto\"><table style=\"width:50%\"><tr><td><b></b></td>\n",
       "<td><b>timestamp</b></td>\n",
       "<td><b>duration</b></td>\n",
       "<td><b>number_of_trees</b></td>\n",
       "<td><b>training_MSE</b></td>\n",
       "<td><b>training_logloss</b></td>\n",
       "<td><b>training_classification_error</b></td></tr>\n",
       "<tr><td></td>\n",
       "<td>2016-09-26 21:55:17</td>\n",
       "<td> 0.021 sec</td>\n",
       "<td>0.0</td>\n",
       "<td>0.4444444</td>\n",
       "<td>1.0986123</td>\n",
       "<td>0.6621622</td></tr>\n",
       "<tr><td></td>\n",
       "<td>2016-09-26 21:55:17</td>\n",
       "<td> 0.235 sec</td>\n",
       "<td>1.0</td>\n",
       "<td>0.2849025</td>\n",
       "<td>0.7655876</td>\n",
       "<td>0.1148649</td></tr>\n",
       "<tr><td></td>\n",
       "<td>2016-09-26 21:55:17</td>\n",
       "<td> 0.366 sec</td>\n",
       "<td>2.0</td>\n",
       "<td>0.2005944</td>\n",
       "<td>0.5910355</td>\n",
       "<td>0.0945946</td></tr>\n",
       "<tr><td></td>\n",
       "<td>2016-09-26 21:55:17</td>\n",
       "<td> 0.445 sec</td>\n",
       "<td>3.0</td>\n",
       "<td>0.1459302</td>\n",
       "<td>0.4685123</td>\n",
       "<td>0.0608108</td></tr>\n",
       "<tr><td></td>\n",
       "<td>2016-09-26 21:55:17</td>\n",
       "<td> 0.568 sec</td>\n",
       "<td>4.0</td>\n",
       "<td>0.1130085</td>\n",
       "<td>0.3899381</td>\n",
       "<td>0.0270270</td></tr>\n",
       "<tr><td>---</td>\n",
       "<td>---</td>\n",
       "<td>---</td>\n",
       "<td>---</td>\n",
       "<td>---</td>\n",
       "<td>---</td>\n",
       "<td>---</td></tr>\n",
       "<tr><td></td>\n",
       "<td>2016-09-26 21:55:19</td>\n",
       "<td> 1.925 sec</td>\n",
       "<td>16.0</td>\n",
       "<td>0.0104763</td>\n",
       "<td>0.0765134</td>\n",
       "<td>0.0</td></tr>\n",
       "<tr><td></td>\n",
       "<td>2016-09-26 21:55:19</td>\n",
       "<td> 2.026 sec</td>\n",
       "<td>17.0</td>\n",
       "<td>0.0078580</td>\n",
       "<td>0.0659389</td>\n",
       "<td>0.0</td></tr>\n",
       "<tr><td></td>\n",
       "<td>2016-09-26 21:55:19</td>\n",
       "<td> 2.262 sec</td>\n",
       "<td>18.0</td>\n",
       "<td>0.0065699</td>\n",
       "<td>0.0579187</td>\n",
       "<td>0.0</td></tr>\n",
       "<tr><td></td>\n",
       "<td>2016-09-26 21:55:19</td>\n",
       "<td> 2.269 sec</td>\n",
       "<td>19.0</td>\n",
       "<td>0.0052206</td>\n",
       "<td>0.0517656</td>\n",
       "<td>0.0</td></tr>\n",
       "<tr><td></td>\n",
       "<td>2016-09-26 21:55:19</td>\n",
       "<td> 2.292 sec</td>\n",
       "<td>20.0</td>\n",
       "<td>0.0041802</td>\n",
       "<td>0.0449732</td>\n",
       "<td>0.0</td></tr></table></div>"
      ],
      "text/plain": [
       "     timestamp            duration    number_of_trees    training_MSE           training_logloss     training_classification_error\n",
       "---  -------------------  ----------  -----------------  ---------------------  -------------------  -------------------------------\n",
       "     2016-09-26 21:55:17  0.021 sec   0.0                0.44444444444444337    1.098612288668108    0.6621621621621622\n",
       "     2016-09-26 21:55:17  0.235 sec   1.0                0.2849024867935951     0.7655875764838641   0.11486486486486487\n",
       "     2016-09-26 21:55:17  0.366 sec   2.0                0.20059439667958012    0.5910355007170363   0.0945945945945946\n",
       "     2016-09-26 21:55:17  0.445 sec   3.0                0.14593022267306996    0.46851233150731736  0.060810810810810814\n",
       "     2016-09-26 21:55:17  0.568 sec   4.0                0.11300848165633662    0.38993812634003094  0.02702702702702703\n",
       "---  ---                  ---         ---                ---                    ---                  ---\n",
       "     2016-09-26 21:55:19  1.925 sec   16.0               0.010476320317484116   0.07651336163950835  0.0\n",
       "     2016-09-26 21:55:19  2.026 sec   17.0               0.007858024446337226   0.0659388743681709   0.0\n",
       "     2016-09-26 21:55:19  2.262 sec   18.0               0.006569909652746105   0.05791872633221794  0.0\n",
       "     2016-09-26 21:55:19  2.269 sec   19.0               0.0052205538664354114  0.05176563739235304  0.0\n",
       "     2016-09-26 21:55:19  2.292 sec   20.0               0.004180160362194533   0.04497321641456268  0.0"
      ]
     },
     "metadata": {},
     "output_type": "display_data"
    },
    {
     "name": "stdout",
     "output_type": "stream",
     "text": [
      "\n",
      "See the whole table with table.as_data_frame()\n",
      "\n",
      "Variable Importances: \n"
     ]
    },
    {
     "data": {
      "text/html": [
       "<div style=\"overflow:auto\"><table style=\"width:50%\"><tr><td><b>variable</b></td>\n",
       "<td><b>relative_importance</b></td>\n",
       "<td><b>scaled_importance</b></td>\n",
       "<td><b>percentage</b></td></tr>\n",
       "<tr><td>C6</td>\n",
       "<td>48.9293747</td>\n",
       "<td>1.0</td>\n",
       "<td>0.3052671</td></tr>\n",
       "<tr><td>C17</td>\n",
       "<td>21.0651455</td>\n",
       "<td>0.4305215</td>\n",
       "<td>0.1314240</td></tr>\n",
       "<tr><td>C3</td>\n",
       "<td>12.6970091</td>\n",
       "<td>0.2594967</td>\n",
       "<td>0.0792158</td></tr>\n",
       "<tr><td>C10</td>\n",
       "<td>12.6764822</td>\n",
       "<td>0.2590771</td>\n",
       "<td>0.0790877</td></tr>\n",
       "<tr><td>C19</td>\n",
       "<td>11.0012932</td>\n",
       "<td>0.2248403</td>\n",
       "<td>0.0686363</td></tr>\n",
       "<tr><td>C13</td>\n",
       "<td>7.9040785</td>\n",
       "<td>0.1615406</td>\n",
       "<td>0.0493130</td></tr>\n",
       "<tr><td>C14</td>\n",
       "<td>7.5658331</td>\n",
       "<td>0.1546276</td>\n",
       "<td>0.0472027</td></tr>\n",
       "<tr><td>C7</td>\n",
       "<td>6.7103696</td>\n",
       "<td>0.1371440</td>\n",
       "<td>0.0418655</td></tr>\n",
       "<tr><td>C8</td>\n",
       "<td>6.5150094</td>\n",
       "<td>0.1331513</td>\n",
       "<td>0.0406467</td></tr>\n",
       "<tr><td>C4</td>\n",
       "<td>5.5548463</td>\n",
       "<td>0.1135278</td>\n",
       "<td>0.0346563</td></tr>\n",
       "<tr><td>C5</td>\n",
       "<td>5.4536982</td>\n",
       "<td>0.1114606</td>\n",
       "<td>0.0340253</td></tr>\n",
       "<tr><td>C18</td>\n",
       "<td>2.9274812</td>\n",
       "<td>0.0598307</td>\n",
       "<td>0.0182644</td></tr>\n",
       "<tr><td>C15</td>\n",
       "<td>2.7214563</td>\n",
       "<td>0.0556201</td>\n",
       "<td>0.0169790</td></tr>\n",
       "<tr><td>C9</td>\n",
       "<td>2.6062446</td>\n",
       "<td>0.0532654</td>\n",
       "<td>0.0162602</td></tr>\n",
       "<tr><td>C12</td>\n",
       "<td>2.4158340</td>\n",
       "<td>0.0493739</td>\n",
       "<td>0.0150722</td></tr>\n",
       "<tr><td>C11</td>\n",
       "<td>2.2065122</td>\n",
       "<td>0.0450959</td>\n",
       "<td>0.0137663</td></tr>\n",
       "<tr><td>C16</td>\n",
       "<td>1.2322652</td>\n",
       "<td>0.0251846</td>\n",
       "<td>0.0076880</td></tr>\n",
       "<tr><td>C2</td>\n",
       "<td>0.1008804</td>\n",
       "<td>0.0020618</td>\n",
       "<td>0.0006294</td></tr></table></div>"
      ],
      "text/plain": [
       "variable    relative_importance    scaled_importance    percentage\n",
       "----------  ---------------------  -------------------  ------------\n",
       "C6          48.9294                1                    0.305267\n",
       "C17         21.0651                0.430521             0.131424\n",
       "C3          12.697                 0.259497             0.0792158\n",
       "C10         12.6765                0.259077             0.0790877\n",
       "C19         11.0013                0.22484              0.0686363\n",
       "C13         7.90408                0.161541             0.049313\n",
       "C14         7.56583                0.154628             0.0472027\n",
       "C7          6.71037                0.137144             0.0418655\n",
       "C8          6.51501                0.133151             0.0406467\n",
       "C4          5.55485                0.113528             0.0346563\n",
       "C5          5.4537                 0.111461             0.0340253\n",
       "C18         2.92748                0.0598307            0.0182644\n",
       "C15         2.72146                0.0556201            0.016979\n",
       "C9          2.60624                0.0532654            0.0162602\n",
       "C12         2.41583                0.0493739            0.0150722\n",
       "C11         2.20651                0.0450959            0.0137663\n",
       "C16         1.23227                0.0251846            0.00768802\n",
       "C2          0.10088                0.00206176           0.000629386"
      ]
     },
     "metadata": {},
     "output_type": "display_data"
    },
    {
     "data": {
      "text/plain": []
     },
     "execution_count": 22,
     "metadata": {},
     "output_type": "execute_result"
    }
   ],
   "source": [
    "gbm_classifier = H2OGradientBoostingEstimator(distribution=\"multinomial\",ntrees=20,max_depth=5,learn_rate=\"0.3\")\n",
    "\n",
    "gbm_classifier.train(x = list(range(0,df.ncol)), y = 0, training_frame=df)\n",
    "gbm_classifier"
   ]
  },
  {
   "cell_type": "markdown",
   "metadata": {},
   "source": [
    "# Now we make a Prediction"
   ]
  },
  {
   "cell_type": "code",
   "execution_count": 23,
   "metadata": {
    "collapsed": false
   },
   "outputs": [
    {
     "name": "stdout",
     "output_type": "stream",
     "text": [
      "\n",
      "Parse Progress: [##################################################] 100%\n",
      "\n",
      "gbm prediction Progress: [##################################################] 100%\n"
     ]
    },
    {
     "data": {
      "text/html": [
       "<table>\n",
       "<tr><th>predict  </th><th style=\"text-align: right;\">        A</th><th style=\"text-align: right;\">       B</th><th style=\"text-align: right;\">       C</th></tr>\n",
       "<tr><td>B        </td><td style=\"text-align: right;\">0.0220014</td><td style=\"text-align: right;\">0.656162</td><td style=\"text-align: right;\">0.321837</td></tr>\n",
       "</table>"
      ]
     },
     "metadata": {},
     "output_type": "display_data"
    },
    {
     "data": {
      "text/plain": []
     },
     "execution_count": 23,
     "metadata": {},
     "output_type": "execute_result"
    }
   ],
   "source": [
    "example = h2o.H2OFrame([np.nan, 1115, 1566.5, 748, 182, 669.0, 233.5, 178, 311, 756, 226, 268.0, 650.0, 125.0, 48, 1009, 138.0, 204, 593])\n",
    "\n",
    "gbm_classifier.predict(example[1:])"
   ]
  },
  {
   "cell_type": "markdown",
   "metadata": {},
   "source": [
    "# Building a pipeline"
   ]
  },
  {
   "cell_type": "code",
   "execution_count": 24,
   "metadata": {
    "collapsed": false,
    "scrolled": false
   },
   "outputs": [
    {
     "name": "stdout",
     "output_type": "stream",
     "text": [
      "\n",
      "pca Model Build Progress: [##################################################] 100%\n",
      "\n",
      "pca prediction Progress: [##################################################] 100%\n",
      "\n",
      "gbm Model Build Progress: [##################################################] 100%\n",
      "Model Details\n",
      "=============\n",
      "H2OPCA :  Principle Components Analysis\n",
      "Model Key:  PCA_model_python_1474952103556_25\n",
      "\n",
      "Importance of components: \n"
     ]
    },
    {
     "data": {
      "text/html": [
       "<div style=\"overflow:auto\"><table style=\"width:50%\"><tr><td><b></b></td>\n",
       "<td><b>pc1</b></td>\n",
       "<td><b>pc2</b></td></tr>\n",
       "<tr><td>Standard deviation</td>\n",
       "<td>43938.3964330</td>\n",
       "<td>7403.2441099</td></tr>\n",
       "<tr><td>Proportion of Variance</td>\n",
       "<td>0.9446650</td>\n",
       "<td>0.0268184</td></tr>\n",
       "<tr><td>Cumulative Proportion</td>\n",
       "<td>0.9446650</td>\n",
       "<td>0.9714835</td></tr></table></div>"
      ],
      "text/plain": [
       "                        pc1       pc2\n",
       "----------------------  --------  ---------\n",
       "Standard deviation      43938.4   7403.24\n",
       "Proportion of Variance  0.944665  0.0268184\n",
       "Cumulative Proportion   0.944665  0.971483"
      ]
     },
     "metadata": {},
     "output_type": "display_data"
    },
    {
     "name": "stdout",
     "output_type": "stream",
     "text": [
      "\n",
      "\n",
      "ModelMetricsPCA: pca\n",
      "** Reported on train data. **\n",
      "\n",
      "MSE: NaN\n",
      "Model Details\n",
      "=============\n",
      "H2OGradientBoostingEstimator :  Gradient Boosting Method\n",
      "Model Key:  GBM_model_python_1474952103556_26\n",
      "\n",
      "Model Summary: \n"
     ]
    },
    {
     "data": {
      "text/html": [
       "<div style=\"overflow:auto\"><table style=\"width:50%\"><tr><td><b></b></td>\n",
       "<td><b>number_of_trees</b></td>\n",
       "<td><b>model_size_in_bytes</b></td>\n",
       "<td><b>min_depth</b></td>\n",
       "<td><b>max_depth</b></td>\n",
       "<td><b>mean_depth</b></td>\n",
       "<td><b>min_leaves</b></td>\n",
       "<td><b>max_leaves</b></td>\n",
       "<td><b>mean_leaves</b></td></tr>\n",
       "<tr><td></td>\n",
       "<td>150.0</td>\n",
       "<td>24879.0</td>\n",
       "<td>4.0</td>\n",
       "<td>5.0</td>\n",
       "<td>4.9866667</td>\n",
       "<td>6.0</td>\n",
       "<td>12.0</td>\n",
       "<td>8.866667</td></tr></table></div>"
      ],
      "text/plain": [
       "    number_of_trees    model_size_in_bytes    min_depth    max_depth    mean_depth    min_leaves    max_leaves    mean_leaves\n",
       "--  -----------------  ---------------------  -----------  -----------  ------------  ------------  ------------  -------------\n",
       "    150                24879                  4            5            4.98667       6             12            8.86667"
      ]
     },
     "metadata": {},
     "output_type": "display_data"
    },
    {
     "name": "stdout",
     "output_type": "stream",
     "text": [
      "\n",
      "\n",
      "ModelMetricsMultinomial: gbm\n",
      "** Reported on train data. **\n",
      "\n",
      "MSE: 0.08249740563151993\n",
      "R^2: 0.8753777122101508\n",
      "LogLoss: 0.2914402263659982\n",
      "Mean Per-Class Error: 0.06861111111111111\n",
      "\n",
      "Confusion Matrix: vertical: actual; across: predicted\n",
      "\n"
     ]
    },
    {
     "data": {
      "text/html": [
       "<div style=\"overflow:auto\"><table style=\"width:50%\"><tr><td><b>A</b></td>\n",
       "<td><b>B</b></td>\n",
       "<td><b>C</b></td>\n",
       "<td><b>Error</b></td>\n",
       "<td><b>Rate</b></td></tr>\n",
       "<tr><td>49.0</td>\n",
       "<td>1.0</td>\n",
       "<td>0.0</td>\n",
       "<td>0.02</td>\n",
       "<td>1 / 50</td></tr>\n",
       "<tr><td>1.0</td>\n",
       "<td>48.0</td>\n",
       "<td>1.0</td>\n",
       "<td>0.04</td>\n",
       "<td>2 / 50</td></tr>\n",
       "<tr><td>1.0</td>\n",
       "<td>6.0</td>\n",
       "<td>41.0</td>\n",
       "<td>0.1458333</td>\n",
       "<td>7 / 48</td></tr>\n",
       "<tr><td>51.0</td>\n",
       "<td>55.0</td>\n",
       "<td>42.0</td>\n",
       "<td>0.0675676</td>\n",
       "<td>10 / 148</td></tr></table></div>"
      ],
      "text/plain": [
       "A    B    C    Error      Rate\n",
       "---  ---  ---  ---------  --------\n",
       "49   1    0    0.02       1 / 50\n",
       "1    48   1    0.04       2 / 50\n",
       "1    6    41   0.145833   7 / 48\n",
       "51   55   42   0.0675676  10 / 148"
      ]
     },
     "metadata": {},
     "output_type": "display_data"
    },
    {
     "name": "stdout",
     "output_type": "stream",
     "text": [
      "\n",
      "Top-3 Hit Ratios: \n"
     ]
    },
    {
     "data": {
      "text/html": [
       "<div style=\"overflow:auto\"><table style=\"width:50%\"><tr><td><b>k</b></td>\n",
       "<td><b>hit_ratio</b></td></tr>\n",
       "<tr><td>1</td>\n",
       "<td>0.9324324</td></tr>\n",
       "<tr><td>2</td>\n",
       "<td>1.0</td></tr>\n",
       "<tr><td>3</td>\n",
       "<td>1.0</td></tr></table></div>"
      ],
      "text/plain": [
       "k    hit_ratio\n",
       "---  -----------\n",
       "1    0.932432\n",
       "2    1\n",
       "3    1"
      ]
     },
     "metadata": {},
     "output_type": "display_data"
    },
    {
     "name": "stdout",
     "output_type": "stream",
     "text": [
      "\n",
      "Scoring History: \n"
     ]
    },
    {
     "data": {
      "text/html": [
       "<div style=\"overflow:auto\"><table style=\"width:50%\"><tr><td><b></b></td>\n",
       "<td><b>timestamp</b></td>\n",
       "<td><b>duration</b></td>\n",
       "<td><b>number_of_trees</b></td>\n",
       "<td><b>training_MSE</b></td>\n",
       "<td><b>training_logloss</b></td>\n",
       "<td><b>training_classification_error</b></td></tr>\n",
       "<tr><td></td>\n",
       "<td>2016-09-26 21:55:21</td>\n",
       "<td> 0.004 sec</td>\n",
       "<td>0.0</td>\n",
       "<td>0.4444444</td>\n",
       "<td>1.0986123</td>\n",
       "<td>0.6824324</td></tr>\n",
       "<tr><td></td>\n",
       "<td>2016-09-26 21:55:21</td>\n",
       "<td> 0.075 sec</td>\n",
       "<td>1.0</td>\n",
       "<td>0.4036471</td>\n",
       "<td>1.0099925</td>\n",
       "<td>0.2297297</td></tr>\n",
       "<tr><td></td>\n",
       "<td>2016-09-26 21:55:21</td>\n",
       "<td> 0.145 sec</td>\n",
       "<td>2.0</td>\n",
       "<td>0.3691969</td>\n",
       "<td>0.9388854</td>\n",
       "<td>0.2297297</td></tr>\n",
       "<tr><td></td>\n",
       "<td>2016-09-26 21:55:21</td>\n",
       "<td> 0.151 sec</td>\n",
       "<td>3.0</td>\n",
       "<td>0.3410737</td>\n",
       "<td>0.8824943</td>\n",
       "<td>0.2297297</td></tr>\n",
       "<tr><td></td>\n",
       "<td>2016-09-26 21:55:21</td>\n",
       "<td> 0.154 sec</td>\n",
       "<td>4.0</td>\n",
       "<td>0.3175395</td>\n",
       "<td>0.8357434</td>\n",
       "<td>0.2297297</td></tr>\n",
       "<tr><td>---</td>\n",
       "<td>---</td>\n",
       "<td>---</td>\n",
       "<td>---</td>\n",
       "<td>---</td>\n",
       "<td>---</td>\n",
       "<td>---</td></tr>\n",
       "<tr><td></td>\n",
       "<td>2016-09-26 21:55:21</td>\n",
       "<td> 0.417 sec</td>\n",
       "<td>46.0</td>\n",
       "<td>0.0896736</td>\n",
       "<td>0.3093305</td>\n",
       "<td>0.0743243</td></tr>\n",
       "<tr><td></td>\n",
       "<td>2016-09-26 21:55:21</td>\n",
       "<td> 0.420 sec</td>\n",
       "<td>47.0</td>\n",
       "<td>0.0873134</td>\n",
       "<td>0.3040129</td>\n",
       "<td>0.0608108</td></tr>\n",
       "<tr><td></td>\n",
       "<td>2016-09-26 21:55:21</td>\n",
       "<td> 0.423 sec</td>\n",
       "<td>48.0</td>\n",
       "<td>0.0857290</td>\n",
       "<td>0.2996699</td>\n",
       "<td>0.0675676</td></tr>\n",
       "<tr><td></td>\n",
       "<td>2016-09-26 21:55:21</td>\n",
       "<td> 0.430 sec</td>\n",
       "<td>49.0</td>\n",
       "<td>0.0841522</td>\n",
       "<td>0.2955575</td>\n",
       "<td>0.0675676</td></tr>\n",
       "<tr><td></td>\n",
       "<td>2016-09-26 21:55:21</td>\n",
       "<td> 0.433 sec</td>\n",
       "<td>50.0</td>\n",
       "<td>0.0824974</td>\n",
       "<td>0.2914402</td>\n",
       "<td>0.0675676</td></tr></table></div>"
      ],
      "text/plain": [
       "     timestamp            duration    number_of_trees    training_MSE         training_logloss    training_classification_error\n",
       "---  -------------------  ----------  -----------------  -------------------  ------------------  -------------------------------\n",
       "     2016-09-26 21:55:21  0.004 sec   0.0                0.44444444444444337  1.098612288668108   0.6824324324324325\n",
       "     2016-09-26 21:55:21  0.075 sec   1.0                0.40364709454759357  1.0099925202467286  0.22972972972972974\n",
       "     2016-09-26 21:55:21  0.145 sec   2.0                0.36919686006215796  0.9388854480902256  0.22972972972972974\n",
       "     2016-09-26 21:55:21  0.151 sec   3.0                0.34107367245620035  0.8824942595983758  0.22972972972972974\n",
       "     2016-09-26 21:55:21  0.154 sec   4.0                0.3175395178630291   0.8357433500368914  0.22972972972972974\n",
       "---  ---                  ---         ---                ---                  ---                 ---\n",
       "     2016-09-26 21:55:21  0.417 sec   46.0               0.08967364175359618  0.3093305038149362  0.07432432432432433\n",
       "     2016-09-26 21:55:21  0.420 sec   47.0               0.08731343794468091  0.3040129405443681  0.060810810810810814\n",
       "     2016-09-26 21:55:21  0.423 sec   48.0               0.08572900087446478  0.299669876968394   0.06756756756756757\n",
       "     2016-09-26 21:55:21  0.430 sec   49.0               0.08415219609432058  0.2955575358040818  0.06756756756756757\n",
       "     2016-09-26 21:55:21  0.433 sec   50.0               0.08249740563151993  0.2914402263659982  0.06756756756756757"
      ]
     },
     "metadata": {},
     "output_type": "display_data"
    },
    {
     "name": "stdout",
     "output_type": "stream",
     "text": [
      "\n",
      "See the whole table with table.as_data_frame()\n",
      "\n",
      "Variable Importances: \n"
     ]
    },
    {
     "data": {
      "text/html": [
       "<div style=\"overflow:auto\"><table style=\"width:50%\"><tr><td><b>variable</b></td>\n",
       "<td><b>relative_importance</b></td>\n",
       "<td><b>scaled_importance</b></td>\n",
       "<td><b>percentage</b></td></tr>\n",
       "<tr><td>PC2</td>\n",
       "<td>235.1169281</td>\n",
       "<td>1.0</td>\n",
       "<td>0.6915370</td></tr>\n",
       "<tr><td>PC1</td>\n",
       "<td>104.8748779</td>\n",
       "<td>0.4460541</td>\n",
       "<td>0.3084630</td></tr></table></div>"
      ],
      "text/plain": [
       "variable    relative_importance    scaled_importance    percentage\n",
       "----------  ---------------------  -------------------  ------------\n",
       "PC2         235.117                1                    0.691537\n",
       "PC1         104.875                0.446054             0.308463"
      ]
     },
     "metadata": {},
     "output_type": "display_data"
    },
    {
     "data": {
      "text/plain": [
       "Pipeline(steps=[('standardize', <h2o.transforms.preprocessing.H2OScaler object at 0x11753bcc0>), ('pca', ), ('gbm', )])"
      ]
     },
     "execution_count": 24,
     "metadata": {},
     "output_type": "execute_result"
    }
   ],
   "source": [
    "pipeline = Pipeline([('standardize',H2OScaler()),('pca',H2OPCA(k=2)),\n",
    "                     ('gbm',H2OGradientBoostingEstimator(distribution='multinomial'))])\n",
    "\n",
    "pipeline.fit(df[1:], df[0])"
   ]
  },
  {
   "cell_type": "markdown",
   "metadata": {
    "collapsed": true
   },
   "source": [
    "# I wanted to explore a little more of their capabilities but ran into this error. Bug perhaps?"
   ]
  },
  {
   "cell_type": "code",
   "execution_count": 25,
   "metadata": {
    "collapsed": true
   },
   "outputs": [],
   "source": [
    "from h2o.estimators.gbm import H2OGradientBoostingEstimator\n",
    "from sklearn.grid_search import RandomizedSearchCV\n",
    "from h2o.cross_validation import H2OKFold\n",
    "from h2o.model.regression import h2o_r2_score\n",
    "from sklearn.metrics.scorer import make_scorer\n",
    "\n",
    "params = {'standardize_center': [True, False],\n",
    "         'standardize_scale':[True, False],\n",
    "         'pca_k':[2,3],\n",
    "         'gbm_ntrees':[10,20],\n",
    "         'gbm_max_depth':[1,2,3],\n",
    "         'gbm_learn_rate':[0.1,0.2]}"
   ]
  },
  {
   "cell_type": "markdown",
   "metadata": {},
   "source": [
    "# Keys just don't show up"
   ]
  },
  {
   "cell_type": "code",
   "execution_count": 26,
   "metadata": {
    "collapsed": false
   },
   "outputs": [
    {
     "data": {
      "text/plain": [
       "dict_keys([])"
      ]
     },
     "execution_count": 26,
     "metadata": {},
     "output_type": "execute_result"
    }
   ],
   "source": [
    "H2OGradientBoostingEstimator().get_params().keys() "
   ]
  },
  {
   "cell_type": "code",
   "execution_count": 27,
   "metadata": {
    "collapsed": false
   },
   "outputs": [],
   "source": [
    "custom_cv = H2OKFold(df, n_folds=5, seed = 42)\n",
    "\n",
    "pipeline = Pipeline([('standardize',H2OScaler()),\n",
    "                     ('pca',H2OPCA()),\n",
    "                     ('gbm',H2OGradientBoostingEstimator(distribution='multinomial'))])\n",
    "\n",
    "random_search = RandomizedSearchCV(pipeline, params, n_iter=5, scoring=make_scorer(h2o_r2_score),\n",
    "                                  cv=custom_cv, random_state=42, n_jobs=1)"
   ]
  },
  {
   "cell_type": "code",
   "execution_count": 28,
   "metadata": {
    "collapsed": false
   },
   "outputs": [
    {
     "ename": "ValueError",
     "evalue": "Invalid parameter standardize_center for estimator Pipeline. Check the list of available parameters with `estimator.get_params().keys()`.",
     "output_type": "error",
     "traceback": [
      "\u001b[0;31m---------------------------------------------------------------------------\u001b[0m",
      "\u001b[0;31mValueError\u001b[0m                                Traceback (most recent call last)",
      "\u001b[0;32m<ipython-input-28-a630aaa17dcb>\u001b[0m in \u001b[0;36m<module>\u001b[0;34m()\u001b[0m\n\u001b[0;32m----> 1\u001b[0;31m \u001b[0mrandom_search\u001b[0m\u001b[0;34m.\u001b[0m\u001b[0mfit\u001b[0m\u001b[0;34m(\u001b[0m\u001b[0mdf\u001b[0m\u001b[0;34m[\u001b[0m\u001b[0;36m1\u001b[0m\u001b[0;34m:\u001b[0m\u001b[0;34m]\u001b[0m\u001b[0;34m,\u001b[0m\u001b[0mdf\u001b[0m\u001b[0;34m[\u001b[0m\u001b[0;36m0\u001b[0m\u001b[0;34m]\u001b[0m\u001b[0;34m)\u001b[0m\u001b[0;34m\u001b[0m\u001b[0m\n\u001b[0m",
      "\u001b[0;32m/Users/dgonzalez/anaconda/lib/python3.5/site-packages/sklearn/grid_search.py\u001b[0m in \u001b[0;36mfit\u001b[0;34m(self, X, y)\u001b[0m\n\u001b[1;32m    994\u001b[0m                                           \u001b[0mself\u001b[0m\u001b[0;34m.\u001b[0m\u001b[0mn_iter\u001b[0m\u001b[0;34m,\u001b[0m\u001b[0;34m\u001b[0m\u001b[0m\n\u001b[1;32m    995\u001b[0m                                           random_state=self.random_state)\n\u001b[0;32m--> 996\u001b[0;31m         \u001b[0;32mreturn\u001b[0m \u001b[0mself\u001b[0m\u001b[0;34m.\u001b[0m\u001b[0m_fit\u001b[0m\u001b[0;34m(\u001b[0m\u001b[0mX\u001b[0m\u001b[0;34m,\u001b[0m \u001b[0my\u001b[0m\u001b[0;34m,\u001b[0m \u001b[0msampled_params\u001b[0m\u001b[0;34m)\u001b[0m\u001b[0;34m\u001b[0m\u001b[0m\n\u001b[0m",
      "\u001b[0;32m/Users/dgonzalez/anaconda/lib/python3.5/site-packages/sklearn/grid_search.py\u001b[0m in \u001b[0;36m_fit\u001b[0;34m(self, X, y, parameter_iterable)\u001b[0m\n\u001b[1;32m    551\u001b[0m                                     \u001b[0mself\u001b[0m\u001b[0;34m.\u001b[0m\u001b[0mfit_params\u001b[0m\u001b[0;34m,\u001b[0m \u001b[0mreturn_parameters\u001b[0m\u001b[0;34m=\u001b[0m\u001b[0;32mTrue\u001b[0m\u001b[0;34m,\u001b[0m\u001b[0;34m\u001b[0m\u001b[0m\n\u001b[1;32m    552\u001b[0m                                     error_score=self.error_score)\n\u001b[0;32m--> 553\u001b[0;31m                 \u001b[0;32mfor\u001b[0m \u001b[0mparameters\u001b[0m \u001b[0;32min\u001b[0m \u001b[0mparameter_iterable\u001b[0m\u001b[0;34m\u001b[0m\u001b[0m\n\u001b[0m\u001b[1;32m    554\u001b[0m                 for train, test in cv)\n\u001b[1;32m    555\u001b[0m \u001b[0;34m\u001b[0m\u001b[0m\n",
      "\u001b[0;32m/Users/dgonzalez/anaconda/lib/python3.5/site-packages/sklearn/externals/joblib/parallel.py\u001b[0m in \u001b[0;36m__call__\u001b[0;34m(self, iterable)\u001b[0m\n\u001b[1;32m    798\u001b[0m             \u001b[0;31m# was dispatched. In particular this covers the edge\u001b[0m\u001b[0;34m\u001b[0m\u001b[0;34m\u001b[0m\u001b[0m\n\u001b[1;32m    799\u001b[0m             \u001b[0;31m# case of Parallel used with an exhausted iterator.\u001b[0m\u001b[0;34m\u001b[0m\u001b[0;34m\u001b[0m\u001b[0m\n\u001b[0;32m--> 800\u001b[0;31m             \u001b[0;32mwhile\u001b[0m \u001b[0mself\u001b[0m\u001b[0;34m.\u001b[0m\u001b[0mdispatch_one_batch\u001b[0m\u001b[0;34m(\u001b[0m\u001b[0miterator\u001b[0m\u001b[0;34m)\u001b[0m\u001b[0;34m:\u001b[0m\u001b[0;34m\u001b[0m\u001b[0m\n\u001b[0m\u001b[1;32m    801\u001b[0m                 \u001b[0mself\u001b[0m\u001b[0;34m.\u001b[0m\u001b[0m_iterating\u001b[0m \u001b[0;34m=\u001b[0m \u001b[0;32mTrue\u001b[0m\u001b[0;34m\u001b[0m\u001b[0m\n\u001b[1;32m    802\u001b[0m             \u001b[0;32melse\u001b[0m\u001b[0;34m:\u001b[0m\u001b[0;34m\u001b[0m\u001b[0m\n",
      "\u001b[0;32m/Users/dgonzalez/anaconda/lib/python3.5/site-packages/sklearn/externals/joblib/parallel.py\u001b[0m in \u001b[0;36mdispatch_one_batch\u001b[0;34m(self, iterator)\u001b[0m\n\u001b[1;32m    656\u001b[0m                 \u001b[0;32mreturn\u001b[0m \u001b[0;32mFalse\u001b[0m\u001b[0;34m\u001b[0m\u001b[0m\n\u001b[1;32m    657\u001b[0m             \u001b[0;32melse\u001b[0m\u001b[0;34m:\u001b[0m\u001b[0;34m\u001b[0m\u001b[0m\n\u001b[0;32m--> 658\u001b[0;31m                 \u001b[0mself\u001b[0m\u001b[0;34m.\u001b[0m\u001b[0m_dispatch\u001b[0m\u001b[0;34m(\u001b[0m\u001b[0mtasks\u001b[0m\u001b[0;34m)\u001b[0m\u001b[0;34m\u001b[0m\u001b[0m\n\u001b[0m\u001b[1;32m    659\u001b[0m                 \u001b[0;32mreturn\u001b[0m \u001b[0;32mTrue\u001b[0m\u001b[0;34m\u001b[0m\u001b[0m\n\u001b[1;32m    660\u001b[0m \u001b[0;34m\u001b[0m\u001b[0m\n",
      "\u001b[0;32m/Users/dgonzalez/anaconda/lib/python3.5/site-packages/sklearn/externals/joblib/parallel.py\u001b[0m in \u001b[0;36m_dispatch\u001b[0;34m(self, batch)\u001b[0m\n\u001b[1;32m    564\u001b[0m \u001b[0;34m\u001b[0m\u001b[0m\n\u001b[1;32m    565\u001b[0m         \u001b[0;32mif\u001b[0m \u001b[0mself\u001b[0m\u001b[0;34m.\u001b[0m\u001b[0m_pool\u001b[0m \u001b[0;32mis\u001b[0m \u001b[0;32mNone\u001b[0m\u001b[0;34m:\u001b[0m\u001b[0;34m\u001b[0m\u001b[0m\n\u001b[0;32m--> 566\u001b[0;31m             \u001b[0mjob\u001b[0m \u001b[0;34m=\u001b[0m \u001b[0mImmediateComputeBatch\u001b[0m\u001b[0;34m(\u001b[0m\u001b[0mbatch\u001b[0m\u001b[0;34m)\u001b[0m\u001b[0;34m\u001b[0m\u001b[0m\n\u001b[0m\u001b[1;32m    567\u001b[0m             \u001b[0mself\u001b[0m\u001b[0;34m.\u001b[0m\u001b[0m_jobs\u001b[0m\u001b[0;34m.\u001b[0m\u001b[0mappend\u001b[0m\u001b[0;34m(\u001b[0m\u001b[0mjob\u001b[0m\u001b[0;34m)\u001b[0m\u001b[0;34m\u001b[0m\u001b[0m\n\u001b[1;32m    568\u001b[0m             \u001b[0mself\u001b[0m\u001b[0;34m.\u001b[0m\u001b[0mn_dispatched_batches\u001b[0m \u001b[0;34m+=\u001b[0m \u001b[0;36m1\u001b[0m\u001b[0;34m\u001b[0m\u001b[0m\n",
      "\u001b[0;32m/Users/dgonzalez/anaconda/lib/python3.5/site-packages/sklearn/externals/joblib/parallel.py\u001b[0m in \u001b[0;36m__init__\u001b[0;34m(self, batch)\u001b[0m\n\u001b[1;32m    178\u001b[0m         \u001b[0;31m# Don't delay the application, to avoid keeping the input\u001b[0m\u001b[0;34m\u001b[0m\u001b[0;34m\u001b[0m\u001b[0m\n\u001b[1;32m    179\u001b[0m         \u001b[0;31m# arguments in memory\u001b[0m\u001b[0;34m\u001b[0m\u001b[0;34m\u001b[0m\u001b[0m\n\u001b[0;32m--> 180\u001b[0;31m         \u001b[0mself\u001b[0m\u001b[0;34m.\u001b[0m\u001b[0mresults\u001b[0m \u001b[0;34m=\u001b[0m \u001b[0mbatch\u001b[0m\u001b[0;34m(\u001b[0m\u001b[0;34m)\u001b[0m\u001b[0;34m\u001b[0m\u001b[0m\n\u001b[0m\u001b[1;32m    181\u001b[0m \u001b[0;34m\u001b[0m\u001b[0m\n\u001b[1;32m    182\u001b[0m     \u001b[0;32mdef\u001b[0m \u001b[0mget\u001b[0m\u001b[0;34m(\u001b[0m\u001b[0mself\u001b[0m\u001b[0;34m)\u001b[0m\u001b[0;34m:\u001b[0m\u001b[0;34m\u001b[0m\u001b[0m\n",
      "\u001b[0;32m/Users/dgonzalez/anaconda/lib/python3.5/site-packages/sklearn/externals/joblib/parallel.py\u001b[0m in \u001b[0;36m__call__\u001b[0;34m(self)\u001b[0m\n\u001b[1;32m     70\u001b[0m \u001b[0;34m\u001b[0m\u001b[0m\n\u001b[1;32m     71\u001b[0m     \u001b[0;32mdef\u001b[0m \u001b[0m__call__\u001b[0m\u001b[0;34m(\u001b[0m\u001b[0mself\u001b[0m\u001b[0;34m)\u001b[0m\u001b[0;34m:\u001b[0m\u001b[0;34m\u001b[0m\u001b[0m\n\u001b[0;32m---> 72\u001b[0;31m         \u001b[0;32mreturn\u001b[0m \u001b[0;34m[\u001b[0m\u001b[0mfunc\u001b[0m\u001b[0;34m(\u001b[0m\u001b[0;34m*\u001b[0m\u001b[0margs\u001b[0m\u001b[0;34m,\u001b[0m \u001b[0;34m**\u001b[0m\u001b[0mkwargs\u001b[0m\u001b[0;34m)\u001b[0m \u001b[0;32mfor\u001b[0m \u001b[0mfunc\u001b[0m\u001b[0;34m,\u001b[0m \u001b[0margs\u001b[0m\u001b[0;34m,\u001b[0m \u001b[0mkwargs\u001b[0m \u001b[0;32min\u001b[0m \u001b[0mself\u001b[0m\u001b[0;34m.\u001b[0m\u001b[0mitems\u001b[0m\u001b[0;34m]\u001b[0m\u001b[0;34m\u001b[0m\u001b[0m\n\u001b[0m\u001b[1;32m     73\u001b[0m \u001b[0;34m\u001b[0m\u001b[0m\n\u001b[1;32m     74\u001b[0m     \u001b[0;32mdef\u001b[0m \u001b[0m__len__\u001b[0m\u001b[0;34m(\u001b[0m\u001b[0mself\u001b[0m\u001b[0;34m)\u001b[0m\u001b[0;34m:\u001b[0m\u001b[0;34m\u001b[0m\u001b[0m\n",
      "\u001b[0;32m/Users/dgonzalez/anaconda/lib/python3.5/site-packages/sklearn/externals/joblib/parallel.py\u001b[0m in \u001b[0;36m<listcomp>\u001b[0;34m(.0)\u001b[0m\n\u001b[1;32m     70\u001b[0m \u001b[0;34m\u001b[0m\u001b[0m\n\u001b[1;32m     71\u001b[0m     \u001b[0;32mdef\u001b[0m \u001b[0m__call__\u001b[0m\u001b[0;34m(\u001b[0m\u001b[0mself\u001b[0m\u001b[0;34m)\u001b[0m\u001b[0;34m:\u001b[0m\u001b[0;34m\u001b[0m\u001b[0m\n\u001b[0;32m---> 72\u001b[0;31m         \u001b[0;32mreturn\u001b[0m \u001b[0;34m[\u001b[0m\u001b[0mfunc\u001b[0m\u001b[0;34m(\u001b[0m\u001b[0;34m*\u001b[0m\u001b[0margs\u001b[0m\u001b[0;34m,\u001b[0m \u001b[0;34m**\u001b[0m\u001b[0mkwargs\u001b[0m\u001b[0;34m)\u001b[0m \u001b[0;32mfor\u001b[0m \u001b[0mfunc\u001b[0m\u001b[0;34m,\u001b[0m \u001b[0margs\u001b[0m\u001b[0;34m,\u001b[0m \u001b[0mkwargs\u001b[0m \u001b[0;32min\u001b[0m \u001b[0mself\u001b[0m\u001b[0;34m.\u001b[0m\u001b[0mitems\u001b[0m\u001b[0;34m]\u001b[0m\u001b[0;34m\u001b[0m\u001b[0m\n\u001b[0m\u001b[1;32m     73\u001b[0m \u001b[0;34m\u001b[0m\u001b[0m\n\u001b[1;32m     74\u001b[0m     \u001b[0;32mdef\u001b[0m \u001b[0m__len__\u001b[0m\u001b[0;34m(\u001b[0m\u001b[0mself\u001b[0m\u001b[0;34m)\u001b[0m\u001b[0;34m:\u001b[0m\u001b[0;34m\u001b[0m\u001b[0m\n",
      "\u001b[0;32m/Users/dgonzalez/anaconda/lib/python3.5/site-packages/sklearn/cross_validation.py\u001b[0m in \u001b[0;36m_fit_and_score\u001b[0;34m(estimator, X, y, scorer, train, test, verbose, parameters, fit_params, return_train_score, return_parameters, error_score)\u001b[0m\n\u001b[1;32m   1518\u001b[0m \u001b[0;34m\u001b[0m\u001b[0m\n\u001b[1;32m   1519\u001b[0m     \u001b[0;32mif\u001b[0m \u001b[0mparameters\u001b[0m \u001b[0;32mis\u001b[0m \u001b[0;32mnot\u001b[0m \u001b[0;32mNone\u001b[0m\u001b[0;34m:\u001b[0m\u001b[0;34m\u001b[0m\u001b[0m\n\u001b[0;32m-> 1520\u001b[0;31m         \u001b[0mestimator\u001b[0m\u001b[0;34m.\u001b[0m\u001b[0mset_params\u001b[0m\u001b[0;34m(\u001b[0m\u001b[0;34m**\u001b[0m\u001b[0mparameters\u001b[0m\u001b[0;34m)\u001b[0m\u001b[0;34m\u001b[0m\u001b[0m\n\u001b[0m\u001b[1;32m   1521\u001b[0m \u001b[0;34m\u001b[0m\u001b[0m\n\u001b[1;32m   1522\u001b[0m     \u001b[0mstart_time\u001b[0m \u001b[0;34m=\u001b[0m \u001b[0mtime\u001b[0m\u001b[0;34m.\u001b[0m\u001b[0mtime\u001b[0m\u001b[0;34m(\u001b[0m\u001b[0;34m)\u001b[0m\u001b[0;34m\u001b[0m\u001b[0m\n",
      "\u001b[0;32m/Users/dgonzalez/anaconda/lib/python3.5/site-packages/sklearn/base.py\u001b[0m in \u001b[0;36mset_params\u001b[0;34m(self, **params)\u001b[0m\n\u001b[1;32m    268\u001b[0m                                      \u001b[0;34m'Check the list of available parameters '\u001b[0m\u001b[0;34m\u001b[0m\u001b[0m\n\u001b[1;32m    269\u001b[0m                                      \u001b[0;34m'with `estimator.get_params().keys()`.'\u001b[0m \u001b[0;34m%\u001b[0m\u001b[0;34m\u001b[0m\u001b[0m\n\u001b[0;32m--> 270\u001b[0;31m                                      (key, self.__class__.__name__))\n\u001b[0m\u001b[1;32m    271\u001b[0m                 \u001b[0msetattr\u001b[0m\u001b[0;34m(\u001b[0m\u001b[0mself\u001b[0m\u001b[0;34m,\u001b[0m \u001b[0mkey\u001b[0m\u001b[0;34m,\u001b[0m \u001b[0mvalue\u001b[0m\u001b[0;34m)\u001b[0m\u001b[0;34m\u001b[0m\u001b[0m\n\u001b[1;32m    272\u001b[0m         \u001b[0;32mreturn\u001b[0m \u001b[0mself\u001b[0m\u001b[0;34m\u001b[0m\u001b[0m\n",
      "\u001b[0;31mValueError\u001b[0m: Invalid parameter standardize_center for estimator Pipeline. Check the list of available parameters with `estimator.get_params().keys()`."
     ]
    }
   ],
   "source": [
    "random_search.fit(df[1:],df[0])"
   ]
  },
  {
   "cell_type": "code",
   "execution_count": null,
   "metadata": {
    "collapsed": true
   },
   "outputs": [],
   "source": []
  },
  {
   "cell_type": "code",
   "execution_count": null,
   "metadata": {
    "collapsed": true
   },
   "outputs": [],
   "source": []
  }
 ],
 "metadata": {
  "kernelspec": {
   "display_name": "Python 3",
   "language": "python",
   "name": "python3"
  },
  "language_info": {
   "codemirror_mode": {
    "name": "ipython",
    "version": 3
   },
   "file_extension": ".py",
   "mimetype": "text/x-python",
   "name": "python",
   "nbconvert_exporter": "python",
   "pygments_lexer": "ipython3",
   "version": "3.5.2"
  }
 },
 "nbformat": 4,
 "nbformat_minor": 0
}
