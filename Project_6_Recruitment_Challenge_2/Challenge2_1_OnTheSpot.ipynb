{
 "cells": [
  {
   "cell_type": "markdown",
   "metadata": {},
   "source": [
    "# \"On the Spot Recruitment\" Challenge\n",
    "\n",
    "This challenge was part of another recruitment effort. We were presented with 3 options, I chose this one, a 3-way classification problem. We had about an hour to complete the challenge. \n",
    "\n",
    "This solution got me through next round of interviews but I did not make the cut eventually. \n",
    "\n",
    "I've added commentary here but did not comment much during the session. The organization is neater here too. \n",
    "\n",
    "### Problem Statement: \n",
    "\n",
    "18 'cranial' measurements are taken. With these measures, we are trying to predict which skull is lurking in the closet.\n",
    "\n",
    "Skull Types: A, B, C\n",
    "\n",
    "Here is what we know: \n",
    "\n",
    "```[1115, np.nan, 748, 182, np.nan, np.nan, 178, 311, 756, 226, np.nan, np.nan, np.nan, 48, 1009, np.nan, 204, 593]```  \n",
    "\n",
    "### Summary:\n",
    "\n",
    "In all, accuracies varied, re-running the script yielded different predictions. Given enough time, I could've explored the data further either through scatterplots or groupings by class for any insight. Multicollinearity could also be a problem here. During the modeling stage, other Classification algorithms could've been tested and optimized through a GridSearch process. \n",
    "\n",
    "## Import Libraries"
   ]
  },
  {
   "cell_type": "code",
   "execution_count": 1,
   "metadata": {
    "collapsed": false
   },
   "outputs": [],
   "source": [
    "import pandas as pd\n",
    "import numpy as np\n",
    "from matplotlib import pyplot as plt\n",
    "%matplotlib inline\n",
    "\n",
    "from sklearn.preprocessing import StandardScaler\n",
    "from sklearn.ensemble import RandomForestClassifier\n",
    "from sklearn.linear_model import SGDClassifier\n",
    "from sklearn.cross_validation import train_test_split\n",
    "from sklearn.metrics import accuracy_score\n",
    "from sklearn.metrics import confusion_matrix"
   ]
  },
  {
   "cell_type": "markdown",
   "metadata": {},
   "source": [
    "## Imported Data and Inspected for Missing Values\n",
    "\n",
    "Few missing values, decided to impute. Defaulted to the Median. "
   ]
  },
  {
   "cell_type": "code",
   "execution_count": 2,
   "metadata": {
    "collapsed": false
   },
   "outputs": [],
   "source": [
    "df = pd.read_csv('challenge.csv')"
   ]
  },
  {
   "cell_type": "code",
   "execution_count": 3,
   "metadata": {
    "collapsed": false
   },
   "outputs": [
    {
     "name": "stdout",
     "output_type": "stream",
     "text": [
      "<class 'pandas.core.frame.DataFrame'>\n",
      "RangeIndex: 148 entries, 0 to 147\n",
      "Data columns (total 19 columns):\n",
      "response    148 non-null object\n",
      "P1          147 non-null float64\n",
      "P2          146 non-null float64\n",
      "P3          147 non-null float64\n",
      "P4          124 non-null float64\n",
      "P5          147 non-null float64\n",
      "P6          148 non-null int64\n",
      "P7          147 non-null float64\n",
      "P8          148 non-null int64\n",
      "P9          147 non-null float64\n",
      "P10         148 non-null int64\n",
      "P11         145 non-null float64\n",
      "P12         137 non-null float64\n",
      "P13         148 non-null int64\n",
      "P14         148 non-null int64\n",
      "P15         136 non-null float64\n",
      "P16         148 non-null int64\n",
      "P17         148 non-null int64\n",
      "P18         148 non-null int64\n",
      "dtypes: float64(10), int64(8), object(1)\n",
      "memory usage: 22.0+ KB\n"
     ]
    }
   ],
   "source": [
    "df.info()"
   ]
  },
  {
   "cell_type": "code",
   "execution_count": 4,
   "metadata": {
    "collapsed": false
   },
   "outputs": [],
   "source": [
    "medians = []\n",
    "for column in df.columns:\n",
    "    if column != 'response':\n",
    "        df[column] = df[column].fillna(df[column].median())\n",
    "        medians.append(df[column].median())"
   ]
  },
  {
   "cell_type": "markdown",
   "metadata": {},
   "source": [
    "Dataset is now complete"
   ]
  },
  {
   "cell_type": "code",
   "execution_count": 5,
   "metadata": {
    "collapsed": false
   },
   "outputs": [
    {
     "name": "stdout",
     "output_type": "stream",
     "text": [
      "<class 'pandas.core.frame.DataFrame'>\n",
      "RangeIndex: 148 entries, 0 to 147\n",
      "Data columns (total 19 columns):\n",
      "response    148 non-null object\n",
      "P1          148 non-null float64\n",
      "P2          148 non-null float64\n",
      "P3          148 non-null float64\n",
      "P4          148 non-null float64\n",
      "P5          148 non-null float64\n",
      "P6          148 non-null int64\n",
      "P7          148 non-null float64\n",
      "P8          148 non-null int64\n",
      "P9          148 non-null float64\n",
      "P10         148 non-null int64\n",
      "P11         148 non-null float64\n",
      "P12         148 non-null float64\n",
      "P13         148 non-null int64\n",
      "P14         148 non-null int64\n",
      "P15         148 non-null float64\n",
      "P16         148 non-null int64\n",
      "P17         148 non-null int64\n",
      "P18         148 non-null int64\n",
      "dtypes: float64(10), int64(8), object(1)\n",
      "memory usage: 22.0+ KB\n"
     ]
    }
   ],
   "source": [
    "df.info()"
   ]
  },
  {
   "cell_type": "markdown",
   "metadata": {},
   "source": [
    "Looked at a few variable distrubutions to assess data quality/shape. All are Normally distributed. No clear outliers."
   ]
  },
  {
   "cell_type": "code",
   "execution_count": 6,
   "metadata": {
    "collapsed": false
   },
   "outputs": [
    {
     "data": {
      "text/plain": [
       "<matplotlib.axes._subplots.AxesSubplot at 0x11759a940>"
      ]
     },
     "execution_count": 6,
     "metadata": {},
     "output_type": "execute_result"
    },
    {
     "data": {
      "image/png": "[encoded data removed]",
      "text/plain": [
       "<matplotlib.figure.Figure at 0x11759a6a0>"
      ]
     },
     "metadata": {},
     "output_type": "display_data"
    }
   ],
   "source": [
    "df.P18.hist()"
   ]
  },
  {
   "cell_type": "markdown",
   "metadata": {},
   "source": [
    "## Defined Explanatory and Response Variables"
   ]
  },
  {
   "cell_type": "code",
   "execution_count": 7,
   "metadata": {
    "collapsed": true
   },
   "outputs": [],
   "source": [
    "X = df.iloc[:,1:]\n",
    "y = df.response\n",
    "\n",
    "X_train, X_test, y_train, y_test = train_test_split(X, y, test_size=0.30)"
   ]
  },
  {
   "cell_type": "markdown",
   "metadata": {},
   "source": [
    "## Began Modeling"
   ]
  },
  {
   "cell_type": "code",
   "execution_count": 8,
   "metadata": {
    "collapsed": false
   },
   "outputs": [
    {
     "name": "stdout",
     "output_type": "stream",
     "text": [
      "Accuracy: 0.577777777778\n",
      "Confusion Matrix:\n",
      " [[14  0  1]\n",
      " [ 2  4 10]\n",
      " [ 4  2  8]]\n"
     ]
    }
   ],
   "source": [
    "scaler = StandardScaler()\n",
    "X_train = scaler.fit_transform(X_train)\n",
    "X_test = scaler.transform(X_test)\n",
    "\n",
    "model = RandomForestClassifier()\n",
    "model.fit(X_train,y_train)\n",
    "yhat = model.predict(X_test)\n",
    "\n",
    "acc = accuracy_score(y_test,yhat)\n",
    "\n",
    "labels = ['A','B','C']\n",
    "conf = confusion_matrix(y_test, yhat,labels)\n",
    "print (\"Accuracy:\", acc)\n",
    "print (\"Confusion Matrix:\\n\",conf)"
   ]
  },
  {
   "cell_type": "markdown",
   "metadata": {},
   "source": [
    "Decent Accuracy. Nothing stood out amongst explanatory variables. "
   ]
  },
  {
   "cell_type": "code",
   "execution_count": 9,
   "metadata": {
    "collapsed": false
   },
   "outputs": [
    {
     "data": {
      "text/plain": [
       "array([ 0.03880349,  0.0679266 ,  0.0148161 ,  0.03232708,  0.15187047,\n",
       "        0.04085575,  0.07179077,  0.03210685,  0.07648649,  0.03389254,\n",
       "        0.03358553,  0.07414945,  0.04658393,  0.05135086,  0.02226286,\n",
       "        0.0633526 ,  0.03176549,  0.11607313])"
      ]
     },
     "execution_count": 9,
     "metadata": {},
     "output_type": "execute_result"
    }
   ],
   "source": [
    "model.feature_importances_"
   ]
  },
  {
   "cell_type": "markdown",
   "metadata": {},
   "source": [
    "Okay. Let's make a prediction with this Model."
   ]
  },
  {
   "cell_type": "code",
   "execution_count": 10,
   "metadata": {
    "collapsed": false
   },
   "outputs": [
    {
     "name": "stdout",
     "output_type": "stream",
     "text": [
      "Original: [1115, nan, 748, 182, nan, nan, 178, 311, 756, 226, nan, nan, nan, 48, 1009, nan, 204, 593]\n",
      "Imputed: [1115, 1566.5, 748, 182, 669.0, 233.5, 178, 311, 756, 226, 268.0, 650.0, 125.0, 48, 1009, 138.0, 204, 593]\n",
      "Prediction: ['C']\n"
     ]
    }
   ],
   "source": [
    "example = [1115, np.nan, 748,182,np.nan,np.nan,178,311,756,226,np.nan,np.nan,np.nan,48,1009,np.nan, 204,593]\n",
    "\n",
    "example_imp = []\n",
    "for i in range(0,len(example)):\n",
    "    if example[i] is np.nan:\n",
    "        example_imp.append(medians[i])\n",
    "    else:\n",
    "        example_imp.append(example[i])\n",
    "\n",
    "print (\"Original:\", example)\n",
    "print (\"Imputed:\", example_imp) \n",
    "\n",
    "prediction = model.predict(np.asarray(example_imp).reshape(1,-1))\n",
    "\n",
    "print (\"Prediction:\",prediction)"
   ]
  },
  {
   "cell_type": "markdown",
   "metadata": {},
   "source": [
    "## Tried SGDClassifier to see if Accuracy could be improved"
   ]
  },
  {
   "cell_type": "code",
   "execution_count": 11,
   "metadata": {
    "collapsed": true
   },
   "outputs": [],
   "source": [
    "X = df.iloc[:,1:]\n",
    "y = df.response\n",
    "\n",
    "X_train, X_test, y_train, y_test = train_test_split(X, y, test_size=0.30)"
   ]
  },
  {
   "cell_type": "code",
   "execution_count": 12,
   "metadata": {
    "collapsed": false
   },
   "outputs": [
    {
     "name": "stdout",
     "output_type": "stream",
     "text": [
      "Accuracy: 0.711111111111\n",
      "Confusion Matrix:\n",
      " [[10  0  1]\n",
      " [ 0 11  6]\n",
      " [ 2  4 11]]\n"
     ]
    }
   ],
   "source": [
    "scaler = StandardScaler()\n",
    "X_train = scaler.fit_transform(X_train)\n",
    "X_test = scaler.transform(X_test)\n",
    "\n",
    "model = SGDClassifier(loss = 'hinge', alpha = 0.0001, penalty='l2') #varied params. on-the spot, not much difference\n",
    "model.fit(X_train,y_train)\n",
    "yhat = model.predict(X_test)\n",
    "\n",
    "acc = accuracy_score(y_test,yhat)\n",
    "\n",
    "labels = ['A','B','C']\n",
    "conf = confusion_matrix(y_test,yhat,labels)\n",
    "print (\"Accuracy:\", acc)\n",
    "print (\"Confusion Matrix:\\n\",conf)"
   ]
  },
  {
   "cell_type": "code",
   "execution_count": 13,
   "metadata": {
    "collapsed": false
   },
   "outputs": [
    {
     "name": "stdout",
     "output_type": "stream",
     "text": [
      "Original: [1115, nan, 748, 182, nan, nan, 178, 311, 756, 226, nan, nan, nan, 48, 1009, nan, 204, 593]\n",
      "Imputed: [1115, 1566.5, 748, 182, 669.0, 233.5, 178, 311, 756, 226, 268.0, 650.0, 125.0, 48, 1009, 138.0, 204, 593]\n",
      "Prediction: ['C']\n"
     ]
    }
   ],
   "source": [
    "example = [1115, np.nan, 748,182,np.nan,np.nan,178,311,756,226,np.nan,np.nan,np.nan,48,1009,np.nan, 204,593]\n",
    "\n",
    "example_imp = []\n",
    "for i in range(0,len(example)):\n",
    "    if example[i] is np.nan:\n",
    "        example_imp.append(medians[i])\n",
    "    else:\n",
    "        example_imp.append(example[i])\n",
    "\n",
    "print (\"Original:\", example)\n",
    "print (\"Imputed:\", example_imp) \n",
    "\n",
    "prediction = model.predict(np.asarray(example_imp).reshape(1,-1))\n",
    "\n",
    "print (\"Prediction:\",prediction)"
   ]
  }
 ],
 "metadata": {
  "kernelspec": {
   "display_name": "Python 3",
   "language": "python",
   "name": "python3"
  },
  "language_info": {
   "codemirror_mode": {
    "name": "ipython",
    "version": 3
   },
   "file_extension": ".py",
   "mimetype": "text/x-python",
   "name": "python",
   "nbconvert_exporter": "python",
   "pygments_lexer": "ipython3",
   "version": "3.5.2"
  }
 },
 "nbformat": 4,
 "nbformat_minor": 0
}
